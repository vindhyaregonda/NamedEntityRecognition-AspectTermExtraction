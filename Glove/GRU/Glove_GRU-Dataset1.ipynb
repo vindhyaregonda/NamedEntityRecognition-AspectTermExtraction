{
 "cells": [
  {
   "cell_type": "code",
   "execution_count": 1,
   "metadata": {},
   "outputs": [
    {
     "name": "stderr",
     "output_type": "stream",
     "text": [
      "2024-03-11 16:58:53.635156: I tensorflow/core/util/port.cc:113] oneDNN custom operations are on. You may see slightly different numerical results due to floating-point round-off errors from different computation orders. To turn them off, set the environment variable `TF_ENABLE_ONEDNN_OPTS=0`.\n",
      "2024-03-11 16:58:53.682411: E external/local_xla/xla/stream_executor/cuda/cuda_dnn.cc:9261] Unable to register cuDNN factory: Attempting to register factory for plugin cuDNN when one has already been registered\n",
      "2024-03-11 16:58:53.682446: E external/local_xla/xla/stream_executor/cuda/cuda_fft.cc:607] Unable to register cuFFT factory: Attempting to register factory for plugin cuFFT when one has already been registered\n",
      "2024-03-11 16:58:53.683695: E external/local_xla/xla/stream_executor/cuda/cuda_blas.cc:1515] Unable to register cuBLAS factory: Attempting to register factory for plugin cuBLAS when one has already been registered\n",
      "2024-03-11 16:58:53.693471: I tensorflow/core/platform/cpu_feature_guard.cc:182] This TensorFlow binary is optimized to use available CPU instructions in performance-critical operations.\n",
      "To enable the following instructions: AVX2 AVX512F AVX512_VNNI FMA, in other operations, rebuild TensorFlow with the appropriate compiler flags.\n",
      "2024-03-11 16:58:54.570771: W tensorflow/compiler/tf2tensorrt/utils/py_utils.cc:38] TF-TRT Warning: Could not find TensorRT\n"
     ]
    }
   ],
   "source": [
    "# !pip install transformers\n",
    "import json\n",
    "import numpy as np\n",
    "from tensorflow.keras.preprocessing.text import Tokenizer\n",
    "from tensorflow.keras.utils import to_categorical\n",
    "from tensorflow.keras.preprocessing.sequence import pad_sequences\n",
    "from tensorflow.keras.models import Sequential\n",
    "from tensorflow.keras.layers import Embedding, SimpleRNN, Dense, Dropout, GRU, LSTM\n",
    "from tensorflow.keras.losses import CategoricalCrossentropy\n",
    "from tensorflow.keras.optimizers import Adam\n",
    "from tensorflow.keras import regularizers\n",
    "import tensorflow as tf\n",
    "from sklearn.metrics import f1_score\n",
    "import matplotlib.pyplot as plt\n",
    "from sklearn.metrics import classification_report"
   ]
  },
  {
   "cell_type": "code",
   "execution_count": 2,
   "metadata": {},
   "outputs": [
    {
     "name": "stdout",
     "output_type": "stream",
     "text": [
      "2 Physical GPU, 1 Logical GPU\n"
     ]
    },
    {
     "name": "stderr",
     "output_type": "stream",
     "text": [
      "2024-03-11 16:59:25.764316: I tensorflow/core/common_runtime/gpu/gpu_device.cc:1929] Created device /job:localhost/replica:0/task:0/device:GPU:0 with 14408 MB memory:  -> device: 1, name: NVIDIA RTX A4000, pci bus id: 0000:af:00.0, compute capability: 8.6\n"
     ]
    }
   ],
   "source": [
    "# Check available GPUs\n",
    "gpus = tf.config.experimental.list_physical_devices('GPU')\n",
    "if gpus:\n",
    "    # Restrict TensorFlow to only use the second GPU\n",
    "    try:\n",
    "        tf.config.experimental.set_visible_devices(gpus[1], 'GPU')\n",
    "        logical_gpus = tf.config.experimental.list_logical_devices('GPU')\n",
    "        print(len(gpus), \"Physical GPU,\", len(logical_gpus), \"Logical GPU\")\n",
    "    except RuntimeError as e:\n",
    "        # Visible devices must be set before GPUs have been initialized\n",
    "        print(e)"
   ]
  },
  {
   "cell_type": "code",
   "execution_count": 3,
   "metadata": {},
   "outputs": [],
   "source": [
    "def load_data(file):\n",
    "    with open(file, 'r', encoding='utf-8') as f:\n",
    "        data = json.load(f)\n",
    "    return data\n",
    "\n",
    "data = load_data(\"/Dataset1-NamedEntityRecognition_train.json\")\n",
    "\n",
    "texts = [data[key][\"text\"] for key in data]\n",
    "words = [sentence.split() for sentence in texts]\n",
    "nested_labels = [data[key][\"labels\"] for key in data]"
   ]
  },
  {
   "cell_type": "code",
   "execution_count": 4,
   "metadata": {},
   "outputs": [
    {
     "data": {
      "text/plain": [
       "(9435, 70, 100)"
      ]
     },
     "execution_count": 4,
     "metadata": {},
     "output_type": "execute_result"
    }
   ],
   "source": [
    "def load_glove_embeddings(glove_file, embedding_dim):\n",
    "    \"\"\"Loads pre-trained GloVe word embeddings from a file.\n",
    "    Returns: dict: A dictionary mapping words to their corresponding embedding vectors.\n",
    "             np.ndarray: An embedding matrix with rows representing words and columns representing dimensions.\n",
    "    \"\"\"\n",
    "    embeddings_index = {}\n",
    "    embedding_matrix = np.zeros((len(word_to_id) + 1, embedding_dim))  # Add 1 for padding\n",
    "\n",
    "    with open(glove_file, encoding='utf-8') as f:\n",
    "        for line in f:\n",
    "            values = line.split()\n",
    "            word = values[0]\n",
    "            coefs = np.asarray(values[1:], dtype='float32')\n",
    "            embeddings_index[word] = coefs\n",
    "\n",
    "    for word, index in word_to_id.items():\n",
    "        embedding_vector = embeddings_index.get(word)\n",
    "        if embedding_vector is not None:\n",
    "            embedding_matrix[index] = embedding_vector\n",
    "        else:\n",
    "            embedding_matrix[index] = np.zeros(embedding_dim)\n",
    "\n",
    "    return embeddings_index, embedding_matrix\n",
    "\n",
    "# Replace with your downloaded GloVe file path and desired dimensionality\n",
    "glove_file = \"glove.6B.100d.txt\"\n",
    "embedding_dim = 100\n",
    "\n",
    "# Create a dictionary mapping words to their unique IDs (optional for vectorization)\n",
    "word_to_id = {}\n",
    "next_id = 1\n",
    "for sentence in words:  # Iterate through sentences in the nested list\n",
    "    for word in sentence:\n",
    "        if word not in word_to_id:\n",
    "            word_to_id[word] = next_id\n",
    "            next_id += 1\n",
    "\n",
    "# Load the GloVe embeddings\n",
    "embeddings_index, embedding_matrix = load_glove_embeddings(glove_file, embedding_dim)\n",
    "\n",
    "# Vectorization of words\n",
    "word_embeddings = []\n",
    "for sentence in words:\n",
    "    sentence_embedding = []\n",
    "    for word in sentence:\n",
    "        vector = embeddings_index.get(word)\n",
    "        if vector is not None:\n",
    "            sentence_embedding.append(vector)\n",
    "        else:\n",
    "            sentence_embedding.append(np.zeros(100)) # dimension of the glove file used.\n",
    "    word_embeddings.append(sentence_embedding)\n",
    "\n",
    "for sentence in word_embeddings:\n",
    "    sentence_length = len(sentence)\n",
    "    if sentence_length < 70: #max length of sentence = 70\n",
    "        while len(sentence) < 70:\n",
    "            sentence.append(np.zeros(100))     \n",
    "\n",
    "# padding to convert into (9435, 70, 100)  from (9435, variable_length, 70)           \n",
    "for i in range(len(word_embeddings)):\n",
    "    word_embeddings[i] = np.array(word_embeddings[i])\n",
    "word_embeddings = np.array(word_embeddings)\n",
    "word_embeddings.shape "
   ]
  },
  {
   "cell_type": "code",
   "execution_count": 6,
   "metadata": {},
   "outputs": [
    {
     "name": "stdout",
     "output_type": "stream",
     "text": [
      "{'I_ORG', 'B_WITNESS', 'B_STATUTE', 'B_PRECEDENT', 'I_JUDGE', 'I_GPE', 'I_DATE', 'B_DATE', 'B_ORG', 'I_COURT', 'B_RESPONDENT', 'B_GPE', 'I_CASE_NUMBER', 'I_WITNESS', 'I_RESPONDENT', 'B_PETITIONER', 'B_PROVISION', 'B_JUDGE', 'I_PETITIONER', 'B_OTHER_PERSON', 'I_PRECEDENT', 'I_STATUTE', 'I_PROVISION', 'O', 'B_CASE_NUMBER', 'I_OTHER_PERSON', 'B_COURT'}\n"
     ]
    }
   ],
   "source": [
    "flat_labels = [label for sublist in nested_labels for label in sublist]\n",
    "\n",
    "# Find unique labels\n",
    "unique_labels = set(flat_labels)\n",
    "\n",
    "print(unique_labels)\n",
    "\n",
    "label2idx = {label: idx for idx, label in enumerate(unique_labels)}\n",
    "labels_idx = [[label2idx[label] for label in sublist] for sublist in nested_labels]\n",
    "\n",
    "# One-hot encode labels\n",
    "num_classes = len(unique_labels)\n",
    "one_hot_labels = [to_categorical(sublist, num_classes=num_classes) for sublist in labels_idx]\n",
    "\n",
    "def convert_to_list(lst):\n",
    "    if isinstance(lst, np.ndarray):\n",
    "        return lst.tolist()\n",
    "    elif isinstance(lst, list):\n",
    "        return [convert_to_list(item) for item in lst]\n",
    "    else:\n",
    "        return lst\n",
    "one_hot_labels = convert_to_list(one_hot_labels)"
   ]
  },
  {
   "cell_type": "code",
   "execution_count": 7,
   "metadata": {},
   "outputs": [
    {
     "name": "stdout",
     "output_type": "stream",
     "text": [
      "{'I_ORG': 0, 'B_WITNESS': 1, 'B_STATUTE': 2, 'B_PRECEDENT': 3, 'I_JUDGE': 4, 'I_GPE': 5, 'I_DATE': 6, 'B_DATE': 7, 'B_ORG': 8, 'I_COURT': 9, 'B_RESPONDENT': 10, 'B_GPE': 11, 'I_CASE_NUMBER': 12, 'I_WITNESS': 13, 'I_RESPONDENT': 14, 'B_PETITIONER': 15, 'B_PROVISION': 16, 'B_JUDGE': 17, 'I_PETITIONER': 18, 'B_OTHER_PERSON': 19, 'I_PRECEDENT': 20, 'I_STATUTE': 21, 'I_PROVISION': 22, 'O': 23, 'B_CASE_NUMBER': 24, 'I_OTHER_PERSON': 25, 'B_COURT': 26}\n"
     ]
    }
   ],
   "source": [
    "print(label2idx)"
   ]
  },
  {
   "cell_type": "code",
   "execution_count": 8,
   "metadata": {},
   "outputs": [
    {
     "data": {
      "text/plain": [
       "(9435, 70, 27)"
      ]
     },
     "execution_count": 8,
     "metadata": {},
     "output_type": "execute_result"
    }
   ],
   "source": [
    "for sentence in one_hot_labels:\n",
    "    sentence_length = len(sentence)\n",
    "    if sentence_length < 70: #max length of sentence = 70\n",
    "        while len(sentence) < 70:\n",
    "            sentence.append([0., 0., 0., 0., 0., 0., 0., 0., 0., 0., 0., 0., 0., 0., 0., 0., 0., 0., 0., 0., 0., 0., 0., 1., 0., 0., 0.])\n",
    "\n",
    "one_hot_labels = np.array(one_hot_labels)\n",
    "one_hot_labels.shape"
   ]
  },
  {
   "cell_type": "code",
   "execution_count": 9,
   "metadata": {},
   "outputs": [
    {
     "name": "stderr",
     "output_type": "stream",
     "text": [
      "2024-03-11 17:08:17.116416: I external/local_tsl/tsl/platform/default/subprocess.cc:304] Start cannot spawn child process: No such file or directory\n",
      "2024-03-11 17:08:20.050416: I external/local_xla/xla/stream_executor/cuda/cuda_dnn.cc:454] Loaded cuDNN version 8902\n",
      "2024-03-11 17:08:20.272719: I external/local_xla/xla/service/service.cc:168] XLA service 0x7f0ebc91e1c0 initialized for platform CUDA (this does not guarantee that XLA will be used). Devices:\n",
      "2024-03-11 17:08:20.272757: I external/local_xla/xla/service/service.cc:176]   StreamExecutor device (0): NVIDIA RTX A4000, Compute Capability 8.6\n",
      "2024-03-11 17:08:20.280934: I tensorflow/compiler/mlir/tensorflow/utils/dump_mlir_util.cc:269] disabling MLIR crash reproducer, set env var `MLIR_CRASH_REPRODUCER_DIRECTORY` to enable.\n",
      "WARNING: All log messages before absl::InitializeLog() is called are written to STDERR\n",
      "I0000 00:00:1710176900.454182 1384342 device_compiler.h:186] Compiled cluster using XLA!  This line is logged at most once for the lifetime of the process.\n"
     ]
    },
    {
     "name": "stdout",
     "output_type": "stream",
     "text": [
      "251/251 [==============================] - 9s 21ms/step - loss: 0.5208 - accuracy: 0.9246 - val_loss: 0.3335 - val_accuracy: 0.9288\n",
      "251/251 [==============================] - 3s 9ms/step\n",
      "45/45 [==============================] - 0s 8ms/step\n",
      "Epoch 1: Training Macro-F1-score: 0.056773432326856214, Validation Macro-F1-score: 0.055064779427425346\n",
      "Epoch 1: Training Accuracy: 0.9246272444725037, Validation Accuracy: 0.9288135766983032\n",
      "251/251 [==============================] - 5s 20ms/step - loss: 0.2895 - accuracy: 0.9357 - val_loss: 0.2811 - val_accuracy: 0.9333\n",
      "251/251 [==============================] - 2s 8ms/step\n",
      "45/45 [==============================] - 0s 8ms/step\n",
      "Epoch 2: Training Macro-F1-score: 0.09943668107492397, Validation Macro-F1-score: 0.0984737751294421\n",
      "Epoch 2: Training Accuracy: 0.9356617331504822, Validation Accuracy: 0.9332829117774963\n",
      "251/251 [==============================] - 5s 19ms/step - loss: 0.2499 - accuracy: 0.9403 - val_loss: 0.2564 - val_accuracy: 0.9376\n",
      "251/251 [==============================] - 2s 8ms/step\n",
      "45/45 [==============================] - 0s 8ms/step\n",
      "Epoch 3: Training Macro-F1-score: 0.17364278400817015, Validation Macro-F1-score: 0.1631841009852091\n",
      "Epoch 3: Training Accuracy: 0.9403363466262817, Validation Accuracy: 0.9375907778739929\n",
      "251/251 [==============================] - 5s 19ms/step - loss: 0.2274 - accuracy: 0.9434 - val_loss: 0.2416 - val_accuracy: 0.9399\n",
      "251/251 [==============================] - 2s 9ms/step\n",
      "45/45 [==============================] - 0s 8ms/step\n",
      "Epoch 4: Training Macro-F1-score: 0.235036357864853, Validation Macro-F1-score: 0.2233683574826507\n",
      "Epoch 4: Training Accuracy: 0.9434022903442383, Validation Accuracy: 0.9399112462997437\n",
      "251/251 [==============================] - 5s 19ms/step - loss: 0.2159 - accuracy: 0.9450 - val_loss: 0.2284 - val_accuracy: 0.9418\n",
      "251/251 [==============================] - 2s 8ms/step\n",
      "45/45 [==============================] - 0s 8ms/step\n",
      "Epoch 5: Training Macro-F1-score: 0.2476295841846505, Validation Macro-F1-score: 0.23640771405439395\n",
      "Epoch 5: Training Accuracy: 0.9449628591537476, Validation Accuracy: 0.9418382048606873\n",
      "251/251 [==============================] - 5s 19ms/step - loss: 0.2076 - accuracy: 0.9461 - val_loss: 0.2310 - val_accuracy: 0.9416\n",
      "251/251 [==============================] - 2s 8ms/step\n",
      "45/45 [==============================] - 0s 8ms/step\n",
      "Epoch 6: Training Macro-F1-score: 0.2276272281509233, Validation Macro-F1-score: 0.2169831259580136\n",
      "Epoch 6: Training Accuracy: 0.9461421966552734, Validation Accuracy: 0.9416061043739319\n",
      "251/251 [==============================] - 5s 19ms/step - loss: 0.2014 - accuracy: 0.9470 - val_loss: 0.2194 - val_accuracy: 0.9433\n",
      "251/251 [==============================] - 2s 8ms/step\n",
      "45/45 [==============================] - 0s 9ms/step\n",
      "Epoch 7: Training Macro-F1-score: 0.2831782701147071, Validation Macro-F1-score: 0.2646935783448694\n",
      "Epoch 7: Training Accuracy: 0.9470276236534119, Validation Accuracy: 0.9433212280273438\n",
      "251/251 [==============================] - 5s 19ms/step - loss: 0.1956 - accuracy: 0.9481 - val_loss: 0.2175 - val_accuracy: 0.9432\n",
      "251/251 [==============================] - 2s 8ms/step\n",
      "45/45 [==============================] - 0s 8ms/step\n",
      "Epoch 8: Training Macro-F1-score: 0.2946716556502301, Validation Macro-F1-score: 0.27606446213510427\n",
      "Epoch 8: Training Accuracy: 0.9481178522109985, Validation Accuracy: 0.9432304501533508\n",
      "251/251 [==============================] - 5s 19ms/step - loss: 0.1918 - accuracy: 0.9486 - val_loss: 0.2147 - val_accuracy: 0.9439\n",
      "251/251 [==============================] - 2s 8ms/step\n",
      "45/45 [==============================] - 0s 9ms/step\n",
      "Epoch 9: Training Macro-F1-score: 0.2859408602803689, Validation Macro-F1-score: 0.26309774420107446\n",
      "Epoch 9: Training Accuracy: 0.9485667943954468, Validation Accuracy: 0.9439063668251038\n",
      "251/251 [==============================] - 5s 19ms/step - loss: 0.1876 - accuracy: 0.9495 - val_loss: 0.2145 - val_accuracy: 0.9433\n",
      "251/251 [==============================] - 2s 8ms/step\n",
      "45/45 [==============================] - 0s 8ms/step\n",
      "Epoch 10: Training Macro-F1-score: 0.3262314242053033, Validation Macro-F1-score: 0.2963843143602554\n",
      "Epoch 10: Training Accuracy: 0.949505627155304, Validation Accuracy: 0.9432909488677979\n",
      "251/251 [==============================] - 5s 18ms/step - loss: 0.1829 - accuracy: 0.9502 - val_loss: 0.2138 - val_accuracy: 0.9430\n",
      "251/251 [==============================] - 2s 9ms/step\n",
      "45/45 [==============================] - 0s 8ms/step\n",
      "Epoch 11: Training Macro-F1-score: 0.34762369592493664, Validation Macro-F1-score: 0.3071716620768254\n",
      "Epoch 11: Training Accuracy: 0.9502360224723816, Validation Accuracy: 0.9430387616157532\n",
      "251/251 [==============================] - 5s 18ms/step - loss: 0.1795 - accuracy: 0.9508 - val_loss: 0.2164 - val_accuracy: 0.9435\n",
      "251/251 [==============================] - 2s 8ms/step\n",
      "45/45 [==============================] - 0s 8ms/step\n",
      "Epoch 12: Training Macro-F1-score: 0.33315213691225654, Validation Macro-F1-score: 0.2965604206257923\n",
      "Epoch 12: Training Accuracy: 0.9507758617401123, Validation Accuracy: 0.9434725642204285\n",
      "251/251 [==============================] - 5s 18ms/step - loss: 0.1747 - accuracy: 0.9514 - val_loss: 0.2178 - val_accuracy: 0.9426\n",
      "251/251 [==============================] - 2s 8ms/step\n",
      "45/45 [==============================] - 0s 8ms/step\n",
      "Epoch 13: Training Macro-F1-score: 0.3685505396958082, Validation Macro-F1-score: 0.3196021954051022\n",
      "Epoch 13: Training Accuracy: 0.951413631439209, Validation Accuracy: 0.9425645470619202\n",
      "251/251 [==============================] - 5s 19ms/step - loss: 0.1713 - accuracy: 0.9523 - val_loss: 0.2152 - val_accuracy: 0.9434\n",
      "251/251 [==============================] - 2s 8ms/step\n",
      "45/45 [==============================] - 0s 8ms/step\n",
      "Epoch 14: Training Macro-F1-score: 0.3454471503434026, Validation Macro-F1-score: 0.2984703248636877\n",
      "Epoch 14: Training Accuracy: 0.9522936344146729, Validation Accuracy: 0.9434322118759155\n",
      "251/251 [==============================] - 5s 19ms/step - loss: 0.1669 - accuracy: 0.9532 - val_loss: 0.2150 - val_accuracy: 0.9424\n",
      "251/251 [==============================] - 2s 8ms/step\n",
      "45/45 [==============================] - 0s 8ms/step\n",
      "Epoch 15: Training Macro-F1-score: 0.39735253187939434, Validation Macro-F1-score: 0.32590696562004146\n",
      "Epoch 15: Training Accuracy: 0.9532093405723572, Validation Accuracy: 0.9423829913139343\n",
      "251/251 [==============================] - 5s 19ms/step - loss: 0.1633 - accuracy: 0.9541 - val_loss: 0.2154 - val_accuracy: 0.9417\n",
      "251/251 [==============================] - 2s 8ms/step\n",
      "45/45 [==============================] - 0s 8ms/step\n",
      "Epoch 16: Training Macro-F1-score: 0.3941981281201138, Validation Macro-F1-score: 0.3218707810182337\n",
      "Epoch 16: Training Accuracy: 0.9540697932243347, Validation Accuracy: 0.9417070150375366\n",
      "251/251 [==============================] - 5s 19ms/step - loss: 0.1592 - accuracy: 0.9548 - val_loss: 0.2168 - val_accuracy: 0.9434\n",
      "251/251 [==============================] - 2s 9ms/step\n",
      "45/45 [==============================] - 0s 8ms/step\n",
      "Epoch 17: Training Macro-F1-score: 0.3929841825011173, Validation Macro-F1-score: 0.30968985161020113\n",
      "Epoch 17: Training Accuracy: 0.9548073410987854, Validation Accuracy: 0.9434422850608826\n",
      "251/251 [==============================] - 5s 19ms/step - loss: 0.1543 - accuracy: 0.9558 - val_loss: 0.2259 - val_accuracy: 0.9417\n",
      "251/251 [==============================] - 2s 9ms/step\n",
      "45/45 [==============================] - 0s 8ms/step\n",
      "Epoch 18: Training Macro-F1-score: 0.4104546408594435, Validation Macro-F1-score: 0.31801729092316444\n",
      "Epoch 18: Training Accuracy: 0.9558477401733398, Validation Accuracy: 0.9416868686676025\n",
      "251/251 [==============================] - 5s 19ms/step - loss: 0.1506 - accuracy: 0.9567 - val_loss: 0.2269 - val_accuracy: 0.9406\n",
      "251/251 [==============================] - 2s 9ms/step\n",
      "45/45 [==============================] - 0s 8ms/step\n",
      "Epoch 19: Training Macro-F1-score: 0.449266483467746, Validation Macro-F1-score: 0.3454118653433322\n",
      "Epoch 19: Training Accuracy: 0.9567473530769348, Validation Accuracy: 0.9406375885009766\n",
      "251/251 [==============================] - 5s 19ms/step - loss: 0.1465 - accuracy: 0.9578 - val_loss: 0.2295 - val_accuracy: 0.9424\n",
      "251/251 [==============================] - 2s 8ms/step\n",
      "45/45 [==============================] - 0s 8ms/step\n",
      "Epoch 20: Training Macro-F1-score: 0.40719055602740506, Validation Macro-F1-score: 0.29371667645256483\n",
      "Epoch 20: Training Accuracy: 0.957798421382904, Validation Accuracy: 0.9424031376838684\n",
      "251/251 [==============================] - 5s 19ms/step - loss: 0.1426 - accuracy: 0.9588 - val_loss: 0.2341 - val_accuracy: 0.9406\n",
      "251/251 [==============================] - 2s 9ms/step\n",
      "45/45 [==============================] - 0s 9ms/step\n",
      "Epoch 21: Training Macro-F1-score: 0.44741180419847126, Validation Macro-F1-score: 0.31650251901609006\n",
      "Epoch 21: Training Accuracy: 0.9587604403495789, Validation Accuracy: 0.9406275153160095\n",
      "251/251 [==============================] - 5s 19ms/step - loss: 0.1385 - accuracy: 0.9597 - val_loss: 0.2346 - val_accuracy: 0.9416\n",
      "251/251 [==============================] - 2s 8ms/step\n",
      "45/45 [==============================] - 0s 8ms/step\n",
      "Epoch 22: Training Macro-F1-score: 0.467291992507985, Validation Macro-F1-score: 0.3191458469543055\n",
      "Epoch 22: Training Accuracy: 0.9596654176712036, Validation Accuracy: 0.9416263103485107\n",
      "251/251 [==============================] - 5s 19ms/step - loss: 0.1344 - accuracy: 0.9607 - val_loss: 0.2401 - val_accuracy: 0.9399\n",
      "251/251 [==============================] - 2s 9ms/step\n",
      "45/45 [==============================] - 0s 8ms/step\n",
      "Epoch 23: Training Macro-F1-score: 0.4958450176095705, Validation Macro-F1-score: 0.33516313365262074\n",
      "Epoch 23: Training Accuracy: 0.9607040286064148, Validation Accuracy: 0.9398607611656189\n",
      "251/251 [==============================] - 5s 19ms/step - loss: 0.1312 - accuracy: 0.9616 - val_loss: 0.2462 - val_accuracy: 0.9405\n",
      "251/251 [==============================] - 2s 8ms/step\n",
      "45/45 [==============================] - 0s 8ms/step\n",
      "Epoch 24: Training Macro-F1-score: 0.48477946707854186, Validation Macro-F1-score: 0.3144564927635904\n",
      "Epoch 24: Training Accuracy: 0.9616197347640991, Validation Accuracy: 0.9404862523078918\n",
      "251/251 [==============================] - 5s 19ms/step - loss: 0.1271 - accuracy: 0.9625 - val_loss: 0.2519 - val_accuracy: 0.9391\n",
      "251/251 [==============================] - 2s 9ms/step\n",
      "45/45 [==============================] - 0s 8ms/step\n",
      "Epoch 25: Training Macro-F1-score: 0.49104634292783556, Validation Macro-F1-score: 0.31727267209119886\n",
      "Epoch 25: Training Accuracy: 0.9625353813171387, Validation Accuracy: 0.9391343593597412\n",
      "251/251 [==============================] - 5s 19ms/step - loss: 0.1231 - accuracy: 0.9638 - val_loss: 0.2543 - val_accuracy: 0.9388\n",
      "251/251 [==============================] - 2s 9ms/step\n",
      "45/45 [==============================] - 0s 8ms/step\n",
      "Epoch 26: Training Macro-F1-score: 0.5188456339926619, Validation Macro-F1-score: 0.3174338459712827\n",
      "Epoch 26: Training Accuracy: 0.9638465642929077, Validation Accuracy: 0.9388216137886047\n",
      "251/251 [==============================] - 5s 18ms/step - loss: 0.1199 - accuracy: 0.9646 - val_loss: 0.2614 - val_accuracy: 0.9391\n",
      "251/251 [==============================] - 2s 8ms/step\n",
      "45/45 [==============================] - 0s 8ms/step\n",
      "Epoch 27: Training Macro-F1-score: 0.5350666363181483, Validation Macro-F1-score: 0.32144173339506366\n",
      "Epoch 27: Training Accuracy: 0.9646304249763489, Validation Accuracy: 0.9391041398048401\n",
      "251/251 [==============================] - 5s 19ms/step - loss: 0.1158 - accuracy: 0.9656 - val_loss: 0.2721 - val_accuracy: 0.9393\n",
      "251/251 [==============================] - 2s 9ms/step\n",
      "45/45 [==============================] - 0s 8ms/step\n",
      "Epoch 28: Training Macro-F1-score: 0.5437559108551427, Validation Macro-F1-score: 0.3149309852983659\n",
      "Epoch 28: Training Accuracy: 0.9655835032463074, Validation Accuracy: 0.9392958283424377\n",
      "251/251 [==============================] - 5s 19ms/step - loss: 0.1119 - accuracy: 0.9670 - val_loss: 0.2757 - val_accuracy: 0.9382\n",
      "251/251 [==============================] - 2s 8ms/step\n",
      "45/45 [==============================] - 0s 8ms/step\n",
      "Epoch 29: Training Macro-F1-score: 0.5605935898381033, Validation Macro-F1-score: 0.31683088869617443\n",
      "Epoch 29: Training Accuracy: 0.9669908881187439, Validation Accuracy: 0.9382061958312988\n",
      "251/251 [==============================] - 5s 18ms/step - loss: 0.1097 - accuracy: 0.9677 - val_loss: 0.2792 - val_accuracy: 0.9388\n",
      "251/251 [==============================] - 2s 8ms/step\n",
      "45/45 [==============================] - 0s 8ms/step\n",
      "Epoch 30: Training Macro-F1-score: 0.5647803951794762, Validation Macro-F1-score: 0.3144924326031267\n",
      "Epoch 30: Training Accuracy: 0.9676803350448608, Validation Accuracy: 0.9387611150741577\n",
      "251/251 [==============================] - 5s 18ms/step - loss: 0.1076 - accuracy: 0.9680 - val_loss: 0.2782 - val_accuracy: 0.9377\n",
      "251/251 [==============================] - 2s 8ms/step\n",
      "45/45 [==============================] - 0s 8ms/step\n",
      "Epoch 31: Training Macro-F1-score: 0.5910051384500885, Validation Macro-F1-score: 0.3210244793095835\n",
      "Epoch 31: Training Accuracy: 0.968004584312439, Validation Accuracy: 0.9377017617225647\n",
      "251/251 [==============================] - 4s 18ms/step - loss: 0.1031 - accuracy: 0.9697 - val_loss: 0.2929 - val_accuracy: 0.9387\n",
      "251/251 [==============================] - 2s 8ms/step\n",
      "45/45 [==============================] - 0s 8ms/step\n",
      "Epoch 32: Training Macro-F1-score: 0.5934640171534619, Validation Macro-F1-score: 0.31810972763585776\n",
      "Epoch 32: Training Accuracy: 0.969730794429779, Validation Accuracy: 0.9387005567550659\n",
      "251/251 [==============================] - 4s 18ms/step - loss: 0.1000 - accuracy: 0.9705 - val_loss: 0.3033 - val_accuracy: 0.9384\n",
      "251/251 [==============================] - 2s 8ms/step\n",
      "45/45 [==============================] - 0s 8ms/step\n",
      "Epoch 33: Training Macro-F1-score: 0.601515169119083, Validation Macro-F1-score: 0.311783980222945\n",
      "Epoch 33: Training Accuracy: 0.9705146551132202, Validation Accuracy: 0.9383575320243835\n",
      "251/251 [==============================] - 4s 18ms/step - loss: 0.0976 - accuracy: 0.9712 - val_loss: 0.3087 - val_accuracy: 0.9378\n",
      "251/251 [==============================] - 2s 8ms/step\n",
      "45/45 [==============================] - 0s 8ms/step\n",
      "Epoch 34: Training Macro-F1-score: 0.6135417127646965, Validation Macro-F1-score: 0.3141447299208599\n",
      "Epoch 34: Training Accuracy: 0.9711880683898926, Validation Accuracy: 0.9377925992012024\n",
      "251/251 [==============================] - 5s 18ms/step - loss: 0.0949 - accuracy: 0.9720 - val_loss: 0.3037 - val_accuracy: 0.9354\n",
      "251/251 [==============================] - 2s 8ms/step\n",
      "45/45 [==============================] - 0s 8ms/step\n",
      "Epoch 35: Training Macro-F1-score: 0.6602308798986667, Validation Macro-F1-score: 0.3273530973607015\n",
      "Epoch 35: Training Accuracy: 0.9719647765159607, Validation Accuracy: 0.9354217052459717\n",
      "251/251 [==============================] - 5s 18ms/step - loss: 0.0925 - accuracy: 0.9728 - val_loss: 0.3154 - val_accuracy: 0.9374\n",
      "251/251 [==============================] - 2s 8ms/step\n",
      "45/45 [==============================] - 0s 8ms/step\n",
      "Epoch 36: Training Macro-F1-score: 0.6410713489429948, Validation Macro-F1-score: 0.316390450448479\n",
      "Epoch 36: Training Accuracy: 0.9728466272354126, Validation Accuracy: 0.9374293684959412\n",
      "251/251 [==============================] - 4s 18ms/step - loss: 0.0901 - accuracy: 0.9735 - val_loss: 0.3224 - val_accuracy: 0.9368\n",
      "251/251 [==============================] - 2s 8ms/step\n",
      "45/45 [==============================] - 0s 8ms/step\n",
      "Epoch 37: Training Macro-F1-score: 0.6410414655205107, Validation Macro-F1-score: 0.3095098666014407\n",
      "Epoch 37: Training Accuracy: 0.9735449552536011, Validation Accuracy: 0.9368341565132141\n",
      "251/251 [==============================] - 4s 18ms/step - loss: 0.0877 - accuracy: 0.9743 - val_loss: 0.3257 - val_accuracy: 0.9359\n",
      "251/251 [==============================] - 2s 8ms/step\n",
      "45/45 [==============================] - 0s 8ms/step\n",
      "Epoch 38: Training Macro-F1-score: 0.6783906353665339, Validation Macro-F1-score: 0.3237403869968007\n",
      "Epoch 38: Training Accuracy: 0.9742896556854248, Validation Accuracy: 0.9359362125396729\n",
      "251/251 [==============================] - 4s 18ms/step - loss: 0.0856 - accuracy: 0.9750 - val_loss: 0.3329 - val_accuracy: 0.9348\n",
      "251/251 [==============================] - 2s 8ms/step\n",
      "45/45 [==============================] - 0s 8ms/step\n",
      "Epoch 39: Training Macro-F1-score: 0.6879497898558751, Validation Macro-F1-score: 0.3200261724419208\n",
      "Epoch 39: Training Accuracy: 0.9750271439552307, Validation Accuracy: 0.9347760081291199\n",
      "251/251 [==============================] - 5s 19ms/step - loss: 0.0830 - accuracy: 0.9757 - val_loss: 0.3448 - val_accuracy: 0.9356\n",
      "251/251 [==============================] - 2s 8ms/step\n",
      "45/45 [==============================] - 0s 8ms/step\n",
      "Epoch 40: Training Macro-F1-score: 0.695252256550791, Validation Macro-F1-score: 0.3215275678658466\n",
      "Epoch 40: Training Accuracy: 0.9756898880004883, Validation Accuracy: 0.9355932474136353\n",
      "251/251 [==============================] - 5s 19ms/step - loss: 0.0811 - accuracy: 0.9763 - val_loss: 0.3410 - val_accuracy: 0.9360\n",
      "251/251 [==============================] - 2s 8ms/step\n",
      "45/45 [==============================] - 0s 8ms/step\n",
      "Epoch 41: Training Macro-F1-score: 0.6995822586485645, Validation Macro-F1-score: 0.32297227437789794\n",
      "Epoch 41: Training Accuracy: 0.9763134121894836, Validation Accuracy: 0.9360471963882446\n",
      "251/251 [==============================] - 5s 18ms/step - loss: 0.0799 - accuracy: 0.9766 - val_loss: 0.3489 - val_accuracy: 0.9344\n",
      "251/251 [==============================] - 2s 8ms/step\n",
      "45/45 [==============================] - 0s 8ms/step\n",
      "Epoch 42: Training Macro-F1-score: 0.7051426958329947, Validation Macro-F1-score: 0.3067947970105105\n",
      "Epoch 42: Training Accuracy: 0.9766251444816589, Validation Accuracy: 0.9343624114990234\n"
     ]
    },
    {
     "data": {
      "image/png": "[encoded data removed]",
      "text/plain": [
       "<Figure size 640x480 with 1 Axes>"
      ]
     },
     "metadata": {},
     "output_type": "display_data"
    },
    {
     "data": {
      "image/png": "[encoded data removed]",
      "text/plain": [
       "<Figure size 640x480 with 1 Axes>"
      ]
     },
     "metadata": {},
     "output_type": "display_data"
    },
    {
     "data": {
      "image/png": "[encoded data removed]",
      "text/plain": [
       "<Figure size 640x480 with 1 Axes>"
      ]
     },
     "metadata": {},
     "output_type": "display_data"
    }
   ],
   "source": [
    "# 1. Prepare the data (already padded)\n",
    "X_train_padded = word_embeddings  # Assuming padded word embeddings\n",
    "y_train_padded = one_hot_labels     # Assuming padded labels\n",
    "\n",
    "# Split into training and validation sets (85-15 split)\n",
    "split = int(0.85 * len(X_train_padded))\n",
    "X_train, X_val = X_train_padded[:split], X_train_padded[split:]\n",
    "y_train, y_val = y_train_padded[:split], y_train_padded[split:]\n",
    "\n",
    "# 2. Define the RNN model architecture\n",
    "model = tf.keras.Sequential([\n",
    "    tf.keras.layers.GRU(units=128, return_sequences=True, input_shape=(70, 100)),\n",
    "    tf.keras.layers.Dense(120, activation='relu'),\n",
    "    tf.keras.layers.Dense(100, activation='tanh'),\n",
    "    tf.keras.layers.Dense(27, activation='softmax')\n",
    "])\n",
    "\n",
    "# Compile the model\n",
    "model.compile(loss='categorical_crossentropy', optimizer='adam', metrics=['accuracy'])\n",
    "\n",
    "# Define early stopping callback\n",
    "# early_stopping = EarlyStopping(monitor='val_loss', patience=3, verbose=1, restore_best_weights=True)\n",
    "\n",
    "# Train the model and Initialize lists to store F1-score values\n",
    "train_f1_scores = []\n",
    "val_f1_scores = []\n",
    "train_losses = []\n",
    "val_losses = []\n",
    "train_acc = []\n",
    "val_acc = []\n",
    "\n",
    "train_f1_scores_per_label = []\n",
    "val_f1_scores_per_label = []\n",
    "\n",
    "for epoch in range(42):\n",
    "    # Perform one epoch of training\n",
    "    history = model.fit(X_train, y_train, epochs=1, batch_size=32, verbose=True, validation_data=(X_val, y_val))\n",
    "\n",
    "    # Get predictions for training and validation data\n",
    "    y_train_pred = model.predict(X_train)\n",
    "    y_val_pred = model.predict(X_val)\n",
    "\n",
    "    # Convert one-hot encoded labels back to integer labels\n",
    "    y_train_true = np.argmax(y_train, axis=-1)\n",
    "    y_val_true = np.argmax(y_val, axis=-1)\n",
    "\n",
    "    # Calculate F1-score for training and validation data\n",
    "    train_f1 = f1_score(y_train_true.flatten(), y_train_pred.argmax(axis=2).flatten(), average='macro')\n",
    "    val_f1 = f1_score(y_val_true.flatten(), y_val_pred.argmax(axis=2).flatten(), average='macro')\n",
    "\n",
    "    train_f1_per_label = f1_score(y_train_true.flatten(), y_train_pred.argmax(axis=2).flatten(), average=None)\n",
    "    val_f1_per_label = f1_score(y_val_true.flatten(), y_val_pred.argmax(axis=2).flatten(), average=None)\n",
    "    \n",
    "    # Append F1-score values to lists\n",
    "    train_f1_scores_per_label.append(train_f1_per_label)\n",
    "    val_f1_scores_per_label.append(val_f1_per_label)\n",
    "    \n",
    "    # Append F1-score values to lists\n",
    "    train_f1_scores.append(train_f1)\n",
    "    val_f1_scores.append(val_f1)\n",
    "\n",
    "    # Append losses to lists\n",
    "    train_losses.append(history.history['loss'])\n",
    "    val_losses.append(history.history['val_loss'])\n",
    "\n",
    "    # Append accuracy to lists\n",
    "    train_acc.append(history.history['accuracy'])\n",
    "    val_acc.append(history.history['val_accuracy'])\n",
    "\n",
    "    # Print F1-score and accuracy for each epoch\n",
    "    print(f'Epoch {epoch + 1}: Training Macro-F1-score: {train_f1}, Validation Macro-F1-score: {val_f1}')\n",
    "    print(f'Epoch {epoch + 1}: Training Accuracy: {history.history[\"accuracy\"][-1]}, Validation Accuracy: {history.history[\"val_accuracy\"][-1]}')\n",
    "\n",
    "# Plot F1-score\n",
    "plt.plot(train_f1_scores, label='Training Macro-F1-score')\n",
    "plt.plot(val_f1_scores, label='Validation Macro-F1-score')\n",
    "plt.xlabel('Epochs')\n",
    "plt.ylabel('Macro-F1-score')\n",
    "plt.legend()\n",
    "plt.savefig('/task_1_glove_vec_GRU_f1_score.png')  # Save F1-score figure\n",
    "plt.show()\n",
    "\n",
    "# Plot Loss\n",
    "plt.plot(train_losses, label='Training Loss')\n",
    "plt.plot(val_losses, label='Validation Loss')\n",
    "plt.xlabel('Epochs')\n",
    "plt.ylabel('Loss')\n",
    "plt.legend()\n",
    "plt.savefig('/task_1_glove_GRU_loss.png')  # Save loss figure\n",
    "plt.show()\n",
    "\n",
    "# Plot Accuracy\n",
    "plt.plot(train_acc, label='Training Accuracy')\n",
    "plt.plot(val_acc, label='Validation Accuracy')\n",
    "plt.xlabel('Epochs')\n",
    "plt.ylabel('Accuracy')\n",
    "plt.legend()\n",
    "plt.savefig('/task_1_glove_GRU_accuracy.png')  # Save accuracy figure\n",
    "plt.show()\n"
   ]
  },
  {
   "cell_type": "code",
   "execution_count": null,
   "metadata": {},
   "outputs": [],
   "source": [
    "model.save('/GRU_glove_Dataset1.keras')"
   ]
  },
  {
   "cell_type": "markdown",
   "metadata": {},
   "source": [
    "## Test Data"
   ]
  },
  {
   "cell_type": "code",
   "execution_count": 17,
   "metadata": {},
   "outputs": [
    {
     "data": {
      "text/plain": [
       "(949, 70, 100)"
      ]
     },
     "execution_count": 17,
     "metadata": {},
     "output_type": "execute_result"
    }
   ],
   "source": [
    "# test data\n",
    "def load_data(file):\n",
    "    with open(file, 'r', encoding='utf-8') as f:\n",
    "        data = json.load(f)\n",
    "    return data\n",
    "\n",
    "data2 = load_data(\"/Dataset1-NamedEntityRecognition_test.json\")\n",
    "\n",
    "texts2 = [data2[key][\"text\"] for key in data2]\n",
    "labels = [sentence.split() for sentence in texts2]\n",
    "words2 = [data2[key][\"labels\"] for key in data2]\n",
    "\n",
    "# %%\n",
    "def load_glove_embeddings(glove_file, embedding_dim):\n",
    "    \"\"\"Loads pre-trained GloVe word embeddings from a file.\n",
    "    Returns: dict: A dictionary mapping words to their corresponding embedding vectors.\n",
    "             np.ndarray: An embedding matrix with rows representing words and columns representing dimensions.\n",
    "    \"\"\"\n",
    "    embeddings_index = {}\n",
    "    embedding_matrix = np.zeros((len(word_to_id) + 1, embedding_dim))  # Add 1 for padding\n",
    "\n",
    "    with open(glove_file, encoding='utf-8') as f:\n",
    "        for line in f:\n",
    "            values = line.split()\n",
    "            word = values[0]\n",
    "            coefs = np.asarray(values[1:], dtype='float32')\n",
    "            embeddings_index[word] = coefs\n",
    "\n",
    "    for word, index in word_to_id.items():\n",
    "        embedding_vector = embeddings_index.get(word)\n",
    "        if embedding_vector is not None:\n",
    "            embedding_matrix[index] = embedding_vector\n",
    "        else:\n",
    "            embedding_matrix[index] = np.zeros(embedding_dim)\n",
    "\n",
    "    return embeddings_index, embedding_matrix\n",
    "\n",
    "# Replace with your downloaded GloVe file path and desired dimensionality\n",
    "glove_file = \"glove.6B.100d.txt\"  # Example: glove.6B.100d.txt\n",
    "embedding_dim = 100\n",
    "\n",
    "# Create a dictionary mapping words to their unique IDs (optional for vectorization)\n",
    "word_to_id = {}\n",
    "next_id = 1\n",
    "for sentence in words2:  # Iterate through sentences in the nested list\n",
    "    for word in sentence:\n",
    "        if word not in word_to_id:\n",
    "            word_to_id[word] = next_id\n",
    "            next_id += 1\n",
    "\n",
    "# Load the GloVe embeddings\n",
    "embeddings_index, embedding_matrix = load_glove_embeddings(glove_file, embedding_dim)\n",
    "\n",
    "\n",
    "# %%\n",
    "# find the maxlength of the sentence\n",
    "max_length = max([len(i) for i in words2])\n",
    "max_length\n",
    "\n",
    "# %%\n",
    "# Vectorization of words\n",
    "word_embeddings2 = []\n",
    "for sentence in words2:\n",
    "    sentence_embedding = []\n",
    "    for word in sentence:\n",
    "        vector = embeddings_index.get(word)\n",
    "        if vector is not None:\n",
    "            sentence_embedding.append(vector)\n",
    "        else:\n",
    "            sentence_embedding.append(np.zeros(100)) # dimension of the glove file used.\n",
    "    word_embeddings2.append(sentence_embedding)\n",
    "\n",
    "# %%\n",
    "for sentence in word_embeddings2:\n",
    "    sentence_length = len(sentence)\n",
    "    if sentence_length < 70: #max length of sentence = 70\n",
    "        while len(sentence) < 70:\n",
    "            sentence.append(np.zeros(100))     \n",
    "\n",
    "# padding to convert into (9435, 70, 100)  from (9435, variable_length, 70)           \n",
    "for i in range(len(word_embeddings2)):\n",
    "    word_embeddings2[i] = np.array(word_embeddings2[i])\n",
    "word_embeddings2 = np.array(word_embeddings2)\n",
    "word_embeddings2.shape \n",
    "\n"
   ]
  },
  {
   "cell_type": "code",
   "execution_count": null,
   "metadata": {},
   "outputs": [],
   "source": [
    "labels_idx_test = [[label2idx[label] for label in sublist] for sublist in words2]\n",
    "\n",
    "one_hot_labels_test = [to_categorical(sublist, num_classes=27) for sublist in labels_idx_test]\n",
    "\n",
    "# %%\n",
    "def convert_to_list(lst):\n",
    "    if isinstance(lst, np.ndarray):\n",
    "        return lst.tolist()\n",
    "    elif isinstance(lst, list):\n",
    "        return [convert_to_list(item) for item in lst]\n",
    "    else:\n",
    "        return lst\n",
    "one_hot_labels_test = convert_to_list(one_hot_labels_test)\n",
    "# labels_idx[0]\n",
    "\n",
    "for sentence in one_hot_labels_test:\n",
    "    sentence_length = len(sentence)\n",
    "    if sentence_length < 70: #max length of sentence = 70\n",
    "        while len(sentence) < 70:\n",
    "            sentence.append([0., 0., 0., 0., 0., 0., 0., 0., 0., 0., 0., 0., 0., 0., 0., 0., 0., 0., 0., 0., 0., 0., 0., 1., 0., 0., 0.])\n",
    "\n",
    "one_hot_labels_test = np.array(one_hot_labels_test)\n",
    "one_hot_labels_test.shape\n",
    "\n",
    "\n",
    "# %%\n",
    "X_test_padded = word_embeddings2\n",
    "y_test_padded = one_hot_labels_test\n",
    "\n",
    "# Evaluate the model on the test data\n",
    "test_loss, test_accuracy = model.evaluate(X_test_padded, y_test_padded)\n",
    "print(\"Test Loss:\", test_loss)\n",
    "print(\"Test Accuracy:\", test_accuracy)\n",
    "\n",
    "\n",
    "y_pred = model.predict(X_test_padded)\n",
    "# Assuming y_pred contains continuous values, convert them to class labels\n",
    "y_pred_classes = np.argmax(y_pred, axis=2).flatten()\n",
    "y_test_classes = np.argmax(y_test_padded, axis=2).flatten()\n",
    "target_names = [str(label) for label in unique_labels]\n",
    "# target_names = [str(label) for label in range(27)]  # Assuming you have 27 unique labels\n",
    "# Generate the classification report using true target values and predicted target values\n",
    "report = classification_report(y_test_classes, y_pred_classes, target_names=target_names)\n",
    "print(report)\n"
   ]
  },
  {
   "cell_type": "markdown",
   "metadata": {},
   "source": [
    "# Dataset2"
   ]
  },
  {
   "cell_type": "code",
   "execution_count": 7,
   "metadata": {},
   "outputs": [],
   "source": [
    "def load_data(file):\n",
    "    with open(file, 'r', encoding='utf-8') as f:\n",
    "        data = json.load(f)\n",
    "    return data\n",
    "data2 = load_data(\"Dataset2-AspectTermExtraction_train.json\")\n",
    "\n",
    "texts2 = [i['text'] for i in data2]\n",
    "labels = [i['labels'] for i in data2]\n",
    "words2 = [sentence.split() for sentence in texts2]"
   ]
  },
  {
   "cell_type": "code",
   "execution_count": 8,
   "metadata": {},
   "outputs": [
    {
     "data": {
      "text/plain": [
       "78"
      ]
     },
     "execution_count": 8,
     "metadata": {},
     "output_type": "execute_result"
    }
   ],
   "source": [
    "# find the maxlength of the sentence\n",
    "max_length = max([len(i) for i in words2])\n",
    "max_length"
   ]
  },
  {
   "cell_type": "code",
   "execution_count": 9,
   "metadata": {},
   "outputs": [],
   "source": [
    "def load_glove_embeddings(glove_file, embedding_dim):\n",
    "    \"\"\"Loads pre-trained GloVe word embeddings from a file.\n",
    "    Returns: dict: A dictionary mapping words to their corresponding embedding vectors.\n",
    "             np.ndarray: An embedding matrix with rows representing words and columns representing dimensions.\n",
    "    \"\"\"\n",
    "    embeddings_index = {}\n",
    "    embedding_matrix = np.zeros((len(word_to_id) + 1, embedding_dim))  # Add 1 for padding\n",
    "\n",
    "    with open(glove_file, encoding='utf-8') as f:\n",
    "        for line in f:\n",
    "            values = line.split()\n",
    "            word = values[0]\n",
    "            coefs = np.asarray(values[1:], dtype='float32')\n",
    "            embeddings_index[word] = coefs\n",
    "\n",
    "    for word, index in word_to_id.items():\n",
    "        embedding_vector = embeddings_index.get(word)\n",
    "        if embedding_vector is not None:\n",
    "            embedding_matrix[index] = embedding_vector\n",
    "        else:\n",
    "            embedding_matrix[index] = np.zeros(embedding_dim)\n",
    "\n",
    "    return embeddings_index, embedding_matrix\n",
    "\n",
    "# Replace with your downloaded GloVe file path and desired dimensionality\n",
    "glove_file = \"glove.6B.100d.txt\"  # Example: glove.6B.100d.txt\n",
    "embedding_dim = 100\n",
    "\n",
    "# Create a dictionary mapping words to their unique IDs (optional for vectorization)\n",
    "word_to_id = {}\n",
    "next_id = 1\n",
    "for sentence in words2:  # Iterate through sentences in the nested list\n",
    "    for word in sentence:\n",
    "        if word not in word_to_id:\n",
    "            word_to_id[word] = next_id\n",
    "            next_id += 1\n",
    "\n",
    "# Load the GloVe embeddings\n",
    "embeddings_index, embedding_matrix = load_glove_embeddings(glove_file, embedding_dim)\n"
   ]
  },
  {
   "cell_type": "code",
   "execution_count": 10,
   "metadata": {},
   "outputs": [],
   "source": [
    "# Vectorization of words\n",
    "word_embeddings2 = []\n",
    "for sentence in words2:\n",
    "    sentence_embedding = []\n",
    "    for word in sentence:\n",
    "        vector = embeddings_index.get(word)\n",
    "        if vector is not None:\n",
    "            sentence_embedding.append(vector)\n",
    "        else:\n",
    "            sentence_embedding.append(np.zeros(100)) # dimension of the glove file used.\n",
    "    word_embeddings2.append(sentence_embedding)"
   ]
  },
  {
   "cell_type": "code",
   "execution_count": 11,
   "metadata": {},
   "outputs": [
    {
     "name": "stdout",
     "output_type": "stream",
     "text": [
      "(906, 78, 100)\n"
     ]
    }
   ],
   "source": [
    "for sentence in word_embeddings2:\n",
    "    sentence_length = len(sentence)\n",
    "    if sentence_length < max_length: #max length of sentence = 78\n",
    "        while len(sentence) < max_length:\n",
    "            sentence.append(np.zeros(100))     \n",
    "\n",
    "# padding to convert into (905, 70, 100)  from (905, variable_length, 70)           \n",
    "for i in range(len(word_embeddings2)):\n",
    "    word_embeddings2[i] = np.array(word_embeddings2[i])\n",
    "word_embeddings2 = np.array(word_embeddings2)\n",
    "print(word_embeddings2.shape) "
   ]
  },
  {
   "cell_type": "code",
   "execution_count": 12,
   "metadata": {},
   "outputs": [
    {
     "name": "stdout",
     "output_type": "stream",
     "text": [
      "{'O', 'I', 'B'}\n"
     ]
    }
   ],
   "source": [
    "flat_labels = [label for sublist in labels for label in sublist]\n",
    "\n",
    "# Find unique labels\n",
    "unique_labels = set(flat_labels)\n",
    "\n",
    "print(unique_labels)\n",
    "\n",
    "label2idx = {label: idx for idx, label in enumerate(unique_labels)}\n",
    "labels_idx = [[label2idx[label] for label in sublist] for sublist in labels]\n",
    "\n",
    "# One-hot encode labels\n",
    "num_classes = len(unique_labels)\n",
    "one_hot_labels = [to_categorical(sublist, num_classes=num_classes) for sublist in labels_idx]"
   ]
  },
  {
   "cell_type": "code",
   "execution_count": 13,
   "metadata": {},
   "outputs": [
    {
     "name": "stderr",
     "output_type": "stream",
     "text": [
      "C:\\Users\\Lenovo\\AppData\\Local\\Temp\\ipykernel_18108\\4169420533.py:4: VisibleDeprecationWarning: Creating an ndarray from ragged nested sequences (which is a list-or-tuple of lists-or-tuples-or ndarrays with different lengths or shapes) is deprecated. If you meant to do this, you must specify 'dtype=object' when creating the ndarray.\n",
      "  labels_padded = np.zeros((np.array(one_hot_labels).shape[0], 78, 3))  # Initialize padded array\n"
     ]
    }
   ],
   "source": [
    "labels_padded = np.zeros((np.array(one_hot_labels).shape[0], 78, 3))  # Initialize padded array\n",
    "\n",
    "# Iterate over each sentence in one_hot_labels and pad to length 70\n",
    "for i, sentence in enumerate(one_hot_labels):\n",
    "    padded_sentence = np.pad(sentence, ((0, 78 - len(sentence)), (0, 0)), mode='constant', constant_values=0)\n",
    "    labels_padded[i] = padded_sentence\n",
    "labels_padded.shape"
   ]
  },
  {
   "cell_type": "code",
   "execution_count": 19,
   "metadata": {},
   "outputs": [
    {
     "name": "stdout",
     "output_type": "stream",
     "text": [
      "Epoch 1/10\n",
      "18/18 [==============================] - 3s 54ms/step - loss: 0.1363 - accuracy: 0.7106 - val_loss: 0.1176 - val_accuracy: 0.9737\n",
      "Epoch 2/10\n",
      "18/18 [==============================] - 1s 30ms/step - loss: 0.1171 - accuracy: 0.9736 - val_loss: 0.1038 - val_accuracy: 0.9737\n",
      "Epoch 3/10\n",
      "18/18 [==============================] - 1s 31ms/step - loss: 0.1013 - accuracy: 0.9738 - val_loss: 0.0963 - val_accuracy: 0.9737\n",
      "Epoch 4/10\n",
      "18/18 [==============================] - 1s 31ms/step - loss: 0.0934 - accuracy: 0.9741 - val_loss: 0.0904 - val_accuracy: 0.9738\n",
      "Epoch 5/10\n",
      "18/18 [==============================] - 1s 36ms/step - loss: 0.0879 - accuracy: 0.9742 - val_loss: 0.0876 - val_accuracy: 0.9737\n",
      "Epoch 6/10\n",
      "18/18 [==============================] - 1s 36ms/step - loss: 0.0836 - accuracy: 0.9742 - val_loss: 0.0842 - val_accuracy: 0.9742\n",
      "Epoch 7/10\n",
      "18/18 [==============================] - 1s 32ms/step - loss: 0.0798 - accuracy: 0.9744 - val_loss: 0.0805 - val_accuracy: 0.9745\n",
      "Epoch 8/10\n",
      "18/18 [==============================] - 1s 33ms/step - loss: 0.0767 - accuracy: 0.9748 - val_loss: 0.0779 - val_accuracy: 0.9748\n",
      "Epoch 9/10\n",
      "18/18 [==============================] - 1s 45ms/step - loss: 0.0737 - accuracy: 0.9751 - val_loss: 0.0752 - val_accuracy: 0.9753\n",
      "Epoch 10/10\n",
      "18/18 [==============================] - 1s 32ms/step - loss: 0.0710 - accuracy: 0.9755 - val_loss: 0.0726 - val_accuracy: 0.9762\n"
     ]
    }
   ],
   "source": [
    "X_train_padded = word_embeddings2  # Assuming padded word embeddings\n",
    "y_train_padded = labels_padded           # Assuming padded labels\n",
    "\n",
    "# Split into training and validation sets (85-15 split)\n",
    "split = int(0.85 * len(X_train_padded))\n",
    "X_train, X_val = X_train_padded[:split], X_train_padded[split:]\n",
    "y_train, y_val = y_train_padded[:split], y_train_padded[split:]\n",
    "\n",
    "\n",
    "# Assuming you have already prepared the data and defined the model\n",
    "\n",
    "# model\n",
    "model = tf.keras.Sequential([\n",
    "    tf.keras.layers.SimpleRNN(units=128, return_sequences=True, input_shape=(78, 100)),\n",
    "    tf.keras.layers.Dense(100, activation='relu'),\n",
    "    tf.keras.layers.Dense(100, activation='tanh'),\n",
    "    tf.keras.layers.Dense(3, activation='softmax')\n",
    "])\n",
    "\n",
    "# Adjust learning rate\n",
    "optimizer = tf.keras.optimizers.Adam(learning_rate=0.001)\n",
    "\n",
    "# Compile the model\n",
    "model.compile(loss='categorical_crossentropy', optimizer=optimizer, metrics=['accuracy'])\n",
    "\n",
    "# Train the model\n",
    "history = model.fit(X_train, y_train, epochs=10, validation_data=(X_val, y_val), batch_size=32, verbose=1)\n"
   ]
  },
  {
   "cell_type": "code",
   "execution_count": 21,
   "metadata": {},
   "outputs": [
    {
     "name": "stdout",
     "output_type": "stream",
     "text": [
      "25/25 [==============================] - 1s 25ms/step - loss: 0.0642 - accuracy: 0.9773 - val_loss: 0.0648 - val_accuracy: 0.9792\n",
      "25/25 [==============================] - 0s 9ms/step\n",
      "5/5 [==============================] - 0s 9ms/step\n",
      "Epoch 1: Training Macro-F1-score: 0.5159333798540614, Validation Macro-F1-score: 0.5201533765411691\n",
      "25/25 [==============================] - 1s 23ms/step - loss: 0.0608 - accuracy: 0.9781 - val_loss: 0.0626 - val_accuracy: 0.9789\n",
      "25/25 [==============================] - 0s 9ms/step\n",
      "5/5 [==============================] - 0s 9ms/step\n",
      "Epoch 2: Training Macro-F1-score: 0.556078770255335, Validation Macro-F1-score: 0.5143777904276484\n",
      "25/25 [==============================] - 1s 25ms/step - loss: 0.0586 - accuracy: 0.9796 - val_loss: 0.0596 - val_accuracy: 0.9809\n",
      "25/25 [==============================] - 0s 9ms/step\n",
      "5/5 [==============================] - 0s 14ms/step\n",
      "Epoch 3: Training Macro-F1-score: 0.6633035697816275, Validation Macro-F1-score: 0.6282495838458081\n",
      "25/25 [==============================] - 1s 23ms/step - loss: 0.0555 - accuracy: 0.9807 - val_loss: 0.0574 - val_accuracy: 0.9811\n",
      "25/25 [==============================] - 0s 9ms/step\n",
      "5/5 [==============================] - 0s 8ms/step\n",
      "Epoch 4: Training Macro-F1-score: 0.6814611541492659, Validation Macro-F1-score: 0.6531170321282609\n",
      "25/25 [==============================] - 1s 24ms/step - loss: 0.0538 - accuracy: 0.9811 - val_loss: 0.0598 - val_accuracy: 0.9804\n",
      "25/25 [==============================] - 0s 9ms/step\n",
      "5/5 [==============================] - 0s 8ms/step\n",
      "Epoch 5: Training Macro-F1-score: 0.6387221807011154, Validation Macro-F1-score: 0.6032378993520193\n",
      "25/25 [==============================] - 1s 24ms/step - loss: 0.0515 - accuracy: 0.9821 - val_loss: 0.0563 - val_accuracy: 0.9819\n",
      "25/25 [==============================] - 0s 9ms/step\n",
      "5/5 [==============================] - 0s 8ms/step\n",
      "Epoch 6: Training Macro-F1-score: 0.7344567450366993, Validation Macro-F1-score: 0.6991676975949712\n",
      "25/25 [==============================] - 1s 27ms/step - loss: 0.0496 - accuracy: 0.9825 - val_loss: 0.0545 - val_accuracy: 0.9824\n",
      "25/25 [==============================] - 0s 9ms/step\n",
      "5/5 [==============================] - 0s 8ms/step\n",
      "Epoch 7: Training Macro-F1-score: 0.7381453856937071, Validation Macro-F1-score: 0.6903472898122871\n",
      "25/25 [==============================] - 1s 23ms/step - loss: 0.0478 - accuracy: 0.9833 - val_loss: 0.0542 - val_accuracy: 0.9819\n",
      "25/25 [==============================] - 0s 9ms/step\n",
      "5/5 [==============================] - 0s 8ms/step\n",
      "Epoch 8: Training Macro-F1-score: 0.7415293604113963, Validation Macro-F1-score: 0.6730436202918485\n",
      "25/25 [==============================] - 1s 26ms/step - loss: 0.0475 - accuracy: 0.9834 - val_loss: 0.0542 - val_accuracy: 0.9827\n",
      "25/25 [==============================] - 0s 8ms/step\n",
      "5/5 [==============================] - 0s 9ms/step\n",
      "Epoch 9: Training Macro-F1-score: 0.7540790036874435, Validation Macro-F1-score: 0.68998949671396\n",
      "25/25 [==============================] - 1s 25ms/step - loss: 0.0454 - accuracy: 0.9831 - val_loss: 0.0524 - val_accuracy: 0.9825\n",
      "25/25 [==============================] - 0s 13ms/step\n",
      "5/5 [==============================] - 0s 9ms/step\n",
      "Epoch 10: Training Macro-F1-score: 0.7637822317087276, Validation Macro-F1-score: 0.6938198491359194\n"
     ]
    },
    {
     "data": {
      "image/png": "[encoded data removed]",
      "text/plain": [
       "<Figure size 640x480 with 1 Axes>"
      ]
     },
     "metadata": {},
     "output_type": "display_data"
    }
   ],
   "source": [
    "train_f1_scores = []\n",
    "val_f1_scores = []\n",
    "for epoch in range(10):\n",
    "    # Perform one epoch of training\n",
    "    history = model.fit(X_train, y_train, epochs=1, batch_size=32, verbose=True, validation_data=(X_val, y_val))\n",
    "\n",
    "    # Get predictions for training and validation data\n",
    "    y_train_pred = model.predict(X_train)\n",
    "    y_val_pred = model.predict(X_val)\n",
    "\n",
    "    # Convert one-hot encoded labels back to integer labels\n",
    "    y_train_true = np.argmax(y_train, axis=-1)\n",
    "    y_val_true = np.argmax(y_val, axis=-1)\n",
    "\n",
    "    # Calculate F1-score for training and validation data\n",
    "    train_f1 = f1_score(y_train_true.flatten(), y_train_pred.argmax(axis=2).flatten(), average='macro')\n",
    "    val_f1 = f1_score(y_val_true.flatten(), y_val_pred.argmax(axis=2).flatten(), average='macro')\n",
    "    \n",
    "    # Append F1-score values to lists\n",
    "    train_f1_scores.append(train_f1)\n",
    "    val_f1_scores.append(val_f1)\n",
    "\n",
    "    # Print F1-score for each epoch\n",
    "    print(f'Epoch {epoch + 1}: Training Macro-F1-score: {train_f1}, Validation Macro-F1-score: {val_f1}')\n",
    "\n",
    "# Plot F1-score\n",
    "plt.plot(train_f1_scores, label='Training Macro-F1-score')\n",
    "plt.plot(val_f1_scores, label='Validation Macro-F1-score')\n",
    "plt.xlabel('Epochs')\n",
    "plt.ylabel('Macro-F1-score')\n",
    "plt.legend()\n",
    "plt.show()\n"
   ]
  },
  {
   "cell_type": "markdown",
   "metadata": {},
   "source": [
    "# GRU"
   ]
  },
  {
   "cell_type": "code",
   "execution_count": 26,
   "metadata": {},
   "outputs": [
    {
     "name": "stdout",
     "output_type": "stream",
     "text": [
      "Epoch 1/10\n",
      "25/25 [==============================] - 5s 79ms/step - loss: 0.1265 - accuracy: 0.9525 - val_loss: 0.2025 - val_accuracy: 0.9718\n",
      "Epoch 2/10\n",
      "25/25 [==============================] - 1s 44ms/step - loss: 0.1492 - accuracy: 0.9706 - val_loss: 0.1267 - val_accuracy: 0.9736\n",
      "Epoch 3/10\n",
      "25/25 [==============================] - 1s 50ms/step - loss: 0.1059 - accuracy: 0.9737 - val_loss: 0.1022 - val_accuracy: 0.9736\n",
      "Epoch 4/10\n",
      "25/25 [==============================] - 1s 43ms/step - loss: 0.0952 - accuracy: 0.9738 - val_loss: 0.0921 - val_accuracy: 0.9736\n",
      "Epoch 5/10\n",
      "25/25 [==============================] - 1s 43ms/step - loss: 0.0876 - accuracy: 0.9743 - val_loss: 0.0869 - val_accuracy: 0.9741\n",
      "Epoch 6/10\n",
      "25/25 [==============================] - 1s 44ms/step - loss: 0.0818 - accuracy: 0.9741 - val_loss: 0.0808 - val_accuracy: 0.9741\n",
      "Epoch 7/10\n",
      "25/25 [==============================] - 1s 48ms/step - loss: 0.0770 - accuracy: 0.9743 - val_loss: 0.0767 - val_accuracy: 0.9743\n",
      "Epoch 8/10\n",
      "25/25 [==============================] - 1s 56ms/step - loss: 0.0737 - accuracy: 0.9744 - val_loss: 0.0742 - val_accuracy: 0.9744\n",
      "Epoch 9/10\n",
      "25/25 [==============================] - 1s 48ms/step - loss: 0.0713 - accuracy: 0.9746 - val_loss: 0.0724 - val_accuracy: 0.9745\n",
      "Epoch 10/10\n",
      "25/25 [==============================] - 1s 43ms/step - loss: 0.0697 - accuracy: 0.9748 - val_loss: 0.0704 - val_accuracy: 0.9745\n"
     ]
    }
   ],
   "source": [
    "X_train_padded = word_embeddings2  # Assuming padded word embeddings\n",
    "y_train_padded = labels_padded           # Assuming padded labels\n",
    "\n",
    "# Split into training and validation sets (85-15 split)\n",
    "split = int(0.85 * len(X_train_padded))\n",
    "X_train, X_val = X_train_padded[:split], X_train_padded[split:]\n",
    "y_train, y_val = y_train_padded[:split], y_train_padded[split:]\n",
    "\n",
    "\n",
    "# Assuming you have already prepared the data and defined the model\n",
    "\n",
    "# model\n",
    "model = tf.keras.Sequential([\n",
    "    tf.keras.layers.GRU(units=128, return_sequences=True, input_shape=(78, 100)),\n",
    "    tf.keras.layers.Dense(128, activation='relu'),\n",
    "    tf.keras.layers.Dense(100, activation='tanh'),\n",
    "    tf.keras.layers.Dense(3, activation='softmax')\n",
    "])\n",
    "\n",
    "# Adjust learning rate\n",
    "optimizer = tf.keras.optimizers.Adam(learning_rate=0.001)\n",
    "\n",
    "# Compile the model\n",
    "model.compile(loss='categorical_crossentropy', optimizer=optimizer, metrics=['accuracy'])\n",
    "\n",
    "# Train the model\n",
    "history = model.fit(X_train, y_train, epochs=10, validation_data=(X_val, y_val), batch_size=32, verbose=1)\n"
   ]
  },
  {
   "cell_type": "code",
   "execution_count": 27,
   "metadata": {},
   "outputs": [
    {
     "name": "stdout",
     "output_type": "stream",
     "text": [
      "25/25 [==============================] - 1s 48ms/step - loss: 0.0676 - accuracy: 0.9749 - val_loss: 0.0698 - val_accuracy: 0.9746\n",
      "25/25 [==============================] - 1s 19ms/step\n",
      "5/5 [==============================] - 0s 18ms/step\n",
      "Epoch 1: Training Macro-F1-score: 0.3953444912593072, Validation Macro-F1-score: 0.3878131298816652\n",
      "25/25 [==============================] - 1s 53ms/step - loss: 0.0657 - accuracy: 0.9752 - val_loss: 0.0660 - val_accuracy: 0.9752\n",
      "25/25 [==============================] - 0s 18ms/step\n",
      "5/5 [==============================] - 0s 18ms/step\n",
      "Epoch 2: Training Macro-F1-score: 0.40926845838863235, Validation Macro-F1-score: 0.39846681873379164\n",
      "25/25 [==============================] - 1s 47ms/step - loss: 0.0631 - accuracy: 0.9764 - val_loss: 0.0627 - val_accuracy: 0.9773\n",
      "25/25 [==============================] - 0s 18ms/step\n",
      "5/5 [==============================] - 0s 17ms/step\n",
      "Epoch 3: Training Macro-F1-score: 0.45855178710174166, Validation Macro-F1-score: 0.4569518152632717\n",
      "25/25 [==============================] - 1s 56ms/step - loss: 0.0608 - accuracy: 0.9779 - val_loss: 0.0610 - val_accuracy: 0.9780\n",
      "25/25 [==============================] - 0s 17ms/step\n",
      "5/5 [==============================] - 0s 15ms/step\n",
      "Epoch 4: Training Macro-F1-score: 0.48463094033646864, Validation Macro-F1-score: 0.4809693950152117\n",
      "25/25 [==============================] - 1s 45ms/step - loss: 0.0586 - accuracy: 0.9786 - val_loss: 0.0600 - val_accuracy: 0.9794\n",
      "25/25 [==============================] - 0s 17ms/step\n",
      "5/5 [==============================] - 0s 16ms/step\n",
      "Epoch 5: Training Macro-F1-score: 0.5216605517040119, Validation Macro-F1-score: 0.528283562127093\n",
      "25/25 [==============================] - 1s 45ms/step - loss: 0.0575 - accuracy: 0.9790 - val_loss: 0.0591 - val_accuracy: 0.9792\n",
      "25/25 [==============================] - 0s 17ms/step\n",
      "5/5 [==============================] - 0s 15ms/step\n",
      "Epoch 6: Training Macro-F1-score: 0.5437225389399886, Validation Macro-F1-score: 0.5262739171052524\n",
      "25/25 [==============================] - 1s 48ms/step - loss: 0.0551 - accuracy: 0.9791 - val_loss: 0.0576 - val_accuracy: 0.9805\n",
      "25/25 [==============================] - 0s 18ms/step\n",
      "5/5 [==============================] - 0s 15ms/step\n",
      "Epoch 7: Training Macro-F1-score: 0.5679279692418818, Validation Macro-F1-score: 0.5655815868570367\n",
      "25/25 [==============================] - 1s 54ms/step - loss: 0.0535 - accuracy: 0.9798 - val_loss: 0.0570 - val_accuracy: 0.9809\n",
      "25/25 [==============================] - 1s 22ms/step\n",
      "5/5 [==============================] - 0s 17ms/step\n",
      "Epoch 8: Training Macro-F1-score: 0.5844627316148734, Validation Macro-F1-score: 0.5736505316743874\n",
      "25/25 [==============================] - 1s 50ms/step - loss: 0.0521 - accuracy: 0.9803 - val_loss: 0.0561 - val_accuracy: 0.9802\n",
      "25/25 [==============================] - 1s 20ms/step\n",
      "5/5 [==============================] - 0s 18ms/step\n",
      "Epoch 9: Training Macro-F1-score: 0.5949195653804801, Validation Macro-F1-score: 0.5696256420159663\n",
      "25/25 [==============================] - 1s 54ms/step - loss: 0.0507 - accuracy: 0.9811 - val_loss: 0.0582 - val_accuracy: 0.9794\n",
      "25/25 [==============================] - 1s 20ms/step\n",
      "5/5 [==============================] - 0s 19ms/step\n",
      "Epoch 10: Training Macro-F1-score: 0.5502843384677399, Validation Macro-F1-score: 0.5254377156005665\n"
     ]
    },
    {
     "data": {
      "image/png": "[encoded data removed]",
      "text/plain": [
       "<Figure size 640x480 with 1 Axes>"
      ]
     },
     "metadata": {},
     "output_type": "display_data"
    }
   ],
   "source": [
    "train_f1_scores = []\n",
    "val_f1_scores = []\n",
    "for epoch in range(10):\n",
    "    # Perform one epoch of training\n",
    "    history = model.fit(X_train, y_train, epochs=1, batch_size=32, verbose=True, validation_data=(X_val, y_val))\n",
    "\n",
    "    # Get predictions for training and validation data\n",
    "    y_train_pred = model.predict(X_train)\n",
    "    y_val_pred = model.predict(X_val)\n",
    "\n",
    "    # Convert one-hot encoded labels back to integer labels\n",
    "    y_train_true = np.argmax(y_train, axis=-1)\n",
    "    y_val_true = np.argmax(y_val, axis=-1)\n",
    "\n",
    "    # Calculate F1-score for training and validation data\n",
    "    train_f1 = f1_score(y_train_true.flatten(), y_train_pred.argmax(axis=2).flatten(), average='macro')\n",
    "    val_f1 = f1_score(y_val_true.flatten(), y_val_pred.argmax(axis=2).flatten(), average='macro')\n",
    "    \n",
    "    # Append F1-score values to lists\n",
    "    train_f1_scores.append(train_f1)\n",
    "    val_f1_scores.append(val_f1)\n",
    "\n",
    "    # Print F1-score for each epoch\n",
    "    print(f'Epoch {epoch + 1}: Training Macro-F1-score: {train_f1}, Validation Macro-F1-score: {val_f1}')\n",
    "\n",
    "# Plot F1-score\n",
    "plt.plot(train_f1_scores, label='Training Macro-F1-score')\n",
    "plt.plot(val_f1_scores, label='Validation Macro-F1-score')\n",
    "plt.xlabel('Epochs')\n",
    "plt.ylabel('Macro-F1-score')\n",
    "plt.legend()\n",
    "plt.show()\n"
   ]
  },
  {
   "cell_type": "markdown",
   "metadata": {},
   "source": [
    "# LSTM"
   ]
  },
  {
   "cell_type": "code",
   "execution_count": 28,
   "metadata": {},
   "outputs": [
    {
     "name": "stdout",
     "output_type": "stream",
     "text": [
      "Epoch 1/10\n",
      "25/25 [==============================] - 4s 72ms/step - loss: 0.1403 - accuracy: 0.9399 - val_loss: 0.1456 - val_accuracy: 0.9735\n",
      "Epoch 2/10\n",
      "25/25 [==============================] - 1s 47ms/step - loss: 0.1358 - accuracy: 0.9734 - val_loss: 0.1206 - val_accuracy: 0.9736\n",
      "Epoch 3/10\n",
      "25/25 [==============================] - 1s 58ms/step - loss: 0.1076 - accuracy: 0.9736 - val_loss: 0.0977 - val_accuracy: 0.9737\n",
      "Epoch 4/10\n",
      "25/25 [==============================] - 1s 57ms/step - loss: 0.0942 - accuracy: 0.9737 - val_loss: 0.0981 - val_accuracy: 0.9735\n",
      "Epoch 5/10\n",
      "25/25 [==============================] - 1s 56ms/step - loss: 0.0883 - accuracy: 0.9740 - val_loss: 0.0847 - val_accuracy: 0.9734\n",
      "Epoch 6/10\n",
      "25/25 [==============================] - 1s 55ms/step - loss: 0.0816 - accuracy: 0.9742 - val_loss: 0.0822 - val_accuracy: 0.9739\n",
      "Epoch 7/10\n",
      "25/25 [==============================] - 2s 65ms/step - loss: 0.0773 - accuracy: 0.9744 - val_loss: 0.0781 - val_accuracy: 0.9740\n",
      "Epoch 8/10\n",
      "25/25 [==============================] - 1s 50ms/step - loss: 0.0737 - accuracy: 0.9746 - val_loss: 0.0738 - val_accuracy: 0.9744\n",
      "Epoch 9/10\n",
      "25/25 [==============================] - 1s 47ms/step - loss: 0.0712 - accuracy: 0.9747 - val_loss: 0.0719 - val_accuracy: 0.9743\n",
      "Epoch 10/10\n",
      "25/25 [==============================] - 1s 47ms/step - loss: 0.0690 - accuracy: 0.9748 - val_loss: 0.0704 - val_accuracy: 0.9746\n"
     ]
    }
   ],
   "source": [
    "X_train_padded = word_embeddings2  # Assuming padded word embeddings\n",
    "y_train_padded = labels_padded           # Assuming padded labels\n",
    "\n",
    "# Split into training and validation sets (85-15 split)\n",
    "split = int(0.85 * len(X_train_padded))\n",
    "X_train, X_val = X_train_padded[:split], X_train_padded[split:]\n",
    "y_train, y_val = y_train_padded[:split], y_train_padded[split:]\n",
    "\n",
    "\n",
    "# Assuming you have already prepared the data and defined the model\n",
    "\n",
    "# model\n",
    "model = tf.keras.Sequential([\n",
    "    tf.keras.layers.LSTM(units=128, return_sequences=True, input_shape=(78, 100)),\n",
    "    tf.keras.layers.Dense(100, activation='relu'),\n",
    "    tf.keras.layers.Dense(100, activation='tanh'),\n",
    "    tf.keras.layers.Dense(3, activation='softmax')\n",
    "])\n",
    "\n",
    "# Adjust learning rate\n",
    "optimizer = tf.keras.optimizers.Adam(learning_rate=0.001)\n",
    "\n",
    "# Compile the model\n",
    "model.compile(loss='categorical_crossentropy', optimizer=optimizer, metrics=['accuracy'])\n",
    "\n",
    "# Train the model\n",
    "history = model.fit(X_train, y_train, epochs=10, validation_data=(X_val, y_val), batch_size=32, verbose=1)\n"
   ]
  },
  {
   "cell_type": "code",
   "execution_count": 29,
   "metadata": {},
   "outputs": [
    {
     "name": "stdout",
     "output_type": "stream",
     "text": [
      "25/25 [==============================] - 1s 55ms/step - loss: 0.0673 - accuracy: 0.9751 - val_loss: 0.0696 - val_accuracy: 0.9746\n",
      "25/25 [==============================] - 1s 24ms/step\n",
      "5/5 [==============================] - 0s 19ms/step\n",
      "Epoch 1: Training Macro-F1-score: 0.38705100102717643, Validation Macro-F1-score: 0.3751609634931529\n",
      "25/25 [==============================] - 2s 61ms/step - loss: 0.0662 - accuracy: 0.9753 - val_loss: 0.0680 - val_accuracy: 0.9749\n",
      "25/25 [==============================] - 1s 20ms/step\n",
      "5/5 [==============================] - 0s 19ms/step\n",
      "Epoch 2: Training Macro-F1-score: 0.39986799068675466, Validation Macro-F1-score: 0.3859417572953508\n",
      "25/25 [==============================] - 1s 56ms/step - loss: 0.0644 - accuracy: 0.9755 - val_loss: 0.0675 - val_accuracy: 0.9751\n",
      "25/25 [==============================] - 1s 20ms/step\n",
      "5/5 [==============================] - 0s 19ms/step\n",
      "Epoch 3: Training Macro-F1-score: 0.4037692077132981, Validation Macro-F1-score: 0.3913942698617688\n",
      "25/25 [==============================] - 1s 52ms/step - loss: 0.0629 - accuracy: 0.9757 - val_loss: 0.0654 - val_accuracy: 0.9751\n",
      "25/25 [==============================] - 1s 23ms/step\n",
      "5/5 [==============================] - 0s 21ms/step\n",
      "Epoch 4: Training Macro-F1-score: 0.4077482483884147, Validation Macro-F1-score: 0.39378251589861274\n",
      "25/25 [==============================] - 1s 53ms/step - loss: 0.0613 - accuracy: 0.9758 - val_loss: 0.0651 - val_accuracy: 0.9759\n",
      "25/25 [==============================] - 1s 20ms/step\n",
      "5/5 [==============================] - 0s 21ms/step\n",
      "Epoch 5: Training Macro-F1-score: 0.4264952968438307, Validation Macro-F1-score: 0.41749845379246137\n",
      "25/25 [==============================] - 2s 60ms/step - loss: 0.0594 - accuracy: 0.9767 - val_loss: 0.0628 - val_accuracy: 0.9773\n",
      "25/25 [==============================] - 1s 23ms/step\n",
      "5/5 [==============================] - 0s 20ms/step\n",
      "Epoch 6: Training Macro-F1-score: 0.45357846475583097, Validation Macro-F1-score: 0.45539751158354513\n",
      "25/25 [==============================] - 1s 54ms/step - loss: 0.0577 - accuracy: 0.9776 - val_loss: 0.0614 - val_accuracy: 0.9771\n",
      "25/25 [==============================] - 1s 20ms/step\n",
      "5/5 [==============================] - 0s 21ms/step\n",
      "Epoch 7: Training Macro-F1-score: 0.468623493107667, Validation Macro-F1-score: 0.4580944120206718\n",
      "25/25 [==============================] - 1s 57ms/step - loss: 0.0562 - accuracy: 0.9781 - val_loss: 0.0608 - val_accuracy: 0.9781\n",
      "25/25 [==============================] - 0s 19ms/step\n",
      "5/5 [==============================] - 0s 21ms/step\n",
      "Epoch 8: Training Macro-F1-score: 0.49974601669288116, Validation Macro-F1-score: 0.4903559179913069\n",
      "25/25 [==============================] - 1s 54ms/step - loss: 0.0554 - accuracy: 0.9787 - val_loss: 0.0627 - val_accuracy: 0.9784\n",
      "25/25 [==============================] - 1s 20ms/step\n",
      "5/5 [==============================] - 0s 19ms/step\n",
      "Epoch 9: Training Macro-F1-score: 0.5229071751248124, Validation Macro-F1-score: 0.49986229673409693\n",
      "25/25 [==============================] - 1s 56ms/step - loss: 0.0547 - accuracy: 0.9787 - val_loss: 0.0600 - val_accuracy: 0.9782\n",
      "25/25 [==============================] - 1s 19ms/step\n",
      "5/5 [==============================] - 0s 20ms/step\n",
      "Epoch 10: Training Macro-F1-score: 0.538163254787349, Validation Macro-F1-score: 0.49823962264955246\n"
     ]
    },
    {
     "data": {
      "image/png": "[encoded data removed]",
      "text/plain": [
       "<Figure size 640x480 with 1 Axes>"
      ]
     },
     "metadata": {},
     "output_type": "display_data"
    }
   ],
   "source": [
    "train_f1_scores = []\n",
    "val_f1_scores = []\n",
    "for epoch in range(10):\n",
    "    # Perform one epoch of training\n",
    "    history = model.fit(X_train, y_train, epochs=1, batch_size=32, verbose=True, validation_data=(X_val, y_val))\n",
    "\n",
    "    # Get predictions for training and validation data\n",
    "    y_train_pred = model.predict(X_train)\n",
    "    y_val_pred = model.predict(X_val)\n",
    "\n",
    "    # Convert one-hot encoded labels back to integer labels\n",
    "    y_train_true = np.argmax(y_train, axis=-1)\n",
    "    y_val_true = np.argmax(y_val, axis=-1)\n",
    "\n",
    "    # Calculate F1-score for training and validation data\n",
    "    train_f1 = f1_score(y_train_true.flatten(), y_train_pred.argmax(axis=2).flatten(), average='macro')\n",
    "    val_f1 = f1_score(y_val_true.flatten(), y_val_pred.argmax(axis=2).flatten(), average='macro')\n",
    "    \n",
    "    # Append F1-score values to lists\n",
    "    train_f1_scores.append(train_f1)\n",
    "    val_f1_scores.append(val_f1)\n",
    "\n",
    "    # Print F1-score for each epoch\n",
    "    print(f'Epoch {epoch + 1}: Training Macro-F1-score: {train_f1}, Validation Macro-F1-score: {val_f1}')\n",
    "\n",
    "# Plot F1-score\n",
    "plt.plot(train_f1_scores, label='Training Macro-F1-score')\n",
    "plt.plot(val_f1_scores, label='Validation Macro-F1-score')\n",
    "plt.xlabel('Epochs')\n",
    "plt.ylabel('Macro-F1-score')\n",
    "plt.legend()\n",
    "plt.show()\n"
   ]
  },
  {
   "cell_type": "markdown",
   "metadata": {},
   "source": [
    "\n",
    "## Test data"
   ]
  },
  {
   "cell_type": "code",
   "execution_count": 41,
   "metadata": {},
   "outputs": [],
   "source": [
    "def load_data(file):\n",
    "    with open(file, 'r', encoding='utf-8') as f:\n",
    "        data = json.load(f)\n",
    "    return data\n",
    "\n",
    "data2 = load_data(\"Dataset2-AspectTermExtraction_test.json\")\n",
    "\n",
    "texts2 = [i['text'] for i in data2]\n",
    "labels = [i['labels'] for i in data2]\n",
    "words2 = [sentence.split() for sentence in texts2]\n"
   ]
  },
  {
   "cell_type": "code",
   "execution_count": 42,
   "metadata": {},
   "outputs": [],
   "source": [
    "def load_glove_embeddings(glove_file, embedding_dim):\n",
    "    \"\"\"Loads pre-trained GloVe word embeddings from a file.\n",
    "    Returns: dict: A dictionary mapping words to their corresponding embedding vectors.\n",
    "             np.ndarray: An embedding matrix with rows representing words and columns representing dimensions.\n",
    "    \"\"\"\n",
    "    embeddings_index = {}\n",
    "    embedding_matrix = np.zeros((len(word_to_id) + 1, embedding_dim))  # Add 1 for padding\n",
    "\n",
    "    with open(glove_file, encoding='utf-8') as f:\n",
    "        for line in f:\n",
    "            values = line.split()\n",
    "            word = values[0]\n",
    "            coefs = np.asarray(values[1:], dtype='float32')\n",
    "            embeddings_index[word] = coefs\n",
    "\n",
    "    for word, index in word_to_id.items():\n",
    "        embedding_vector = embeddings_index.get(word)\n",
    "        if embedding_vector is not None:\n",
    "            embedding_matrix[index] = embedding_vector\n",
    "        else:\n",
    "            embedding_matrix[index] = np.zeros(embedding_dim)\n",
    "\n",
    "    return embeddings_index, embedding_matrix\n",
    "\n",
    "# Replace with your downloaded GloVe file path and desired dimensionality\n",
    "glove_file = \"glove.6B.100d.txt\"  # Example: glove.6B.100d.txt\n",
    "embedding_dim = 100\n",
    "\n",
    "# Create a dictionary mapping words to their unique IDs (optional for vectorization)\n",
    "word_to_id = {}\n",
    "next_id = 1\n",
    "for sentence in words2:  # Iterate through sentences in the nested list\n",
    "    for word in sentence:\n",
    "        if word not in word_to_id:\n",
    "            word_to_id[word] = next_id\n",
    "            next_id += 1\n",
    "\n",
    "# Load the GloVe embeddings\n",
    "embeddings_index, embedding_matrix = load_glove_embeddings(glove_file, embedding_dim)\n"
   ]
  },
  {
   "cell_type": "code",
   "execution_count": 44,
   "metadata": {},
   "outputs": [
    {
     "data": {
      "text/plain": [
       "71"
      ]
     },
     "execution_count": 44,
     "metadata": {},
     "output_type": "execute_result"
    }
   ],
   "source": [
    "# find the maxlength of the sentence\n",
    "max_length = max([len(i) for i in words2])\n",
    "max_length"
   ]
  },
  {
   "cell_type": "code",
   "execution_count": 45,
   "metadata": {},
   "outputs": [],
   "source": [
    "# Vectorization of words\n",
    "word_embeddings2 = []\n",
    "for sentence in words2:\n",
    "    sentence_embedding = []\n",
    "    for word in sentence:\n",
    "        vector = embeddings_index.get(word)\n",
    "        if vector is not None:\n",
    "            sentence_embedding.append(vector)\n",
    "        else:\n",
    "            sentence_embedding.append(np.zeros(100)) # dimension of the glove file used.\n",
    "    word_embeddings2.append(sentence_embedding)"
   ]
  },
  {
   "cell_type": "code",
   "execution_count": 46,
   "metadata": {},
   "outputs": [
    {
     "data": {
      "text/plain": [
       "(328, 78, 100)"
      ]
     },
     "execution_count": 46,
     "metadata": {},
     "output_type": "execute_result"
    }
   ],
   "source": [
    "for sentence in word_embeddings2:\n",
    "    sentence_length = len(sentence)\n",
    "    if sentence_length < 78: #max length of sentence = 70\n",
    "        while len(sentence) < 78:\n",
    "            sentence.append(np.zeros(100))     \n",
    "\n",
    "# padding to convert into (9435, 70, 100)  from (9435, variable_length, 70)           \n",
    "for i in range(len(word_embeddings2)):\n",
    "    word_embeddings2[i] = np.array(word_embeddings2[i])\n",
    "word_embeddings2 = np.array(word_embeddings2)\n",
    "word_embeddings2.shape "
   ]
  },
  {
   "cell_type": "code",
   "execution_count": 47,
   "metadata": {},
   "outputs": [
    {
     "name": "stdout",
     "output_type": "stream",
     "text": [
      "{'O', 'I', 'B'}\n"
     ]
    }
   ],
   "source": [
    "flat_labels = [label for sublist in labels for label in sublist]\n",
    "\n",
    "# Find unique labels\n",
    "unique_labels = set(flat_labels)\n",
    "\n",
    "print(unique_labels)\n",
    "\n",
    "label2idx = {label: idx for idx, label in enumerate(unique_labels)}\n",
    "labels_idx = [[label2idx[label] for label in sublist] for sublist in labels]\n",
    "\n",
    "# One-hot encode labels\n",
    "num_classes = len(unique_labels)\n",
    "one_hot_labels = [to_categorical(sublist, num_classes=num_classes) for sublist in labels_idx]"
   ]
  },
  {
   "cell_type": "code",
   "execution_count": 48,
   "metadata": {},
   "outputs": [
    {
     "name": "stderr",
     "output_type": "stream",
     "text": [
      "C:\\Users\\Lenovo\\AppData\\Local\\Temp\\ipykernel_18108\\1278505847.py:1: VisibleDeprecationWarning: Creating an ndarray from ragged nested sequences (which is a list-or-tuple of lists-or-tuples-or ndarrays with different lengths or shapes) is deprecated. If you meant to do this, you must specify 'dtype=object' when creating the ndarray.\n",
      "  labels_padded = np.zeros((np.array(one_hot_labels).shape[0], 78, 3))  # Initialize padded array\n"
     ]
    },
    {
     "data": {
      "text/plain": [
       "(328, 78, 3)"
      ]
     },
     "execution_count": 48,
     "metadata": {},
     "output_type": "execute_result"
    }
   ],
   "source": [
    "labels_padded = np.zeros((np.array(one_hot_labels).shape[0], 78, 3))  # Initialize padded array\n",
    "\n",
    "# Iterate over each sentence in one_hot_labels and pad to length 70\n",
    "for i, sentence in enumerate(one_hot_labels):\n",
    "    padded_sentence = np.pad(sentence, ((0, 78 - len(sentence)), (0, 0)), mode='constant', constant_values=0)\n",
    "    labels_padded[i] = padded_sentence\n",
    "labels_padded.shape"
   ]
  },
  {
   "cell_type": "code",
   "execution_count": 49,
   "metadata": {},
   "outputs": [
    {
     "name": "stdout",
     "output_type": "stream",
     "text": [
      "11/11 [==============================] - 0s 22ms/step - loss: 0.0617 - accuracy: 0.9769\n",
      "Test Loss: 0.061659399420022964\n",
      "Test Accuracy: 0.976860523223877\n"
     ]
    }
   ],
   "source": [
    "X_test_padded = word_embeddings2\n",
    "y_test_padded = labels_padded\n",
    "\n",
    "# Evaluate the model on the test data\n",
    "test_loss, test_accuracy = model.evaluate(X_test_padded, y_test_padded)\n",
    "print(\"Test Loss:\", test_loss)\n",
    "print(\"Test Accuracy:\", test_accuracy)"
   ]
  }
 ],
 "metadata": {
  "kernelspec": {
   "display_name": "Python 3",
   "language": "python",
   "name": "python3"
  },
  "language_info": {
   "codemirror_mode": {
    "name": "ipython",
    "version": 3
   },
   "file_extension": ".py",
   "mimetype": "text/x-python",
   "name": "python",
   "nbconvert_exporter": "python",
   "pygments_lexer": "ipython3",
   "version": "3.11.5"
  }
 },
 "nbformat": 4,
 "nbformat_minor": 2
}
