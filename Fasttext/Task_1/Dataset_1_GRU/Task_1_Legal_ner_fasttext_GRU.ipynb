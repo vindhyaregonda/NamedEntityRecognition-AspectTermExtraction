{
 "cells": [
  {
   "cell_type": "code",
   "execution_count": 1,
   "metadata": {},
   "outputs": [
    {
     "name": "stderr",
     "output_type": "stream",
     "text": [
      "2024-03-11 14:05:11.306775: I tensorflow/core/util/port.cc:113] oneDNN custom operations are on. You may see slightly different numerical results due to floating-point round-off errors from different computation orders. To turn them off, set the environment variable `TF_ENABLE_ONEDNN_OPTS=0`.\n",
      "2024-03-11 14:05:11.353280: E external/local_xla/xla/stream_executor/cuda/cuda_dnn.cc:9261] Unable to register cuDNN factory: Attempting to register factory for plugin cuDNN when one has already been registered\n",
      "2024-03-11 14:05:11.353313: E external/local_xla/xla/stream_executor/cuda/cuda_fft.cc:607] Unable to register cuFFT factory: Attempting to register factory for plugin cuFFT when one has already been registered\n",
      "2024-03-11 14:05:11.354567: E external/local_xla/xla/stream_executor/cuda/cuda_blas.cc:1515] Unable to register cuBLAS factory: Attempting to register factory for plugin cuBLAS when one has already been registered\n",
      "2024-03-11 14:05:11.362168: I tensorflow/core/platform/cpu_feature_guard.cc:182] This TensorFlow binary is optimized to use available CPU instructions in performance-critical operations.\n",
      "To enable the following instructions: AVX2 AVX512F AVX512_VNNI FMA, in other operations, rebuild TensorFlow with the appropriate compiler flags.\n",
      "2024-03-11 14:05:12.235529: W tensorflow/compiler/tf2tensorrt/utils/py_utils.cc:38] TF-TRT Warning: Could not find TensorRT\n"
     ]
    }
   ],
   "source": [
    "#!pip install gensim\n",
    "import json\n",
    "import numpy as np\n",
    "from tensorflow.keras.preprocessing.text import Tokenizer\n",
    "from tensorflow.keras.utils import to_categorical\n",
    "from tensorflow.keras.preprocessing.sequence import pad_sequences\n",
    "from tensorflow.keras.models import Sequential\n",
    "from tensorflow.keras.layers import Embedding, SimpleRNN, Dense\n",
    "from tensorflow.keras.losses import CategoricalCrossentropy\n",
    "from tensorflow.keras.optimizers import Adam\n",
    "from tensorflow.keras.layers import SimpleRNN, Dense, Dropout\n",
    "from tensorflow.keras import regularizers\n",
    "import tensorflow as tf\n",
    "from sklearn.metrics import f1_score\n",
    "import matplotlib.pyplot as plt\n",
    "from tensorflow.keras.callbacks import EarlyStopping, ModelCheckpoint\n",
    "import numpy as np\n",
    "from sklearn.metrics import classification_report\n",
    "from gensim.models import FastText\n"
   ]
  },
  {
   "cell_type": "code",
   "execution_count": 2,
   "metadata": {},
   "outputs": [
    {
     "name": "stdout",
     "output_type": "stream",
     "text": [
      "2 Physical GPU, 1 Logical GPU\n"
     ]
    },
    {
     "name": "stderr",
     "output_type": "stream",
     "text": [
      "2024-03-11 14:05:15.721673: I tensorflow/core/common_runtime/gpu/gpu_device.cc:1929] Created device /job:localhost/replica:0/task:0/device:GPU:0 with 14408 MB memory:  -> device: 1, name: NVIDIA RTX A4000, pci bus id: 0000:af:00.0, compute capability: 8.6\n"
     ]
    }
   ],
   "source": [
    "import tensorflow as tf\n",
    "\n",
    "# Check available GPUs\n",
    "gpus = tf.config.experimental.list_physical_devices('GPU')\n",
    "if gpus:\n",
    "    # Restrict TensorFlow to only use the second GPU\n",
    "    try:\n",
    "        tf.config.experimental.set_visible_devices(gpus[1], 'GPU')\n",
    "        logical_gpus = tf.config.experimental.list_logical_devices('GPU')\n",
    "        print(len(gpus), \"Physical GPU,\", len(logical_gpus), \"Logical GPU\")\n",
    "    except RuntimeError as e:\n",
    "        # Visible devices must be set before GPUs have been initialized\n",
    "        print(e)"
   ]
  },
  {
   "cell_type": "code",
   "execution_count": 3,
   "metadata": {},
   "outputs": [],
   "source": [
    "# use word2vec\n",
    "def load_data(file):\n",
    "    with open(file, 'r', encoding='utf-8') as f:\n",
    "        data = json.load(f)\n",
    "    return data\n",
    "\n",
    "data = load_data(\"Dataset1-NamedEntityRecognition_train.json\")\n",
    "\n",
    "texts = [data[key][\"text\"] for key in data]\n",
    "words = [sentence.split() for sentence in texts]\n",
    "nested_labels = [data[key][\"labels\"] for key in data]\n"
   ]
  },
  {
   "cell_type": "code",
   "execution_count": 4,
   "metadata": {},
   "outputs": [
    {
     "name": "stdout",
     "output_type": "stream",
     "text": [
      "Maximum length of text: 70\n"
     ]
    }
   ],
   "source": [
    "def load_data(file):\n",
    "    with open(file, 'r', encoding='utf-8') as f:\n",
    "        data = json.load(f)\n",
    "    return data\n",
    "\n",
    "data = load_data(\"Dataset1-NamedEntityRecognition_train.json\")\n",
    "\n",
    "texts = [data[key][\"text\"] for key in data]\n",
    "\n",
    "# Compute the maximum length of the texts\n",
    "max_length = max(len(text.split()) for text in texts)\n",
    "\n",
    "print(\"Maximum length of text:\", max_length)\n"
   ]
  },
  {
   "cell_type": "code",
   "execution_count": 5,
   "metadata": {},
   "outputs": [],
   "source": [
    "# Create FastText model\n",
    "fasttext_model = FastText(sentences=words, vector_size=100, min_count=1, epochs=10)\n",
    "\n",
    "# Create word vectors dictionary with consistent lowercase keys\n",
    "word_vectors = {}\n",
    "for word in fasttext_model.wv.index_to_key:\n",
    "    try:\n",
    "        word_vectors[word.lower()] = fasttext_model.wv[word.lower()]\n",
    "    except KeyError:\n",
    "        # Handle out-of-vocabulary words\n",
    "        pass\n",
    "\n",
    "# Handle out-of-vocabulary (OOV) words in get_word_vector function\n",
    "def get_word_vector(word):\n",
    "    word_lower = word.lower()  # Ensure lowercase for consistency\n",
    "    if word_lower in word_vectors:\n",
    "        return word_vectors[word_lower]\n",
    "    else:\n",
    "        # Choose an appropriate strategy for OOV words:\n",
    "        # - Return the zero vector (default)\n",
    "        # - Use word averaging or other embedding techniques\n",
    "        # - Handle OOV cases differently depending on your specific requirements\n",
    "        return np.zeros(fasttext_model.vector_size)\n",
    "    \n",
    "# Embed sentences\n",
    "word_embeddings = [[get_word_vector(word) for word in sentence] for sentence in words]\n"
   ]
  },
  {
   "cell_type": "code",
   "execution_count": 6,
   "metadata": {},
   "outputs": [
    {
     "data": {
      "text/plain": [
       "(9435, 70, 100)"
      ]
     },
     "execution_count": 6,
     "metadata": {},
     "output_type": "execute_result"
    }
   ],
   "source": [
    "for sentence in word_embeddings:\n",
    "    sentence_length = len(sentence)\n",
    "    if sentence_length < 70: #max length of sentence = 70\n",
    "        while len(sentence) < 70:\n",
    "            sentence.append(np.zeros(100))     \n",
    "\n",
    "# padding to convert into (9435, 70, 100)  from (9435, variable_length, 70)           \n",
    "for i in range(len(word_embeddings)):\n",
    "    word_embeddings[i] = np.array(word_embeddings[i])\n",
    "word_embeddings = np.array(word_embeddings)\n",
    "word_embeddings.shape            "
   ]
  },
  {
   "cell_type": "code",
   "execution_count": 7,
   "metadata": {},
   "outputs": [
    {
     "name": "stdout",
     "output_type": "stream",
     "text": [
      "{'I_OTHER_PERSON', 'I_STATUTE', 'I_PETITIONER', 'B_PRECEDENT', 'B_STATUTE', 'B_OTHER_PERSON', 'I_GPE', 'B_JUDGE', 'B_COURT', 'B_WITNESS', 'B_ORG', 'I_CASE_NUMBER', 'I_RESPONDENT', 'O', 'I_JUDGE', 'B_DATE', 'I_WITNESS', 'B_GPE', 'I_COURT', 'I_PRECEDENT', 'I_PROVISION', 'B_CASE_NUMBER', 'B_RESPONDENT', 'I_ORG', 'B_PETITIONER', 'I_DATE', 'B_PROVISION'}\n"
     ]
    },
    {
     "data": {
      "text/plain": [
       "[13,\n",
       " 13,\n",
       " 13,\n",
       " 13,\n",
       " 13,\n",
       " 13,\n",
       " 13,\n",
       " 13,\n",
       " 13,\n",
       " 13,\n",
       " 13,\n",
       " 13,\n",
       " 13,\n",
       " 13,\n",
       " 13,\n",
       " 13,\n",
       " 13,\n",
       " 10,\n",
       " 23,\n",
       " 13,\n",
       " 13,\n",
       " 13,\n",
       " 13,\n",
       " 13,\n",
       " 13,\n",
       " 13,\n",
       " 13,\n",
       " 13,\n",
       " 13,\n",
       " 13,\n",
       " 13,\n",
       " 13,\n",
       " 13,\n",
       " 13,\n",
       " 13,\n",
       " 13,\n",
       " 13,\n",
       " 13,\n",
       " 13,\n",
       " 13,\n",
       " 13,\n",
       " 13,\n",
       " 13,\n",
       " 13,\n",
       " 13,\n",
       " 13,\n",
       " 10,\n",
       " 23,\n",
       " 23,\n",
       " 13,\n",
       " 13,\n",
       " 13,\n",
       " 13,\n",
       " 13,\n",
       " 13,\n",
       " 13,\n",
       " 13,\n",
       " 13,\n",
       " 13,\n",
       " 13,\n",
       " 13,\n",
       " 13,\n",
       " 13,\n",
       " 13,\n",
       " 13,\n",
       " 13]"
      ]
     },
     "execution_count": 7,
     "metadata": {},
     "output_type": "execute_result"
    }
   ],
   "source": [
    "flat_labels = [label for sublist in nested_labels for label in sublist]\n",
    "\n",
    "# Find unique labels\n",
    "unique_labels = set(flat_labels)\n",
    "\n",
    "print(unique_labels)\n",
    "\n",
    "label2idx = {label: idx for idx, label in enumerate(unique_labels)}\n",
    "labels_idx = [[label2idx[label] for label in sublist] for sublist in nested_labels]\n",
    "\n",
    "# One-hot encode labels\n",
    "num_classes = len(unique_labels)\n",
    "one_hot_labels = [to_categorical(sublist, num_classes=num_classes) for sublist in labels_idx]\n",
    "def convert_to_list(lst):\n",
    "    if isinstance(lst, np.ndarray):\n",
    "        return lst.tolist()\n",
    "    elif isinstance(lst, list):\n",
    "        return [convert_to_list(item) for item in lst]\n",
    "    else:\n",
    "        return lst\n",
    "one_hot_labels = convert_to_list(one_hot_labels)\n",
    "labels_idx[0]"
   ]
  },
  {
   "cell_type": "code",
   "execution_count": 8,
   "metadata": {},
   "outputs": [
    {
     "name": "stdout",
     "output_type": "stream",
     "text": [
      "{'I_OTHER_PERSON': 0, 'I_STATUTE': 1, 'I_PETITIONER': 2, 'B_PRECEDENT': 3, 'B_STATUTE': 4, 'B_OTHER_PERSON': 5, 'I_GPE': 6, 'B_JUDGE': 7, 'B_COURT': 8, 'B_WITNESS': 9, 'B_ORG': 10, 'I_CASE_NUMBER': 11, 'I_RESPONDENT': 12, 'O': 13, 'I_JUDGE': 14, 'B_DATE': 15, 'I_WITNESS': 16, 'B_GPE': 17, 'I_COURT': 18, 'I_PRECEDENT': 19, 'I_PROVISION': 20, 'B_CASE_NUMBER': 21, 'B_RESPONDENT': 22, 'I_ORG': 23, 'B_PETITIONER': 24, 'I_DATE': 25, 'B_PROVISION': 26}\n"
     ]
    }
   ],
   "source": [
    "print(label2idx)"
   ]
  },
  {
   "cell_type": "code",
   "execution_count": 9,
   "metadata": {},
   "outputs": [
    {
     "data": {
      "text/plain": [
       "(9435, 70, 27)"
      ]
     },
     "execution_count": 9,
     "metadata": {},
     "output_type": "execute_result"
    }
   ],
   "source": [
    "for sentence in one_hot_labels:\n",
    "    sentence_length = len(sentence)\n",
    "    if sentence_length < 70: #max length of sentence = 70\n",
    "        while len(sentence) < 70:\n",
    "            sentence.append([0., 0., 0., 0., 0., 0., 0., 0., 0., 0., 0., 0., 0., 1., 0., 1., 0., 0., 0., 0., 0., 0., 0., 0., 0., 0., 0.])\n",
    "\n",
    "one_hot_labels = np.array(one_hot_labels)\n",
    "one_hot_labels.shape"
   ]
  },
  {
   "cell_type": "code",
   "execution_count": 10,
   "metadata": {},
   "outputs": [],
   "source": [
    "# 1. Prepare the data (already padded)\n",
    "X_train_padded = word_embeddings  \n",
    "y_train_padded = one_hot_labels  "
   ]
  },
  {
   "cell_type": "code",
   "execution_count": 11,
   "metadata": {},
   "outputs": [],
   "source": [
    "# # Split into training and validation sets (85-15 split)\n",
    "split = int(0.85 * len(X_train_padded))\n",
    "X_train, X_val = X_train_padded[:split], X_train_padded[split:]\n",
    "y_train, y_val = y_train_padded[:split], y_train_padded[split:]"
   ]
  },
  {
   "cell_type": "code",
   "execution_count": 12,
   "metadata": {},
   "outputs": [
    {
     "name": "stderr",
     "output_type": "stream",
     "text": [
      "2024-03-11 14:07:09.620234: I external/local_tsl/tsl/platform/default/subprocess.cc:304] Start cannot spawn child process: No such file or directory\n",
      "2024-03-11 14:07:12.647595: I external/local_xla/xla/stream_executor/cuda/cuda_dnn.cc:454] Loaded cuDNN version 8902\n",
      "2024-03-11 14:07:12.964580: I external/local_xla/xla/service/service.cc:168] XLA service 0x7fe9a9a388d0 initialized for platform CUDA (this does not guarantee that XLA will be used). Devices:\n",
      "2024-03-11 14:07:12.964616: I external/local_xla/xla/service/service.cc:176]   StreamExecutor device (0): NVIDIA RTX A4000, Compute Capability 8.6\n",
      "2024-03-11 14:07:12.972161: I tensorflow/compiler/mlir/tensorflow/utils/dump_mlir_util.cc:269] disabling MLIR crash reproducer, set env var `MLIR_CRASH_REPRODUCER_DIRECTORY` to enable.\n",
      "WARNING: All log messages before absl::InitializeLog() is called are written to STDERR\n",
      "I0000 00:00:1710166033.143210 1342395 device_compiler.h:186] Compiled cluster using XLA!  This line is logged at most once for the lifetime of the process.\n"
     ]
    },
    {
     "name": "stdout",
     "output_type": "stream",
     "text": [
      "251/251 [==============================] - 9s 20ms/step - loss: 1.3619 - accuracy: 0.9286 - val_loss: 1.0644 - val_accuracy: 0.9354\n",
      "251/251 [==============================] - 2s 8ms/step\n",
      "45/45 [==============================] - 0s 8ms/step\n",
      "Epoch 1: Training Macro-F1-score: 0.10417489745222078, Validation Macro-F1-score: 0.10328996529376659\n",
      "Epoch 1: Training Accuracy: 0.9285714030265808, Validation Accuracy: 0.9353510737419128\n",
      "251/251 [==============================] - 5s 19ms/step - loss: 1.0182 - accuracy: 0.9422 - val_loss: 1.0075 - val_accuracy: 0.9424\n",
      "251/251 [==============================] - 2s 8ms/step\n",
      "45/45 [==============================] - 0s 8ms/step\n",
      "Epoch 2: Training Macro-F1-score: 0.16221573547226473, Validation Macro-F1-score: 0.16157233726946435\n",
      "Epoch 2: Training Accuracy: 0.9422069191932678, Validation Accuracy: 0.9424031376838684\n",
      "251/251 [==============================] - 5s 19ms/step - loss: 0.9868 - accuracy: 0.9472 - val_loss: 0.9882 - val_accuracy: 0.9458\n",
      "251/251 [==============================] - 2s 8ms/step\n",
      "45/45 [==============================] - 0s 8ms/step\n",
      "Epoch 3: Training Macro-F1-score: 0.213358379139294, Validation Macro-F1-score: 0.20862294084482488\n",
      "Epoch 3: Training Accuracy: 0.9471843838691711, Validation Accuracy: 0.9457728266716003\n",
      "251/251 [==============================] - 5s 19ms/step - loss: 0.9725 - accuracy: 0.9497 - val_loss: 0.9727 - val_accuracy: 0.9482\n",
      "251/251 [==============================] - 2s 9ms/step\n",
      "45/45 [==============================] - 0s 8ms/step\n",
      "Epoch 4: Training Macro-F1-score: 0.24854169905910448, Validation Macro-F1-score: 0.24309158875403755\n",
      "Epoch 4: Training Accuracy: 0.9496802091598511, Validation Accuracy: 0.9481537342071533\n",
      "251/251 [==============================] - 5s 19ms/step - loss: 0.9600 - accuracy: 0.9517 - val_loss: 0.9697 - val_accuracy: 0.9480\n",
      "251/251 [==============================] - 2s 8ms/step\n",
      "45/45 [==============================] - 0s 8ms/step\n",
      "Epoch 5: Training Macro-F1-score: 0.2995068909724462, Validation Macro-F1-score: 0.2884688780909554\n",
      "Epoch 5: Training Accuracy: 0.9516844153404236, Validation Accuracy: 0.9479923248291016\n",
      "251/251 [==============================] - 5s 18ms/step - loss: 0.9554 - accuracy: 0.9525 - val_loss: 0.9628 - val_accuracy: 0.9493\n",
      "251/251 [==============================] - 2s 8ms/step\n",
      "45/45 [==============================] - 0s 8ms/step\n",
      "Epoch 6: Training Macro-F1-score: 0.30522986425443055, Validation Macro-F1-score: 0.2887600118883926\n",
      "Epoch 6: Training Accuracy: 0.9524789452552795, Validation Accuracy: 0.9493139386177063\n",
      "251/251 [==============================] - 5s 19ms/step - loss: 0.9492 - accuracy: 0.9536 - val_loss: 0.9733 - val_accuracy: 0.9475\n",
      "251/251 [==============================] - 2s 8ms/step\n",
      "45/45 [==============================] - 0s 8ms/step\n",
      "Epoch 7: Training Macro-F1-score: 0.3152230472459203, Validation Macro-F1-score: 0.29712814226127654\n",
      "Epoch 7: Training Accuracy: 0.9535799026489258, Validation Accuracy: 0.9474677443504333\n",
      "251/251 [==============================] - 5s 18ms/step - loss: 0.9521 - accuracy: 0.9539 - val_loss: 0.9889 - val_accuracy: 0.9478\n",
      "251/251 [==============================] - 2s 8ms/step\n",
      "45/45 [==============================] - 0s 8ms/step\n",
      "Epoch 8: Training Macro-F1-score: 0.3467523280892194, Validation Macro-F1-score: 0.32696207527262783\n",
      "Epoch 8: Training Accuracy: 0.9539397358894348, Validation Accuracy: 0.947810709476471\n",
      "251/251 [==============================] - 5s 19ms/step - loss: 0.9470 - accuracy: 0.9551 - val_loss: 0.9966 - val_accuracy: 0.9489\n",
      "251/251 [==============================] - 2s 8ms/step\n",
      "45/45 [==============================] - 0s 8ms/step\n",
      "Epoch 9: Training Macro-F1-score: 0.35544631158839857, Validation Macro-F1-score: 0.33481498048352604\n",
      "Epoch 9: Training Accuracy: 0.9550870060920715, Validation Accuracy: 0.948890209197998\n",
      "251/251 [==============================] - 5s 19ms/step - loss: 0.9473 - accuracy: 0.9560 - val_loss: 0.9622 - val_accuracy: 0.9526\n",
      "251/251 [==============================] - 2s 8ms/step\n",
      "45/45 [==============================] - 0s 8ms/step\n",
      "Epoch 10: Training Macro-F1-score: 0.3495591679918134, Validation Macro-F1-score: 0.32638175383522117\n",
      "Epoch 10: Training Accuracy: 0.9559866786003113, Validation Accuracy: 0.9525927901268005\n",
      "251/251 [==============================] - 5s 19ms/step - loss: 0.9391 - accuracy: 0.9573 - val_loss: 0.9826 - val_accuracy: 0.9528\n",
      "251/251 [==============================] - 2s 8ms/step\n",
      "45/45 [==============================] - 0s 8ms/step\n",
      "Epoch 11: Training Macro-F1-score: 0.35785446955955497, Validation Macro-F1-score: 0.3351668674110624\n",
      "Epoch 11: Training Accuracy: 0.9573138952255249, Validation Accuracy: 0.9527744054794312\n",
      "251/251 [==============================] - 5s 18ms/step - loss: 0.9449 - accuracy: 0.9573 - val_loss: 0.9901 - val_accuracy: 0.9519\n",
      "251/251 [==============================] - 2s 8ms/step\n",
      "45/45 [==============================] - 0s 8ms/step\n",
      "Epoch 12: Training Macro-F1-score: 0.35335166030452975, Validation Macro-F1-score: 0.3300178706137166\n",
      "Epoch 12: Training Accuracy: 0.9573423862457275, Validation Accuracy: 0.9519168734550476\n",
      "251/251 [==============================] - 5s 19ms/step - loss: 0.9431 - accuracy: 0.9574 - val_loss: 0.9673 - val_accuracy: 0.9536\n",
      "251/251 [==============================] - 2s 8ms/step\n",
      "45/45 [==============================] - 0s 8ms/step\n",
      "Epoch 13: Training Macro-F1-score: 0.36367180915669217, Validation Macro-F1-score: 0.33899315615727005\n",
      "Epoch 13: Training Accuracy: 0.9574011564254761, Validation Accuracy: 0.9536319375038147\n",
      "251/251 [==============================] - 5s 18ms/step - loss: 0.9393 - accuracy: 0.9581 - val_loss: 0.9985 - val_accuracy: 0.9504\n",
      "251/251 [==============================] - 2s 8ms/step\n",
      "45/45 [==============================] - 0s 8ms/step\n",
      "Epoch 14: Training Macro-F1-score: 0.3786688106010713, Validation Macro-F1-score: 0.3615809444333005\n",
      "Epoch 14: Training Accuracy: 0.9580799341201782, Validation Accuracy: 0.9503833651542664\n",
      "251/251 [==============================] - 5s 19ms/step - loss: 0.9431 - accuracy: 0.9583 - val_loss: 1.0246 - val_accuracy: 0.9496\n",
      "251/251 [==============================] - 2s 8ms/step\n",
      "45/45 [==============================] - 0s 8ms/step\n",
      "Epoch 15: Training Macro-F1-score: 0.371337568178874, Validation Macro-F1-score: 0.351934774531613\n",
      "Epoch 15: Training Accuracy: 0.9583079218864441, Validation Accuracy: 0.9495661854743958\n",
      "251/251 [==============================] - 5s 18ms/step - loss: 0.9380 - accuracy: 0.9589 - val_loss: 0.9903 - val_accuracy: 0.9535\n",
      "251/251 [==============================] - 2s 8ms/step\n",
      "45/45 [==============================] - 0s 8ms/step\n",
      "Epoch 16: Training Macro-F1-score: 0.3948330958229807, Validation Macro-F1-score: 0.3686336338949276\n",
      "Epoch 16: Training Accuracy: 0.9588690996170044, Validation Accuracy: 0.9535008072853088\n",
      "251/251 [==============================] - 5s 18ms/step - loss: 0.9362 - accuracy: 0.9589 - val_loss: 0.9690 - val_accuracy: 0.9541\n",
      "251/251 [==============================] - 2s 8ms/step\n",
      "45/45 [==============================] - 0s 8ms/step\n",
      "Epoch 17: Training Macro-F1-score: 0.3881251399403368, Validation Macro-F1-score: 0.35792748463627605\n",
      "Epoch 17: Training Accuracy: 0.9589172005653381, Validation Accuracy: 0.9541262984275818\n",
      "251/251 [==============================] - 5s 18ms/step - loss: 0.9324 - accuracy: 0.9589 - val_loss: 0.9755 - val_accuracy: 0.9531\n",
      "251/251 [==============================] - 2s 8ms/step\n",
      "45/45 [==============================] - 0s 8ms/step\n",
      "Epoch 18: Training Macro-F1-score: 0.39780908311295454, Validation Macro-F1-score: 0.36856613626349427\n",
      "Epoch 18: Training Accuracy: 0.9588530659675598, Validation Accuracy: 0.9531073570251465\n",
      "251/251 [==============================] - 5s 19ms/step - loss: 0.9244 - accuracy: 0.9598 - val_loss: 1.0122 - val_accuracy: 0.9513\n",
      "251/251 [==============================] - 2s 8ms/step\n",
      "45/45 [==============================] - 0s 8ms/step\n",
      "Epoch 19: Training Macro-F1-score: 0.3456085900860496, Validation Macro-F1-score: 0.32190092822669836\n",
      "Epoch 19: Training Accuracy: 0.959836483001709, Validation Accuracy: 0.9513418078422546\n",
      "251/251 [==============================] - 5s 19ms/step - loss: 0.9268 - accuracy: 0.9595 - val_loss: 0.9669 - val_accuracy: 0.9542\n",
      "251/251 [==============================] - 2s 8ms/step\n",
      "45/45 [==============================] - 0s 9ms/step\n",
      "Epoch 20: Training Macro-F1-score: 0.40139751526131656, Validation Macro-F1-score: 0.37252150511113685\n",
      "Epoch 20: Training Accuracy: 0.9595478773117065, Validation Accuracy: 0.9542272090911865\n"
     ]
    },
    {
     "data": {
      "image/png": "[encoded data removed]",
      "text/plain": [
       "<Figure size 640x480 with 1 Axes>"
      ]
     },
     "metadata": {},
     "output_type": "display_data"
    },
    {
     "data": {
      "image/png": "[encoded data removed]",
      "text/plain": [
       "<Figure size 640x480 with 1 Axes>"
      ]
     },
     "metadata": {},
     "output_type": "display_data"
    },
    {
     "data": {
      "image/png": "[encoded data removed]",
      "text/plain": [
       "<Figure size 640x480 with 1 Axes>"
      ]
     },
     "metadata": {},
     "output_type": "display_data"
    }
   ],
   "source": [
    "# Define the RNN model architecture\n",
    "model = tf.keras.Sequential([\n",
    "    tf.keras.layers.GRU(units=128, return_sequences=True, input_shape=(70, 100)),\n",
    "    tf.keras.layers.Dense(120, activation='relu'),\n",
    "    tf.keras.layers.Dense(100, activation='tanh'),\n",
    "    tf.keras.layers.Dense(27, activation='softmax')\n",
    "])\n",
    "\n",
    "# Compile the model\n",
    "model.compile(loss='categorical_crossentropy', optimizer='adam', metrics=['accuracy'])\n",
    "\n",
    "# Define early stopping callback\n",
    "early_stopping = EarlyStopping(monitor='val_loss', patience=3, verbose=1, restore_best_weights=True)\n",
    "\n",
    "# Train the model and Initialize lists to store F1-score values\n",
    "train_f1_scores = []\n",
    "val_f1_scores = []\n",
    "train_losses = []\n",
    "val_losses = []\n",
    "train_acc = []\n",
    "val_acc = []\n",
    "\n",
    "train_f1_scores_per_label = []\n",
    "val_f1_scores_per_label = []\n",
    "\n",
    "for epoch in range(20):\n",
    "    # Perform one epoch of training\n",
    "    history = model.fit(X_train, y_train, epochs=1, batch_size=32, verbose=True, validation_data=(X_val, y_val), callbacks=[early_stopping])\n",
    "\n",
    "    # Get predictions for training and validation data\n",
    "    y_train_pred = model.predict(X_train)\n",
    "    y_val_pred = model.predict(X_val)\n",
    "\n",
    "    # Convert one-hot encoded labels back to integer labels\n",
    "    y_train_true = np.argmax(y_train, axis=-1)\n",
    "    y_val_true = np.argmax(y_val, axis=-1)\n",
    "\n",
    "    # Calculate F1-score for training and validation data\n",
    "    train_f1 = f1_score(y_train_true.flatten(), y_train_pred.argmax(axis=2).flatten(), average='macro')\n",
    "    val_f1 = f1_score(y_val_true.flatten(), y_val_pred.argmax(axis=2).flatten(), average='macro')\n",
    "\n",
    "    train_f1_per_label = f1_score(y_train_true.flatten(), y_train_pred.argmax(axis=2).flatten(), average=None)\n",
    "    val_f1_per_label = f1_score(y_val_true.flatten(), y_val_pred.argmax(axis=2).flatten(), average=None)\n",
    "    \n",
    "    # Append F1-score values to lists\n",
    "    train_f1_scores_per_label.append(train_f1_per_label)\n",
    "    val_f1_scores_per_label.append(val_f1_per_label)\n",
    "    \n",
    "    # Append F1-score values to lists\n",
    "    train_f1_scores.append(train_f1)\n",
    "    val_f1_scores.append(val_f1)\n",
    "\n",
    "    # Append losses to lists\n",
    "    train_losses.append(history.history['loss'])\n",
    "    val_losses.append(history.history['val_loss'])\n",
    "\n",
    "    # Append accuracy to lists\n",
    "    train_acc.append(history.history['accuracy'])\n",
    "    val_acc.append(history.history['val_accuracy'])\n",
    "\n",
    "    # Print F1-score and accuracy for each epoch\n",
    "    print(f'Epoch {epoch + 1}: Training Macro-F1-score: {train_f1}, Validation Macro-F1-score: {val_f1}')\n",
    "    print(f'Epoch {epoch + 1}: Training Accuracy: {history.history[\"accuracy\"][-1]}, Validation Accuracy: {history.history[\"val_accuracy\"][-1]}')\n",
    "\n",
    "# Plot F1-score\n",
    "plt.plot(train_f1_scores, label='Training Macro-F1-score')\n",
    "plt.plot(val_f1_scores, label='Validation Macro-F1-score')\n",
    "plt.xlabel('Epochs')\n",
    "plt.ylabel('Macro-F1-score')\n",
    "plt.legend()\n",
    "plt.savefig('/task_1_Fasttext_simple_RNN_f1_score.png')  # Save F1-score figure\n",
    "plt.show()\n",
    "\n",
    "# Plot Loss\n",
    "plt.plot(train_losses, label='Training Loss')\n",
    "plt.plot(val_losses, label='Validation Loss')\n",
    "plt.xlabel('Epochs')\n",
    "plt.ylabel('Loss')\n",
    "plt.legend()\n",
    "plt.savefig('/task_1_Fasttext_simple_RNN_loss.png')  # Save loss figure\n",
    "plt.show()\n",
    "\n",
    "# Plot Accuracy\n",
    "plt.plot(train_acc, label='Training Accuracy')\n",
    "plt.plot(val_acc, label='Validation Accuracy')\n",
    "plt.xlabel('Epochs')\n",
    "plt.ylabel('Accuracy')\n",
    "plt.legend()\n",
    "plt.savefig('/task_1_Fasttext_simple_RNN_accuracy.png')  # Save accuracy figure\n",
    "plt.show()\n"
   ]
  },
  {
   "cell_type": "code",
   "execution_count": 13,
   "metadata": {},
   "outputs": [],
   "source": [
    "model.save('/task_1_Fasttext_GRU_Dataset_1.keras')"
   ]
  },
  {
   "cell_type": "markdown",
   "metadata": {},
   "source": [
    "## Test data"
   ]
  },
  {
   "cell_type": "code",
   "execution_count": 14,
   "metadata": {},
   "outputs": [],
   "source": [
    "# test data\n",
    "def load_data(file):\n",
    "    with open(file, 'r', encoding='utf-8') as f:\n",
    "        data = json.load(f)\n",
    "    return data\n",
    "\n",
    "data_test = load_data(\"/Dataset1-NamedEntityRecognition_test.json\")\n",
    "\n",
    "texts_test = [data_test[key][\"text\"] for key in data_test]\n",
    "words_test = [sentence.split() for sentence in texts_test]\n",
    "nested_labels_test = [data_test[key][\"labels\"] for key in data_test]"
   ]
  },
  {
   "cell_type": "code",
   "execution_count": 15,
   "metadata": {},
   "outputs": [],
   "source": [
    "fasttext_model_test = FastText(texts_test, vector_size=100, min_count=1, epochs=10)\n",
    "\n",
    "# Create word vectors dictionary with consistent lowercase keys\n",
    "word_vectors_test = {}\n",
    "for word in fasttext_model_test.wv.index_to_key:\n",
    "    try:\n",
    "        word_vectors_test[word.lower()] = fasttext_model_test.wv[word.lower()]\n",
    "    except KeyError:\n",
    "        # Handle out-of-vocabulary words\n",
    "        pass\n",
    "\n",
    "# Handle out-of-vocabulary (OOV) words in get_word_vector function\n",
    "def get_word_vector(word):\n",
    "    word_lower = word.lower()  # Ensure lowercase for consistency\n",
    "    if word_lower in word_vectors_test:\n",
    "        return word_vectors_test[word_lower]\n",
    "    else:\n",
    "        # Choose an appropriate strategy for OOV words:\n",
    "        # - Return the zero vector (default)\n",
    "        # - Use word averaging or other embedding techniques\n",
    "        # - Handle OOV cases differently depending on your specific requirements\n",
    "        return np.zeros(fasttext_model_test.vector_size)\n",
    "    \n",
    "word_embeddings_test = [[get_word_vector(word)  for word in sentence] for sentence in words_test]\n",
    "max_wordem = max([len(sentence) for sentence in word_embeddings_test])\n"
   ]
  },
  {
   "cell_type": "code",
   "execution_count": 16,
   "metadata": {},
   "outputs": [
    {
     "data": {
      "text/plain": [
       "(949, 70, 100)"
      ]
     },
     "execution_count": 16,
     "metadata": {},
     "output_type": "execute_result"
    }
   ],
   "source": [
    "for sentence in word_embeddings_test:\n",
    "    sentence_length = len(sentence)\n",
    "    if sentence_length < 70:\n",
    "        while len(sentence) < 70: #max_wordem\n",
    "            sentence.append(np.zeros(100))  \n",
    "            \n",
    "# padding to convert into (949, 70, 100)  from (949, variable_length, 70)           \n",
    "for i in range(len(word_embeddings_test)):\n",
    "    word_embeddings_test[i] = np.array(word_embeddings_test[i])\n",
    "word_embeddings_test = np.array(word_embeddings_test)\n",
    "word_embeddings_test.shape      "
   ]
  },
  {
   "cell_type": "code",
   "execution_count": 17,
   "metadata": {},
   "outputs": [],
   "source": [
    "# flat_labels_test = [label for sublist in nested_labels_test for label in sublist]\n",
    "\n",
    "# # Find unique labels\n",
    "# unique_labels_test = set(flat_labels_test)\n",
    "\n",
    "# print(unique_labels_test)\n",
    "\n",
    "# label2idx_test = {label: idx for idx, label in enumerate(unique_labels_test)}\n",
    "labels_idx_test = [[label2idx[label] for label in sublist] for sublist in nested_labels_test]\n",
    "\n",
    "# One-hot encode labels\n",
    "# num_classes_test = len(unique_labels_test)\n",
    "one_hot_labels_test = [to_categorical(sublist, num_classes=27) for sublist in labels_idx_test]"
   ]
  },
  {
   "cell_type": "code",
   "execution_count": 18,
   "metadata": {},
   "outputs": [],
   "source": [
    "def convert_to_list(lst):\n",
    "    if isinstance(lst, np.ndarray):\n",
    "        return lst.tolist()\n",
    "    elif isinstance(lst, list):\n",
    "        return [convert_to_list(item) for item in lst]\n",
    "    else:\n",
    "        return lst\n",
    "labels_padded_test = convert_to_list(one_hot_labels_test)"
   ]
  },
  {
   "cell_type": "code",
   "execution_count": 19,
   "metadata": {},
   "outputs": [
    {
     "data": {
      "text/plain": [
       "(949, 70, 27)"
      ]
     },
     "execution_count": 19,
     "metadata": {},
     "output_type": "execute_result"
    }
   ],
   "source": [
    "for sentence in labels_padded_test:\n",
    "    sentence_length = len(sentence)\n",
    "    if sentence_length < 70: #max length of sentence = 70\n",
    "        while len(sentence) < 70:\n",
    "            sentence.append([0., 0., 0., 0., 0., 0., 0., 0., 0., 0., 0., 0., 0., 1., 0., 0., 0., 0., 0., 0., 0., 0., 0., 0., 0., 0., 0.])\n",
    "\n",
    "labels_padded_test = np.array(labels_padded_test)\n",
    "labels_padded_test.shape"
   ]
  },
  {
   "cell_type": "code",
   "execution_count": 20,
   "metadata": {},
   "outputs": [
    {
     "name": "stdout",
     "output_type": "stream",
     "text": [
      "30/30 [==============================] - 0s 10ms/step - loss: 5.3032 - accuracy: 0.8921\n",
      "Test Loss: 5.303248405456543\n",
      "Test Accuracy: 0.8920969367027283\n"
     ]
    }
   ],
   "source": [
    "X_test_padded = word_embeddings_test\n",
    "y_test_padded = labels_padded_test\n",
    "\n",
    "# Evaluate the model on the test data\n",
    "test_loss, test_accuracy = model.evaluate(X_test_padded, y_test_padded)\n",
    "print(\"Test Loss:\", test_loss)\n",
    "print(\"Test Accuracy:\", test_accuracy)"
   ]
  },
  {
   "cell_type": "code",
   "execution_count": null,
   "metadata": {},
   "outputs": [],
   "source": [
    "y_pred = model.predict(X_test_padded)\n",
    "# Assuming y_pred contains continuous values, convert them to class labels\n",
    "y_pred_classes = np.argmax(y_pred, axis=2).flatten()\n",
    "y_test_classes = np.argmax(y_test_padded, axis=2).flatten()\n",
    "target_names = [str(label) for label in unique_labels]\n",
    "# target_names = [str(label) for label in range(27)]  # Assuming you have 27 unique labels\n",
    "# Generate the classification report using true target values and predicted target values\n",
    "report = classification_report(y_test_classes, y_pred_classes, target_names=target_names)\n",
    "print(report)\n"
   ]
  },
  {
   "cell_type": "code",
   "execution_count": null,
   "metadata": {},
   "outputs": [],
   "source": []
  }
 ],
 "metadata": {
  "kernelspec": {
   "display_name": "Python 3",
   "language": "python",
   "name": "python3"
  },
  "language_info": {
   "codemirror_mode": {
    "name": "ipython",
    "version": 3
   },
   "file_extension": ".py",
   "mimetype": "text/x-python",
   "name": "python",
   "nbconvert_exporter": "python",
   "pygments_lexer": "ipython3",
   "version": "3.11.5"
  }
 },
 "nbformat": 4,
 "nbformat_minor": 2
}
