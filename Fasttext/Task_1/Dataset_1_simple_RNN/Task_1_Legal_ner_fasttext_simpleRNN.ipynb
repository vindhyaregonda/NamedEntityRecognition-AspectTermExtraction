{
 "cells": [
  {
   "cell_type": "code",
   "execution_count": 1,
   "metadata": {},
   "outputs": [
    {
     "name": "stderr",
     "output_type": "stream",
     "text": [
      "2024-03-11 13:30:40.202972: I tensorflow/core/util/port.cc:113] oneDNN custom operations are on. You may see slightly different numerical results due to floating-point round-off errors from different computation orders. To turn them off, set the environment variable `TF_ENABLE_ONEDNN_OPTS=0`.\n",
      "2024-03-11 13:30:40.248844: E external/local_xla/xla/stream_executor/cuda/cuda_dnn.cc:9261] Unable to register cuDNN factory: Attempting to register factory for plugin cuDNN when one has already been registered\n",
      "2024-03-11 13:30:40.248876: E external/local_xla/xla/stream_executor/cuda/cuda_fft.cc:607] Unable to register cuFFT factory: Attempting to register factory for plugin cuFFT when one has already been registered\n",
      "2024-03-11 13:30:40.250051: E external/local_xla/xla/stream_executor/cuda/cuda_blas.cc:1515] Unable to register cuBLAS factory: Attempting to register factory for plugin cuBLAS when one has already been registered\n",
      "2024-03-11 13:30:40.256933: I tensorflow/core/platform/cpu_feature_guard.cc:182] This TensorFlow binary is optimized to use available CPU instructions in performance-critical operations.\n",
      "To enable the following instructions: AVX2 AVX512F AVX512_VNNI FMA, in other operations, rebuild TensorFlow with the appropriate compiler flags.\n",
      "2024-03-11 13:30:41.069461: W tensorflow/compiler/tf2tensorrt/utils/py_utils.cc:38] TF-TRT Warning: Could not find TensorRT\n"
     ]
    }
   ],
   "source": [
    "#!pip install gensim\n",
    "import json\n",
    "import numpy as np\n",
    "from tensorflow.keras.preprocessing.text import Tokenizer\n",
    "from tensorflow.keras.utils import to_categorical\n",
    "from tensorflow.keras.preprocessing.sequence import pad_sequences\n",
    "from tensorflow.keras.models import Sequential\n",
    "from tensorflow.keras.layers import Embedding, SimpleRNN, Dense\n",
    "from tensorflow.keras.losses import CategoricalCrossentropy\n",
    "from tensorflow.keras.optimizers import Adam\n",
    "from tensorflow.keras.layers import SimpleRNN, Dense, Dropout\n",
    "from tensorflow.keras import regularizers\n",
    "from gensim.models import Word2Vec\n",
    "import tensorflow as tf\n",
    "from sklearn.metrics import f1_score\n",
    "from sklearn.metrics import classification_report\n",
    "import matplotlib.pyplot as plt\n",
    "from gensim.models import FastText\n"
   ]
  },
  {
   "cell_type": "code",
   "execution_count": 3,
   "metadata": {},
   "outputs": [
    {
     "name": "stdout",
     "output_type": "stream",
     "text": [
      "2 Physical GPU, 1 Logical GPU\n"
     ]
    },
    {
     "name": "stderr",
     "output_type": "stream",
     "text": [
      "2024-03-11 13:30:42.804678: I tensorflow/core/common_runtime/gpu/gpu_device.cc:1929] Created device /job:localhost/replica:0/task:0/device:GPU:0 with 14408 MB memory:  -> device: 1, name: NVIDIA RTX A4000, pci bus id: 0000:af:00.0, compute capability: 8.6\n"
     ]
    }
   ],
   "source": [
    "# Check available GPUs\n",
    "gpus = tf.config.experimental.list_physical_devices('GPU')\n",
    "if gpus:\n",
    "    # Restrict TensorFlow to only use the second GPU\n",
    "    try:\n",
    "        tf.config.experimental.set_visible_devices(gpus[1], 'GPU')\n",
    "        logical_gpus = tf.config.experimental.list_logical_devices('GPU')\n",
    "        print(len(gpus), \"Physical GPU,\", len(logical_gpus), \"Logical GPU\")\n",
    "    except RuntimeError as e:\n",
    "        # Visible devices must be set before GPUs have been initialized\n",
    "        print(e)"
   ]
  },
  {
   "cell_type": "code",
   "execution_count": 4,
   "metadata": {},
   "outputs": [],
   "source": [
    "# use word2vec\n",
    "def load_data(file):\n",
    "    with open(file, 'r', encoding='utf-8') as f:\n",
    "        data = json.load(f)\n",
    "    return data\n",
    "\n",
    "data = load_data(\"/Dataset1-NamedEntityRecognition_train.json\")\n",
    "\n",
    "texts = [data[key][\"text\"] for key in data]\n",
    "words = [sentence.split() for sentence in texts]\n",
    "nested_labels = [data[key][\"labels\"] for key in data]\n"
   ]
  },
  {
   "cell_type": "code",
   "execution_count": 5,
   "metadata": {},
   "outputs": [
    {
     "name": "stdout",
     "output_type": "stream",
     "text": [
      "Maximum length of text: 70\n"
     ]
    }
   ],
   "source": [
    "def load_data(file):\n",
    "    with open(file, 'r', encoding='utf-8') as f:\n",
    "        data = json.load(f)\n",
    "    return data\n",
    "\n",
    "data = load_data(\"/Dataset1-NamedEntityRecognition_train.json\")\n",
    "\n",
    "texts = [data[key][\"text\"] for key in data]\n",
    "\n",
    "# Compute the maximum length of the texts\n",
    "max_length = max(len(text.split()) for text in texts)\n",
    "\n",
    "print(\"Maximum length of text:\", max_length)\n"
   ]
  },
  {
   "cell_type": "code",
   "execution_count": 6,
   "metadata": {},
   "outputs": [],
   "source": [
    "from gensim.models import FastText\n",
    "import numpy as np\n",
    "\n",
    "# Assuming 'words' is a list of tokenized sentences\n",
    "\n",
    "# Create FastText model\n",
    "fasttext_model = FastText(sentences=words, vector_size=100, min_count=1, epochs=10)\n",
    "\n",
    "# Create word vectors dictionary with consistent lowercase keys\n",
    "word_vectors = {}\n",
    "for word in fasttext_model.wv.index_to_key:\n",
    "    try:\n",
    "        word_vectors[word.lower()] = fasttext_model.wv[word.lower()]\n",
    "    except KeyError:\n",
    "        # Handle out-of-vocabulary words\n",
    "        pass\n",
    "\n",
    "# Handle out-of-vocabulary (OOV) words in get_word_vector function\n",
    "def get_word_vector(word):\n",
    "    word_lower = word.lower()  # Ensure lowercase for consistency\n",
    "    if word_lower in word_vectors:\n",
    "        return word_vectors[word_lower]\n",
    "    else:\n",
    "        # Choose an appropriate strategy for OOV words:\n",
    "        # - Return the zero vector (default)\n",
    "        # - Use word averaging or other embedding techniques\n",
    "        # - Handle OOV cases differently depending on your specific requirements\n",
    "        return np.zeros(fasttext_model.vector_size)\n",
    "    \n",
    "# Embed sentences\n",
    "word_embeddings = [[get_word_vector(word) for word in sentence] for sentence in words]\n"
   ]
  },
  {
   "cell_type": "code",
   "execution_count": 7,
   "metadata": {},
   "outputs": [
    {
     "data": {
      "text/plain": [
       "(9435, 70, 100)"
      ]
     },
     "execution_count": 7,
     "metadata": {},
     "output_type": "execute_result"
    }
   ],
   "source": [
    "for sentence in word_embeddings:\n",
    "    sentence_length = len(sentence)\n",
    "    if sentence_length < 70: #max length of sentence = 70\n",
    "        while len(sentence) < 70:\n",
    "            sentence.append(np.zeros(100))     \n",
    "\n",
    "# padding to convert into (9435, 70, 100)  from (9435, variable_length, 70)           \n",
    "for i in range(len(word_embeddings)):\n",
    "    word_embeddings[i] = np.array(word_embeddings[i])\n",
    "word_embeddings = np.array(word_embeddings)\n",
    "word_embeddings.shape            "
   ]
  },
  {
   "cell_type": "code",
   "execution_count": 8,
   "metadata": {},
   "outputs": [
    {
     "name": "stdout",
     "output_type": "stream",
     "text": [
      "{'B_ORG', 'I_RESPONDENT', 'I_ORG', 'B_OTHER_PERSON', 'B_COURT', 'B_RESPONDENT', 'I_WITNESS', 'I_COURT', 'I_OTHER_PERSON', 'I_CASE_NUMBER', 'B_JUDGE', 'B_WITNESS', 'B_GPE', 'I_PETITIONER', 'B_STATUTE', 'O', 'B_DATE', 'I_PRECEDENT', 'I_DATE', 'B_CASE_NUMBER', 'B_PETITIONER', 'I_GPE', 'I_STATUTE', 'I_PROVISION', 'B_PROVISION', 'I_JUDGE', 'B_PRECEDENT'}\n"
     ]
    },
    {
     "data": {
      "text/plain": [
       "[15,\n",
       " 15,\n",
       " 15,\n",
       " 15,\n",
       " 15,\n",
       " 15,\n",
       " 15,\n",
       " 15,\n",
       " 15,\n",
       " 15,\n",
       " 15,\n",
       " 15,\n",
       " 15,\n",
       " 15,\n",
       " 15,\n",
       " 15,\n",
       " 15,\n",
       " 0,\n",
       " 2,\n",
       " 15,\n",
       " 15,\n",
       " 15,\n",
       " 15,\n",
       " 15,\n",
       " 15,\n",
       " 15,\n",
       " 15,\n",
       " 15,\n",
       " 15,\n",
       " 15,\n",
       " 15,\n",
       " 15,\n",
       " 15,\n",
       " 15,\n",
       " 15,\n",
       " 15,\n",
       " 15,\n",
       " 15,\n",
       " 15,\n",
       " 15,\n",
       " 15,\n",
       " 15,\n",
       " 15,\n",
       " 15,\n",
       " 15,\n",
       " 15,\n",
       " 0,\n",
       " 2,\n",
       " 2,\n",
       " 15,\n",
       " 15,\n",
       " 15,\n",
       " 15,\n",
       " 15,\n",
       " 15,\n",
       " 15,\n",
       " 15,\n",
       " 15,\n",
       " 15,\n",
       " 15,\n",
       " 15,\n",
       " 15,\n",
       " 15,\n",
       " 15,\n",
       " 15,\n",
       " 15]"
      ]
     },
     "execution_count": 8,
     "metadata": {},
     "output_type": "execute_result"
    }
   ],
   "source": [
    "flat_labels = [label for sublist in nested_labels for label in sublist]\n",
    "\n",
    "# Find unique labels\n",
    "unique_labels = set(flat_labels)\n",
    "\n",
    "print(unique_labels)\n",
    "\n",
    "label2idx = {label: idx for idx, label in enumerate(unique_labels)}\n",
    "labels_idx = [[label2idx[label] for label in sublist] for sublist in nested_labels]\n",
    "\n",
    "# One-hot encode labels\n",
    "num_classes = len(unique_labels)\n",
    "one_hot_labels = [to_categorical(sublist, num_classes=num_classes) for sublist in labels_idx]\n",
    "def convert_to_list(lst):\n",
    "    if isinstance(lst, np.ndarray):\n",
    "        return lst.tolist()\n",
    "    elif isinstance(lst, list):\n",
    "        return [convert_to_list(item) for item in lst]\n",
    "    else:\n",
    "        return lst\n",
    "one_hot_labels = convert_to_list(one_hot_labels)\n",
    "labels_idx[0]"
   ]
  },
  {
   "cell_type": "code",
   "execution_count": 9,
   "metadata": {},
   "outputs": [
    {
     "name": "stdout",
     "output_type": "stream",
     "text": [
      "{'B_ORG': 0, 'I_RESPONDENT': 1, 'I_ORG': 2, 'B_OTHER_PERSON': 3, 'B_COURT': 4, 'B_RESPONDENT': 5, 'I_WITNESS': 6, 'I_COURT': 7, 'I_OTHER_PERSON': 8, 'I_CASE_NUMBER': 9, 'B_JUDGE': 10, 'B_WITNESS': 11, 'B_GPE': 12, 'I_PETITIONER': 13, 'B_STATUTE': 14, 'O': 15, 'B_DATE': 16, 'I_PRECEDENT': 17, 'I_DATE': 18, 'B_CASE_NUMBER': 19, 'B_PETITIONER': 20, 'I_GPE': 21, 'I_STATUTE': 22, 'I_PROVISION': 23, 'B_PROVISION': 24, 'I_JUDGE': 25, 'B_PRECEDENT': 26}\n"
     ]
    }
   ],
   "source": [
    "print(label2idx)"
   ]
  },
  {
   "cell_type": "code",
   "execution_count": 10,
   "metadata": {},
   "outputs": [
    {
     "data": {
      "text/plain": [
       "(9435, 70, 27)"
      ]
     },
     "execution_count": 10,
     "metadata": {},
     "output_type": "execute_result"
    }
   ],
   "source": [
    "for sentence in one_hot_labels:\n",
    "    sentence_length = len(sentence)\n",
    "    if sentence_length < 70: #max length of sentence = 70\n",
    "        while len(sentence) < 70:\n",
    "            sentence.append([0., 0., 0., 0., 0., 0., 0., 0., 0., 0., 0., 0., 0., 0., 0., 1., 0., 0., 0., 0., 0., 0., 0., 0., 0., 0., 0.])\n",
    "\n",
    "one_hot_labels = np.array(one_hot_labels)\n",
    "one_hot_labels.shape"
   ]
  },
  {
   "cell_type": "code",
   "execution_count": 11,
   "metadata": {},
   "outputs": [],
   "source": [
    "# 1. Prepare the data (already padded)\n",
    "X_train_padded = word_embeddings  \n",
    "y_train_padded = one_hot_labels  "
   ]
  },
  {
   "cell_type": "code",
   "execution_count": 12,
   "metadata": {},
   "outputs": [],
   "source": [
    "# # Split into training and validation sets (85-15 split)\n",
    "split = int(0.85 * len(X_train_padded))\n",
    "X_train, X_val = X_train_padded[:split], X_train_padded[split:]\n",
    "y_train, y_val = y_train_padded[:split], y_train_padded[split:]"
   ]
  },
  {
   "cell_type": "code",
   "execution_count": 13,
   "metadata": {},
   "outputs": [
    {
     "name": "stderr",
     "output_type": "stream",
     "text": [
      "2024-03-11 13:32:10.640799: I external/local_tsl/tsl/platform/default/subprocess.cc:304] Start cannot spawn child process: No such file or directory\n",
      "2024-03-11 13:32:13.162815: I external/local_xla/xla/service/service.cc:168] XLA service 0x7fa7257720d0 initialized for platform CUDA (this does not guarantee that XLA will be used). Devices:\n",
      "2024-03-11 13:32:13.162851: I external/local_xla/xla/service/service.cc:176]   StreamExecutor device (0): NVIDIA RTX A4000, Compute Capability 8.6\n",
      "2024-03-11 13:32:13.170509: I tensorflow/compiler/mlir/tensorflow/utils/dump_mlir_util.cc:269] disabling MLIR crash reproducer, set env var `MLIR_CRASH_REPRODUCER_DIRECTORY` to enable.\n",
      "2024-03-11 13:32:13.189788: I external/local_xla/xla/stream_executor/cuda/cuda_dnn.cc:454] Loaded cuDNN version 8902\n",
      "WARNING: All log messages before absl::InitializeLog() is called are written to STDERR\n",
      "I0000 00:00:1710163933.323542 1337856 device_compiler.h:186] Compiled cluster using XLA!  This line is logged at most once for the lifetime of the process.\n"
     ]
    },
    {
     "name": "stdout",
     "output_type": "stream",
     "text": [
      "251/251 [==============================] - 18s 61ms/step - loss: 0.3413 - accuracy: 0.9290 - val_loss: 0.2324 - val_accuracy: 0.9396\n",
      "251/251 [==============================] - 5s 18ms/step\n",
      "45/45 [==============================] - 1s 17ms/step\n",
      "Epoch 1: Training Macro-F1-score: 0.1784964773041834, Validation Macro-F1-score: 0.1691751725184438\n",
      "Epoch 1: Training Accuracy: 0.9290417432785034, Validation Accuracy: 0.9395883679389954\n",
      "251/251 [==============================] - 15s 60ms/step - loss: 0.2129 - accuracy: 0.9452 - val_loss: 0.2074 - val_accuracy: 0.9455\n",
      "251/251 [==============================] - 4s 18ms/step\n",
      "45/45 [==============================] - 1s 18ms/step\n",
      "Epoch 2: Training Macro-F1-score: 0.29446019403076457, Validation Macro-F1-score: 0.2840356520826457\n",
      "Epoch 2: Training Accuracy: 0.945214033126831, Validation Accuracy: 0.945500373840332\n",
      "251/251 [==============================] - 16s 62ms/step - loss: 0.1883 - accuracy: 0.9498 - val_loss: 0.1962 - val_accuracy: 0.9467\n",
      "251/251 [==============================] - 5s 18ms/step\n",
      "45/45 [==============================] - 1s 17ms/step\n",
      "Epoch 3: Training Macro-F1-score: 0.32997117545447885, Validation Macro-F1-score: 0.3164523421888227\n",
      "Epoch 3: Training Accuracy: 0.949810266494751, Validation Accuracy: 0.946650505065918\n",
      "251/251 [==============================] - 14s 57ms/step - loss: 0.1740 - accuracy: 0.9525 - val_loss: 0.1791 - val_accuracy: 0.9504\n",
      "251/251 [==============================] - 4s 18ms/step\n",
      "45/45 [==============================] - 1s 19ms/step\n",
      "Epoch 4: Training Macro-F1-score: 0.3280932247348944, Validation Macro-F1-score: 0.31521805471838865\n",
      "Epoch 4: Training Accuracy: 0.9524575471878052, Validation Accuracy: 0.9503732919692993\n",
      "251/251 [==============================] - 15s 60ms/step - loss: 0.1655 - accuracy: 0.9540 - val_loss: 0.1764 - val_accuracy: 0.9499\n",
      "251/251 [==============================] - 5s 18ms/step\n",
      "45/45 [==============================] - 1s 20ms/step\n",
      "Epoch 5: Training Macro-F1-score: 0.3596265898279587, Validation Macro-F1-score: 0.3439994926736817\n",
      "Epoch 5: Training Accuracy: 0.9539700150489807, Validation Accuracy: 0.9499293565750122\n",
      "251/251 [==============================] - 15s 60ms/step - loss: 0.1601 - accuracy: 0.9549 - val_loss: 0.1698 - val_accuracy: 0.9525\n",
      "251/251 [==============================] - 5s 18ms/step\n",
      "45/45 [==============================] - 1s 17ms/step\n",
      "Epoch 6: Training Macro-F1-score: 0.3478698034728403, Validation Macro-F1-score: 0.3324126552621839\n",
      "Epoch 6: Training Accuracy: 0.9549480676651001, Validation Accuracy: 0.9525020122528076\n",
      "251/251 [==============================] - 15s 61ms/step - loss: 0.1552 - accuracy: 0.9561 - val_loss: 0.1645 - val_accuracy: 0.9533\n",
      "251/251 [==============================] - 5s 18ms/step\n",
      "45/45 [==============================] - 1s 18ms/step\n",
      "Epoch 7: Training Macro-F1-score: 0.396235134680819, Validation Macro-F1-score: 0.37684429025817645\n",
      "Epoch 7: Training Accuracy: 0.9561434388160706, Validation Accuracy: 0.9532990455627441\n",
      "251/251 [==============================] - 15s 61ms/step - loss: 0.1504 - accuracy: 0.9571 - val_loss: 0.1634 - val_accuracy: 0.9535\n",
      "251/251 [==============================] - 4s 18ms/step\n",
      "45/45 [==============================] - 1s 19ms/step\n",
      "Epoch 8: Training Macro-F1-score: 0.3768161262886392, Validation Macro-F1-score: 0.35677839854021215\n",
      "Epoch 8: Training Accuracy: 0.9570716023445129, Validation Accuracy: 0.9535008072853088\n",
      "251/251 [==============================] - 15s 61ms/step - loss: 0.1466 - accuracy: 0.9580 - val_loss: 0.1638 - val_accuracy: 0.9539\n",
      "251/251 [==============================] - 5s 19ms/step\n",
      "45/45 [==============================] - 1s 17ms/step\n",
      "Epoch 9: Training Macro-F1-score: 0.37502103279876, Validation Macro-F1-score: 0.34935084076371553\n",
      "Epoch 9: Training Accuracy: 0.957990825176239, Validation Accuracy: 0.9539043307304382\n",
      "251/251 [==============================] - 16s 62ms/step - loss: 0.1461 - accuracy: 0.9578 - val_loss: 0.1625 - val_accuracy: 0.9541\n",
      "251/251 [==============================] - 5s 19ms/step\n",
      "45/45 [==============================] - 1s 18ms/step\n",
      "Epoch 10: Training Macro-F1-score: 0.4049828704080382, Validation Macro-F1-score: 0.3820225104796947\n",
      "Epoch 10: Training Accuracy: 0.9578412175178528, Validation Accuracy: 0.9540859460830688\n",
      "251/251 [==============================] - 15s 60ms/step - loss: 0.1413 - accuracy: 0.9591 - val_loss: 0.1579 - val_accuracy: 0.9553\n",
      "251/251 [==============================] - 4s 17ms/step\n",
      "45/45 [==============================] - 1s 17ms/step\n",
      "Epoch 11: Training Macro-F1-score: 0.4470384683526542, Validation Macro-F1-score: 0.41953705943678204\n",
      "Epoch 11: Training Accuracy: 0.9590793251991272, Validation Accuracy: 0.9553067088127136\n",
      "251/251 [==============================] - 15s 58ms/step - loss: 0.1391 - accuracy: 0.9599 - val_loss: 0.1560 - val_accuracy: 0.9557\n",
      "251/251 [==============================] - 4s 17ms/step\n",
      "45/45 [==============================] - 1s 17ms/step\n",
      "Epoch 12: Training Macro-F1-score: 0.45199798483281517, Validation Macro-F1-score: 0.420195884155342\n",
      "Epoch 12: Training Accuracy: 0.9598827958106995, Validation Accuracy: 0.9556698799133301\n",
      "251/251 [==============================] - 15s 61ms/step - loss: 0.1368 - accuracy: 0.9603 - val_loss: 0.1546 - val_accuracy: 0.9557\n",
      "251/251 [==============================] - 5s 18ms/step\n",
      "45/45 [==============================] - 1s 19ms/step\n",
      "Epoch 13: Training Macro-F1-score: 0.44931778114600834, Validation Macro-F1-score: 0.4139077450134639\n",
      "Epoch 13: Training Accuracy: 0.960345983505249, Validation Accuracy: 0.9556800127029419\n",
      "251/251 [==============================] - 15s 59ms/step - loss: 0.1353 - accuracy: 0.9606 - val_loss: 0.1565 - val_accuracy: 0.9543\n",
      "251/251 [==============================] - 5s 18ms/step\n",
      "45/45 [==============================] - 1s 20ms/step\n",
      "Epoch 14: Training Macro-F1-score: 0.49460653958234946, Validation Macro-F1-score: 0.4547348546599302\n",
      "Epoch 14: Training Accuracy: 0.9605704545974731, Validation Accuracy: 0.9542574882507324\n",
      "251/251 [==============================] - 16s 62ms/step - loss: 0.1319 - accuracy: 0.9616 - val_loss: 0.1534 - val_accuracy: 0.9554\n",
      "251/251 [==============================] - 5s 18ms/step\n",
      "45/45 [==============================] - 1s 19ms/step\n",
      "Epoch 15: Training Macro-F1-score: 0.4783519557066781, Validation Macro-F1-score: 0.4392357428171831\n",
      "Epoch 15: Training Accuracy: 0.9616197347640991, Validation Accuracy: 0.9553874135017395\n",
      "251/251 [==============================] - 15s 61ms/step - loss: 0.1292 - accuracy: 0.9622 - val_loss: 0.1500 - val_accuracy: 0.9574\n",
      "251/251 [==============================] - 5s 19ms/step\n",
      "45/45 [==============================] - 1s 17ms/step\n",
      "Epoch 16: Training Macro-F1-score: 0.4905762995119892, Validation Macro-F1-score: 0.46208305508639175\n",
      "Epoch 16: Training Accuracy: 0.9622272253036499, Validation Accuracy: 0.9573647975921631\n",
      "251/251 [==============================] - 15s 60ms/step - loss: 0.1287 - accuracy: 0.9624 - val_loss: 0.1501 - val_accuracy: 0.9573\n",
      "251/251 [==============================] - 5s 19ms/step\n",
      "45/45 [==============================] - 1s 17ms/step\n",
      "Epoch 17: Training Macro-F1-score: 0.5113554921295687, Validation Macro-F1-score: 0.4692747349422612\n",
      "Epoch 17: Training Accuracy: 0.9624196290969849, Validation Accuracy: 0.9573143720626831\n",
      "251/251 [==============================] - 15s 61ms/step - loss: 0.1260 - accuracy: 0.9630 - val_loss: 0.1522 - val_accuracy: 0.9571\n",
      "251/251 [==============================] - 4s 18ms/step\n",
      "45/45 [==============================] - 1s 17ms/step\n",
      "Epoch 18: Training Macro-F1-score: 0.5018937861241526, Validation Macro-F1-score: 0.46297603870212595\n",
      "Epoch 18: Training Accuracy: 0.9629504680633545, Validation Accuracy: 0.9570621252059937\n",
      "251/251 [==============================] - 15s 62ms/step - loss: 0.1247 - accuracy: 0.9634 - val_loss: 0.1576 - val_accuracy: 0.9555\n",
      "251/251 [==============================] - 4s 17ms/step\n",
      "45/45 [==============================] - 1s 20ms/step\n",
      "Epoch 19: Training Macro-F1-score: 0.5218147117823508, Validation Macro-F1-score: 0.47135144567903203\n",
      "Epoch 19: Training Accuracy: 0.9633833765983582, Validation Accuracy: 0.9555084705352783\n",
      "251/251 [==============================] - 15s 58ms/step - loss: 0.1232 - accuracy: 0.9637 - val_loss: 0.1499 - val_accuracy: 0.9573\n",
      "251/251 [==============================] - 4s 18ms/step\n",
      "45/45 [==============================] - 1s 19ms/step\n",
      "Epoch 20: Training Macro-F1-score: 0.533707215547082, Validation Macro-F1-score: 0.4797612066738173\n",
      "Epoch 20: Training Accuracy: 0.9637129902839661, Validation Accuracy: 0.9573345184326172\n"
     ]
    },
    {
     "data": {
      "image/png": "[encoded data removed]",
      "text/plain": [
       "<Figure size 640x480 with 1 Axes>"
      ]
     },
     "metadata": {},
     "output_type": "display_data"
    },
    {
     "data": {
      "image/png": "[encoded data removed]",
      "text/plain": [
       "<Figure size 640x480 with 1 Axes>"
      ]
     },
     "metadata": {},
     "output_type": "display_data"
    },
    {
     "data": {
      "image/png": "[encoded data removed]",
      "text/plain": [
       "<Figure size 640x480 with 1 Axes>"
      ]
     },
     "metadata": {},
     "output_type": "display_data"
    }
   ],
   "source": [
    "# Define the RNN model architecture\n",
    "model = tf.keras.Sequential([\n",
    "    tf.keras.layers.SimpleRNN(units=128, return_sequences=True, input_shape=(70, 100)),\n",
    "    tf.keras.layers.Dense(120, activation='relu'),\n",
    "    tf.keras.layers.Dense(100, activation='tanh'),\n",
    "    tf.keras.layers.Dense(27, activation='softmax')\n",
    "])\n",
    "\n",
    "# Compile the model\n",
    "model.compile(loss='categorical_crossentropy', optimizer='adam', metrics=['accuracy'])\n",
    "\n",
    "# Define early stopping callback\n",
    "early_stopping = EarlyStopping(monitor='val_loss', patience=3, verbose=1, restore_best_weights=True)\n",
    "\n",
    "# Train the model and Initialize lists to store F1-score values\n",
    "train_f1_scores = []\n",
    "val_f1_scores = []\n",
    "train_losses = []\n",
    "val_losses = []\n",
    "train_acc = []\n",
    "val_acc = []\n",
    "\n",
    "train_f1_scores_per_label = []\n",
    "val_f1_scores_per_label = []\n",
    "\n",
    "for epoch in range(20):\n",
    "    # Perform one epoch of training\n",
    "    history = model.fit(X_train, y_train, epochs=1, batch_size=32, verbose=True, validation_data=(X_val, y_val), callbacks=[early_stopping])\n",
    "\n",
    "    # Get predictions for training and validation data\n",
    "    y_train_pred = model.predict(X_train)\n",
    "    y_val_pred = model.predict(X_val)\n",
    "\n",
    "    # Convert one-hot encoded labels back to integer labels\n",
    "    y_train_true = np.argmax(y_train, axis=-1)\n",
    "    y_val_true = np.argmax(y_val, axis=-1)\n",
    "\n",
    "    # Calculate F1-score for training and validation data\n",
    "    train_f1 = f1_score(y_train_true.flatten(), y_train_pred.argmax(axis=2).flatten(), average='macro')\n",
    "    val_f1 = f1_score(y_val_true.flatten(), y_val_pred.argmax(axis=2).flatten(), average='macro')\n",
    "\n",
    "    train_f1_per_label = f1_score(y_train_true.flatten(), y_train_pred.argmax(axis=2).flatten(), average=None)\n",
    "    val_f1_per_label = f1_score(y_val_true.flatten(), y_val_pred.argmax(axis=2).flatten(), average=None)\n",
    "    \n",
    "    # Append F1-score values to lists\n",
    "    train_f1_scores_per_label.append(train_f1_per_label)\n",
    "    val_f1_scores_per_label.append(val_f1_per_label)\n",
    "    \n",
    "    # Append F1-score values to lists\n",
    "    train_f1_scores.append(train_f1)\n",
    "    val_f1_scores.append(val_f1)\n",
    "\n",
    "    # Append losses to lists\n",
    "    train_losses.append(history.history['loss'])\n",
    "    val_losses.append(history.history['val_loss'])\n",
    "\n",
    "    # Append accuracy to lists\n",
    "    train_acc.append(history.history['accuracy'])\n",
    "    val_acc.append(history.history['val_accuracy'])\n",
    "\n",
    "    # Print F1-score and accuracy for each epoch\n",
    "    print(f'Epoch {epoch + 1}: Training Macro-F1-score: {train_f1}, Validation Macro-F1-score: {val_f1}')\n",
    "    print(f'Epoch {epoch + 1}: Training Accuracy: {history.history[\"accuracy\"][-1]}, Validation Accuracy: {history.history[\"val_accuracy\"][-1]}')\n",
    "\n",
    "# Plot F1-score\n",
    "plt.plot(train_f1_scores, label='Training Macro-F1-score')\n",
    "plt.plot(val_f1_scores, label='Validation Macro-F1-score')\n",
    "plt.xlabel('Epochs')\n",
    "plt.ylabel('Macro-F1-score')\n",
    "plt.legend()\n",
    "plt.savefig('/task_1_Fasttext_simple_RNN_f1_score.png')  # Save F1-score figure\n",
    "plt.show()\n",
    "\n",
    "# Plot Loss\n",
    "plt.plot(train_losses, label='Training Loss')\n",
    "plt.plot(val_losses, label='Validation Loss')\n",
    "plt.xlabel('Epochs')\n",
    "plt.ylabel('Loss')\n",
    "plt.legend()\n",
    "plt.savefig('/task_1_Fasttext_simple_RNN_loss.png')  # Save loss figure\n",
    "plt.show()\n",
    "\n",
    "# Plot Accuracy\n",
    "plt.plot(train_acc, label='Training Accuracy')\n",
    "plt.plot(val_acc, label='Validation Accuracy')\n",
    "plt.xlabel('Epochs')\n",
    "plt.ylabel('Accuracy')\n",
    "plt.legend()\n",
    "plt.savefig('/task_1_Fasttext_simple_RNN_accuracy.png')  # Save accuracy figure\n",
    "plt.show()\n"
   ]
  },
  {
   "cell_type": "code",
   "execution_count": 14,
   "metadata": {},
   "outputs": [],
   "source": [
    "model.save('/task_1_Fasttext_simple_RNN_Dataset_1.keras')"
   ]
  },
  {
   "cell_type": "markdown",
   "metadata": {},
   "source": [
    "## Test data"
   ]
  },
  {
   "cell_type": "code",
   "execution_count": 15,
   "metadata": {},
   "outputs": [],
   "source": [
    "# test data\n",
    "def load_data(file):\n",
    "    with open(file, 'r', encoding='utf-8') as f:\n",
    "        data = json.load(f)\n",
    "    return data\n",
    "\n",
    "data_test = load_data(\"/Dataset1-NamedEntityRecognition_test.json\")\n",
    "\n",
    "texts_test = [data_test[key][\"text\"] for key in data_test]\n",
    "words_test = [sentence.split() for sentence in texts_test]\n",
    "nested_labels_test = [data_test[key][\"labels\"] for key in data_test]"
   ]
  },
  {
   "cell_type": "code",
   "execution_count": 16,
   "metadata": {},
   "outputs": [],
   "source": [
    "fasttext_model_test = FastText(texts_test, vector_size=100, min_count=1, epochs=10)\n",
    "\n",
    "# Create word vectors dictionary with consistent lowercase keys\n",
    "word_vectors_test = {}\n",
    "for word in fasttext_model_test.wv.index_to_key:\n",
    "    try:\n",
    "        word_vectors_test[word.lower()] = fasttext_model_test.wv[word.lower()]\n",
    "    except KeyError:\n",
    "        # Handle out-of-vocabulary words\n",
    "        pass\n",
    "\n",
    "# Handle out-of-vocabulary (OOV) words in get_word_vector function\n",
    "def get_word_vector(word):\n",
    "    word_lower = word.lower()  # Ensure lowercase for consistency\n",
    "    if word_lower in word_vectors_test:\n",
    "        return word_vectors_test[word_lower]\n",
    "    else:\n",
    "        # Choose an appropriate strategy for OOV words:\n",
    "        # - Return the zero vector (default)\n",
    "        # - Use word averaging or other embedding techniques\n",
    "        # - Handle OOV cases differently depending on your specific requirements\n",
    "        return np.zeros(fasttext_model_test.vector_size)\n",
    "    \n",
    "word_embeddings_test = [[get_word_vector(word)  for word in sentence] for sentence in words_test]\n",
    "max_wordem = max([len(sentence) for sentence in word_embeddings_test])\n"
   ]
  },
  {
   "cell_type": "code",
   "execution_count": 17,
   "metadata": {},
   "outputs": [
    {
     "data": {
      "text/plain": [
       "(949, 70, 100)"
      ]
     },
     "execution_count": 17,
     "metadata": {},
     "output_type": "execute_result"
    }
   ],
   "source": [
    "for sentence in word_embeddings_test:\n",
    "    sentence_length = len(sentence)\n",
    "    if sentence_length < 70:\n",
    "        while len(sentence) < 70: #max_wordem\n",
    "            sentence.append(np.zeros(100))  \n",
    "            \n",
    "# padding to convert into (949, 70, 100)  from (949, variable_length, 70)           \n",
    "for i in range(len(word_embeddings_test)):\n",
    "    word_embeddings_test[i] = np.array(word_embeddings_test[i])\n",
    "word_embeddings_test = np.array(word_embeddings_test)\n",
    "word_embeddings_test.shape      "
   ]
  },
  {
   "cell_type": "code",
   "execution_count": 18,
   "metadata": {},
   "outputs": [],
   "source": [
    "# flat_labels_test = [label for sublist in nested_labels_test for label in sublist]\n",
    "\n",
    "# # Find unique labels\n",
    "# unique_labels_test = set(flat_labels_test)\n",
    "\n",
    "# print(unique_labels_test)\n",
    "\n",
    "# label2idx_test = {label: idx for idx, label in enumerate(unique_labels_test)}\n",
    "labels_idx_test = [[label2idx[label] for label in sublist] for sublist in nested_labels_test]\n",
    "\n",
    "# One-hot encode labels\n",
    "# num_classes_test = len(unique_labels_test)\n",
    "one_hot_labels_test = [to_categorical(sublist, num_classes=27) for sublist in labels_idx_test]"
   ]
  },
  {
   "cell_type": "code",
   "execution_count": 19,
   "metadata": {},
   "outputs": [],
   "source": [
    "def convert_to_list(lst):\n",
    "    if isinstance(lst, np.ndarray):\n",
    "        return lst.tolist()\n",
    "    elif isinstance(lst, list):\n",
    "        return [convert_to_list(item) for item in lst]\n",
    "    else:\n",
    "        return lst\n",
    "labels_padded_test = convert_to_list(one_hot_labels_test)"
   ]
  },
  {
   "cell_type": "code",
   "execution_count": 20,
   "metadata": {},
   "outputs": [
    {
     "data": {
      "text/plain": [
       "(949, 70, 27)"
      ]
     },
     "execution_count": 20,
     "metadata": {},
     "output_type": "execute_result"
    }
   ],
   "source": [
    "for sentence in labels_padded_test:\n",
    "    sentence_length = len(sentence)\n",
    "    if sentence_length < 70: #max length of sentence = 70\n",
    "        while len(sentence) < 70:\n",
    "            sentence.append([0., 0., 0., 0., 0., 0., 0., 0., 0., 0., 0., 0., 0., 0., 0., 1., 0., 0., 0., 0., 0., 0., 0., 0., 0., 0., 0.])\n",
    "\n",
    "labels_padded_test = np.array(labels_padded_test)\n",
    "labels_padded_test.shape"
   ]
  },
  {
   "cell_type": "code",
   "execution_count": 21,
   "metadata": {},
   "outputs": [
    {
     "name": "stdout",
     "output_type": "stream",
     "text": [
      "30/30 [==============================] - 1s 21ms/step - loss: 1.3225 - accuracy: 0.9134\n",
      "Test Loss: 1.3224610090255737\n",
      "Test Accuracy: 0.9133674502372742\n"
     ]
    }
   ],
   "source": [
    "X_test_padded = word_embeddings_test\n",
    "y_test_padded = labels_padded_test\n",
    "\n",
    "# Evaluate the model on the test data\n",
    "test_loss, test_accuracy = model.evaluate(X_test_padded, y_test_padded)\n",
    "print(\"Test Loss:\", test_loss)\n",
    "print(\"Test Accuracy:\", test_accuracy)"
   ]
  },
  {
   "cell_type": "code",
   "execution_count": null,
   "metadata": {},
   "outputs": [],
   "source": [
    "from sklearn.metrics import classification_report\n",
    "y_pred = model.predict(X_test_padded)\n",
    "# Assuming y_pred contains continuous values, convert them to class labels\n",
    "y_pred_classes = np.argmax(y_pred, axis=2).flatten()\n",
    "y_test_classes = np.argmax(y_test_padded, axis=2).flatten()\n",
    "target_names = [str(label) for label in unique_labels]\n",
    "# target_names = [str(label) for label in range(27)]  # Assuming you have 27 unique labels\n",
    "# Generate the classification report using true target values and predicted target values\n",
    "report = classification_report(y_test_classes, y_pred_classes, target_names=target_names)\n",
    "print(report)\n"
   ]
  }
 ],
 "metadata": {
  "kernelspec": {
   "display_name": "Python 3",
   "language": "python",
   "name": "python3"
  },
  "language_info": {
   "codemirror_mode": {
    "name": "ipython",
    "version": 3
   },
   "file_extension": ".py",
   "mimetype": "text/x-python",
   "name": "python",
   "nbconvert_exporter": "python",
   "pygments_lexer": "ipython3",
   "version": "3.11.5"
  }
 },
 "nbformat": 4,
 "nbformat_minor": 2
}
