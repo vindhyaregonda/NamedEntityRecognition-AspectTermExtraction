{
 "cells": [
  {
   "cell_type": "code",
   "execution_count": 1,
   "metadata": {},
   "outputs": [
    {
     "name": "stderr",
     "output_type": "stream",
     "text": [
      "2024-03-11 15:07:55.620338: I tensorflow/core/util/port.cc:113] oneDNN custom operations are on. You may see slightly different numerical results due to floating-point round-off errors from different computation orders. To turn them off, set the environment variable `TF_ENABLE_ONEDNN_OPTS=0`.\n",
      "2024-03-11 15:07:55.663791: E external/local_xla/xla/stream_executor/cuda/cuda_dnn.cc:9261] Unable to register cuDNN factory: Attempting to register factory for plugin cuDNN when one has already been registered\n",
      "2024-03-11 15:07:55.663826: E external/local_xla/xla/stream_executor/cuda/cuda_fft.cc:607] Unable to register cuFFT factory: Attempting to register factory for plugin cuFFT when one has already been registered\n",
      "2024-03-11 15:07:55.664895: E external/local_xla/xla/stream_executor/cuda/cuda_blas.cc:1515] Unable to register cuBLAS factory: Attempting to register factory for plugin cuBLAS when one has already been registered\n",
      "2024-03-11 15:07:55.671840: I tensorflow/core/platform/cpu_feature_guard.cc:182] This TensorFlow binary is optimized to use available CPU instructions in performance-critical operations.\n",
      "To enable the following instructions: AVX2 AVX512F AVX512_VNNI FMA, in other operations, rebuild TensorFlow with the appropriate compiler flags.\n",
      "2024-03-11 15:07:56.583869: W tensorflow/compiler/tf2tensorrt/utils/py_utils.cc:38] TF-TRT Warning: Could not find TensorRT\n"
     ]
    }
   ],
   "source": [
    "#!pip install gensim\n",
    "import json\n",
    "import numpy as np\n",
    "from tensorflow.keras.preprocessing.text import Tokenizer\n",
    "from tensorflow.keras.utils import to_categorical\n",
    "from tensorflow.keras.preprocessing.sequence import pad_sequences\n",
    "from tensorflow.keras.models import Sequential\n",
    "from tensorflow.keras.layers import Embedding, SimpleRNN, Dense\n",
    "from tensorflow.keras.losses import CategoricalCrossentropy\n",
    "from tensorflow.keras.optimizers import Adam\n",
    "from tensorflow.keras.layers import SimpleRNN, Dense, Dropout\n",
    "from tensorflow.keras import regularizers\n",
    "from gensim.models import Word2Vec\n",
    "import tensorflow as tf\n",
    "from sklearn.metrics import f1_score\n",
    "import matplotlib.pyplot as plt\n"
   ]
  },
  {
   "cell_type": "code",
   "execution_count": 2,
   "metadata": {},
   "outputs": [
    {
     "name": "stdout",
     "output_type": "stream",
     "text": [
      "2 Physical GPU, 1 Logical GPU\n"
     ]
    },
    {
     "name": "stderr",
     "output_type": "stream",
     "text": [
      "2024-03-11 15:07:59.421976: I tensorflow/core/common_runtime/gpu/gpu_device.cc:1929] Created device /job:localhost/replica:0/task:0/device:GPU:0 with 14408 MB memory:  -> device: 1, name: NVIDIA RTX A4000, pci bus id: 0000:af:00.0, compute capability: 8.6\n"
     ]
    }
   ],
   "source": [
    "# Check available GPUs\n",
    "gpus = tf.config.experimental.list_physical_devices('GPU')\n",
    "if gpus:\n",
    "    # Restrict TensorFlow to only use the second GPU\n",
    "    try:\n",
    "        tf.config.experimental.set_visible_devices(gpus[1], 'GPU')\n",
    "        logical_gpus = tf.config.experimental.list_logical_devices('GPU')\n",
    "        print(len(gpus), \"Physical GPU,\", len(logical_gpus), \"Logical GPU\")\n",
    "    except RuntimeError as e:\n",
    "        # Visible devices must be set before GPUs have been initialized\n",
    "        print(e)"
   ]
  },
  {
   "cell_type": "code",
   "execution_count": 3,
   "metadata": {},
   "outputs": [],
   "source": [
    "import json\n",
    "\n",
    "def load_data(file):\n",
    "    with open(file, 'r', encoding='utf-8') as f:\n",
    "        data = json.load(f)\n",
    "    return data\n",
    "\n",
    "data = load_data(\"/Dataset2-AspectTermExtraction_train.json\")\n",
    "\n",
    "texts = [entry[\"text\"] for entry in data]\n",
    "words = [sentence.split() for sentence in texts]\n",
    "nested_labels = [entry[\"labels\"] for entry in data]\n"
   ]
  },
  {
   "cell_type": "code",
   "execution_count": 4,
   "metadata": {},
   "outputs": [
    {
     "name": "stdout",
     "output_type": "stream",
     "text": [
      "Maximum length of text: 78\n"
     ]
    }
   ],
   "source": [
    "def load_data(file):\n",
    "    with open(file, 'r', encoding='utf-8') as f:\n",
    "        data = json.load(f)\n",
    "    return data\n",
    "\n",
    "data = load_data(\"/Dataset2-AspectTermExtraction_train.json\")\n",
    "\n",
    "texts = [entry[\"text\"] for entry in data]\n",
    "\n",
    "# Compute the maximum length of the texts\n",
    "max_length = max(len(text.split()) for text in texts)\n",
    "\n",
    "print(\"Maximum length of text:\", max_length)\n"
   ]
  },
  {
   "cell_type": "code",
   "execution_count": 5,
   "metadata": {},
   "outputs": [],
   "source": [
    "from gensim.models import FastText\n",
    "import numpy as np\n",
    "\n",
    "# Assuming 'words' is a list of tokenized sentences\n",
    "\n",
    "# Create FastText model\n",
    "fasttext_model = FastText(sentences=words, vector_size=100, min_count=1, epochs=10)\n",
    "\n",
    "# Create word vectors dictionary with consistent lowercase keys\n",
    "word_vectors = {}\n",
    "for word in fasttext_model.wv.index_to_key:\n",
    "    try:\n",
    "        word_vectors[word.lower()] = fasttext_model.wv[word.lower()]\n",
    "    except KeyError:\n",
    "        # Handle out-of-vocabulary words\n",
    "        pass\n",
    "\n",
    "# Handle out-of-vocabulary (OOV) words in get_word_vector function\n",
    "def get_word_vector(word):\n",
    "    word_lower = word.lower()  # Ensure lowercase for consistency\n",
    "    if word_lower in word_vectors:\n",
    "        return word_vectors[word_lower]\n",
    "    else:\n",
    "        # Choose an appropriate strategy for OOV words:\n",
    "        # - Return the zero vector (default)\n",
    "        # - Use word averaging or other embedding techniques\n",
    "        # - Handle OOV cases differently depending on your specific requirements\n",
    "        return np.zeros(fasttext_model.vector_size)\n",
    "    \n",
    "# Embed sentences\n",
    "word_embeddings = [[get_word_vector(word) for word in sentence] for sentence in words]\n"
   ]
  },
  {
   "cell_type": "code",
   "execution_count": 6,
   "metadata": {},
   "outputs": [
    {
     "data": {
      "text/plain": [
       "(906, 78, 100)"
      ]
     },
     "execution_count": 6,
     "metadata": {},
     "output_type": "execute_result"
    }
   ],
   "source": [
    "for sentence in word_embeddings:\n",
    "    sentence_length = len(sentence)\n",
    "    if sentence_length < 78:\n",
    "        while len(sentence) < 78:\n",
    "            sentence.append(np.zeros(100))     \n",
    "\n",
    "       \n",
    "for i in range(len(word_embeddings)):\n",
    "    word_embeddings[i] = np.array(word_embeddings[i])\n",
    "word_embeddings = np.array(word_embeddings)\n",
    "word_embeddings.shape            "
   ]
  },
  {
   "cell_type": "code",
   "execution_count": 7,
   "metadata": {},
   "outputs": [
    {
     "name": "stdout",
     "output_type": "stream",
     "text": [
      "{'I', 'B', 'O'}\n"
     ]
    },
    {
     "data": {
      "text/plain": [
       "[2, 2, 2, 2, 2, 2, 2, 2, 2, 2, 2, 2, 2, 2, 2, 2, 1, 0, 2]"
      ]
     },
     "execution_count": 7,
     "metadata": {},
     "output_type": "execute_result"
    }
   ],
   "source": [
    "flat_labels = [label for sublist in nested_labels for label in sublist]\n",
    "\n",
    "# Find unique labels\n",
    "unique_labels = set(flat_labels)\n",
    "\n",
    "print(unique_labels)\n",
    "\n",
    "label2idx = {label: idx for idx, label in enumerate(unique_labels)}\n",
    "labels_idx = [[label2idx[label] for label in sublist] for sublist in nested_labels]\n",
    "\n",
    "# One-hot encode labels\n",
    "num_classes = len(unique_labels)\n",
    "one_hot_labels = [to_categorical(sublist, num_classes=num_classes) for sublist in labels_idx]\n",
    "def convert_to_list(lst):\n",
    "    if isinstance(lst, np.ndarray):\n",
    "        return lst.tolist()\n",
    "    elif isinstance(lst, list):\n",
    "        return [convert_to_list(item) for item in lst]\n",
    "    else:\n",
    "        return lst\n",
    "one_hot_labels = convert_to_list(one_hot_labels)\n",
    "labels_idx[0]"
   ]
  },
  {
   "cell_type": "code",
   "execution_count": 8,
   "metadata": {},
   "outputs": [
    {
     "name": "stdout",
     "output_type": "stream",
     "text": [
      "{'I': 0, 'B': 1, 'O': 2}\n"
     ]
    }
   ],
   "source": [
    "print(label2idx)"
   ]
  },
  {
   "cell_type": "code",
   "execution_count": 9,
   "metadata": {},
   "outputs": [
    {
     "data": {
      "text/plain": [
       "(906, 78, 3)"
      ]
     },
     "execution_count": 9,
     "metadata": {},
     "output_type": "execute_result"
    }
   ],
   "source": [
    "for sentence in one_hot_labels:\n",
    "    sentence_length = len(sentence)\n",
    "    if sentence_length < 78:\n",
    "        while len(sentence) < 78:\n",
    "            sentence.append([0.,0.,1.])\n",
    "\n",
    "one_hot_labels = np.array(one_hot_labels)\n",
    "one_hot_labels.shape"
   ]
  },
  {
   "cell_type": "code",
   "execution_count": 10,
   "metadata": {},
   "outputs": [],
   "source": [
    "# 1. Prepare the data (already padded)\n",
    "X_train_padded = word_embeddings  \n",
    "y_train_padded = one_hot_labels  "
   ]
  },
  {
   "cell_type": "code",
   "execution_count": 11,
   "metadata": {},
   "outputs": [],
   "source": [
    "# # Split into training and validation sets (85-15 split)\n",
    "split = int(0.85 * len(X_train_padded))\n",
    "X_train, X_val = X_train_padded[:split], X_train_padded[split:]\n",
    "y_train, y_val = y_train_padded[:split], y_train_padded[split:]"
   ]
  },
  {
   "cell_type": "code",
   "execution_count": null,
   "metadata": {},
   "outputs": [
    {
     "name": "stderr",
     "output_type": "stream",
     "text": [
      "2024-03-11 15:09:52.527675: I external/local_tsl/tsl/platform/default/subprocess.cc:304] Start cannot spawn child process: No such file or directory\n",
      "2024-03-11 15:09:54.821151: I external/local_xla/xla/stream_executor/cuda/cuda_dnn.cc:454] Loaded cuDNN version 8902\n",
      "2024-03-11 15:09:55.054973: I external/local_xla/xla/service/service.cc:168] XLA service 0x7fd4c89b24b0 initialized for platform CUDA (this does not guarantee that XLA will be used). Devices:\n",
      "2024-03-11 15:09:55.055029: I external/local_xla/xla/service/service.cc:176]   StreamExecutor device (0): NVIDIA RTX A4000, Compute Capability 8.6\n",
      "2024-03-11 15:09:55.070598: I tensorflow/compiler/mlir/tensorflow/utils/dump_mlir_util.cc:269] disabling MLIR crash reproducer, set env var `MLIR_CRASH_REPRODUCER_DIRECTORY` to enable.\n",
      "WARNING: All log messages before absl::InitializeLog() is called are written to STDERR\n",
      "I0000 00:00:1710169795.231800 1354714 device_compiler.h:186] Compiled cluster using XLA!  This line is logged at most once for the lifetime of the process.\n"
     ]
    },
    {
     "name": "stdout",
     "output_type": "stream",
     "text": [
      "25/25 [==============================] - 4s 43ms/step - loss: 0.4742 - accuracy: 0.9337 - val_loss: 0.1333 - val_accuracy: 0.9735\n",
      "25/25 [==============================] - 1s 8ms/step\n",
      "5/5 [==============================] - 0s 7ms/step\n",
      "Epoch 1: Training Macro-F1-score: 0.3288789903489235, Validation Macro-F1-score: 0.3288591672637529\n",
      "Epoch 1: Training Accuracy: 0.9336996078491211, Validation Accuracy: 0.9735105633735657\n",
      "25/25 [==============================] - 1s 22ms/step - loss: 0.1089 - accuracy: 0.9736 - val_loss: 0.1029 - val_accuracy: 0.9735\n",
      "25/25 [==============================] - 0s 8ms/step\n",
      "5/5 [==============================] - 0s 7ms/step\n",
      "Epoch 2: Training Macro-F1-score: 0.3288789903489235, Validation Macro-F1-score: 0.3288591672637529\n",
      "Epoch 2: Training Accuracy: 0.9736263751983643, Validation Accuracy: 0.9735105633735657\n",
      "25/25 [==============================] - 1s 23ms/step - loss: 0.0970 - accuracy: 0.9736 - val_loss: 0.0983 - val_accuracy: 0.9735\n",
      "25/25 [==============================] - 0s 8ms/step\n",
      "5/5 [==============================] - 0s 8ms/step\n",
      "Epoch 3: Training Macro-F1-score: 0.3288789903489235, Validation Macro-F1-score: 0.3288591672637529\n",
      "Epoch 3: Training Accuracy: 0.9736263751983643, Validation Accuracy: 0.9735105633735657\n",
      "25/25 [==============================] - 1s 22ms/step - loss: 0.0930 - accuracy: 0.9736 - val_loss: 0.0946 - val_accuracy: 0.9735\n",
      "25/25 [==============================] - 0s 8ms/step\n",
      "5/5 [==============================] - 0s 8ms/step\n",
      "Epoch 4: Training Macro-F1-score: 0.3288789903489235, Validation Macro-F1-score: 0.3288591672637529\n",
      "Epoch 4: Training Accuracy: 0.9736263751983643, Validation Accuracy: 0.9735105633735657\n",
      "25/25 [==============================] - 1s 22ms/step - loss: 0.0902 - accuracy: 0.9736 - val_loss: 0.0917 - val_accuracy: 0.9735\n",
      "25/25 [==============================] - 0s 8ms/step\n",
      "5/5 [==============================] - 0s 7ms/step\n",
      "Epoch 5: Training Macro-F1-score: 0.3288789903489235, Validation Macro-F1-score: 0.3288591672637529\n",
      "Epoch 5: Training Accuracy: 0.9736263751983643, Validation Accuracy: 0.9735105633735657\n",
      "25/25 [==============================] - 1s 22ms/step - loss: 0.0883 - accuracy: 0.9736 - val_loss: 0.0899 - val_accuracy: 0.9735\n",
      "25/25 [==============================] - 0s 9ms/step\n",
      "5/5 [==============================] - 0s 7ms/step\n",
      "Epoch 6: Training Macro-F1-score: 0.3288789903489235, Validation Macro-F1-score: 0.3288591672637529\n",
      "Epoch 6: Training Accuracy: 0.9736263751983643, Validation Accuracy: 0.9735105633735657\n",
      "25/25 [==============================] - 1s 23ms/step - loss: 0.0862 - accuracy: 0.9736 - val_loss: 0.0882 - val_accuracy: 0.9735\n",
      "25/25 [==============================] - 0s 9ms/step\n",
      "5/5 [==============================] - 0s 10ms/step\n",
      "Epoch 7: Training Macro-F1-score: 0.3288789903489235, Validation Macro-F1-score: 0.3288591672637529\n",
      "Epoch 7: Training Accuracy: 0.9736263751983643, Validation Accuracy: 0.9735105633735657\n",
      "25/25 [==============================] - 1s 22ms/step - loss: 0.0844 - accuracy: 0.9736 - val_loss: 0.0867 - val_accuracy: 0.9735\n",
      "25/25 [==============================] - 0s 9ms/step\n",
      "5/5 [==============================] - 0s 9ms/step\n",
      "Epoch 8: Training Macro-F1-score: 0.3288789903489235, Validation Macro-F1-score: 0.3288591672637529\n",
      "Epoch 8: Training Accuracy: 0.9736097455024719, Validation Accuracy: 0.9735105633735657\n",
      "25/25 [==============================] - 1s 22ms/step - loss: 0.0830 - accuracy: 0.9736 - val_loss: 0.0865 - val_accuracy: 0.9731\n",
      "25/25 [==============================] - 0s 8ms/step\n",
      "5/5 [==============================] - 0s 7ms/step\n",
      "Epoch 9: Training Macro-F1-score: 0.3601936219218487, Validation Macro-F1-score: 0.34459022971619785\n",
      "Epoch 9: Training Accuracy: 0.9736097455024719, Validation Accuracy: 0.9731335043907166\n",
      "25/25 [==============================] - 1s 22ms/step - loss: 0.0843 - accuracy: 0.9740 - val_loss: 0.0873 - val_accuracy: 0.9735\n",
      "25/25 [==============================] - 0s 9ms/step\n",
      "5/5 [==============================] - 0s 7ms/step\n",
      "Epoch 10: Training Macro-F1-score: 0.3288789903489235, Validation Macro-F1-score: 0.3288591672637529\n",
      "Epoch 10: Training Accuracy: 0.9740093350410461, Validation Accuracy: 0.9735105633735657\n",
      "25/25 [==============================] - 1s 23ms/step - loss: 0.0825 - accuracy: 0.9737 - val_loss: 0.0863 - val_accuracy: 0.9735\n",
      "25/25 [==============================] - 0s 8ms/step\n",
      "5/5 [==============================] - 0s 8ms/step\n",
      "Epoch 11: Training Macro-F1-score: 0.3288789903489235, Validation Macro-F1-score: 0.3288591672637529\n",
      "Epoch 11: Training Accuracy: 0.9737262725830078, Validation Accuracy: 0.9735105633735657\n",
      "25/25 [==============================] - 1s 23ms/step - loss: 0.0822 - accuracy: 0.9738 - val_loss: 0.0863 - val_accuracy: 0.9731\n",
      "25/25 [==============================] - 0s 8ms/step\n",
      "5/5 [==============================] - 0s 7ms/step\n",
      "Epoch 12: Training Macro-F1-score: 0.38131527704018414, Validation Macro-F1-score: 0.3695454452711879\n",
      "Epoch 12: Training Accuracy: 0.9738427996635437, Validation Accuracy: 0.9731335043907166\n",
      "25/25 [==============================] - 1s 22ms/step - loss: 0.0817 - accuracy: 0.9738 - val_loss: 0.0870 - val_accuracy: 0.9735\n",
      "25/25 [==============================] - 0s 8ms/step\n",
      "5/5 [==============================] - 0s 8ms/step\n",
      "Epoch 13: Training Macro-F1-score: 0.3288789903489235, Validation Macro-F1-score: 0.3288591672637529\n",
      "Epoch 13: Training Accuracy: 0.9737762212753296, Validation Accuracy: 0.9735105633735657\n",
      "25/25 [==============================] - 1s 22ms/step - loss: 0.0821 - accuracy: 0.9738 - val_loss: 0.0859 - val_accuracy: 0.9735\n",
      "25/25 [==============================] - 0s 8ms/step\n",
      "5/5 [==============================] - 0s 7ms/step\n",
      "Epoch 14: Training Macro-F1-score: 0.35510346726893793, Validation Macro-F1-score: 0.35676229379092633\n",
      "Epoch 14: Training Accuracy: 0.9737928509712219, Validation Accuracy: 0.9735105633735657\n",
      "25/25 [==============================] - 1s 22ms/step - loss: 0.0832 - accuracy: 0.9734 - val_loss: 0.0882 - val_accuracy: 0.9730\n",
      "25/25 [==============================] - 0s 8ms/step\n",
      "5/5 [==============================] - 0s 7ms/step\n",
      "Epoch 15: Training Macro-F1-score: 0.38489838135799, Validation Macro-F1-score: 0.3767936555316185\n",
      "Epoch 15: Training Accuracy: 0.9734265804290771, Validation Accuracy: 0.9730392098426819\n",
      "25/25 [==============================] - 1s 23ms/step - loss: 0.0825 - accuracy: 0.9735 - val_loss: 0.0894 - val_accuracy: 0.9734\n",
      "25/25 [==============================] - 0s 8ms/step\n",
      "5/5 [==============================] - 0s 7ms/step\n",
      "Epoch 16: Training Macro-F1-score: 0.3911587829699017, Validation Macro-F1-score: 0.3801173465256153\n",
      "Epoch 16: Training Accuracy: 0.973543107509613, Validation Accuracy: 0.973416268825531\n",
      "25/25 [==============================] - 1s 23ms/step - loss: 0.0836 - accuracy: 0.9736 - val_loss: 0.0853 - val_accuracy: 0.9733\n",
      "25/25 [==============================] - 0s 8ms/step\n",
      "5/5 [==============================] - 0s 7ms/step\n",
      "Epoch 17: Training Macro-F1-score: 0.36217754377944705, Validation Macro-F1-score: 0.3564727833712125\n",
      "Epoch 17: Training Accuracy: 0.9736097455024719, Validation Accuracy: 0.9733220338821411\n",
      "25/25 [==============================] - 1s 22ms/step - loss: 0.0818 - accuracy: 0.9737 - val_loss: 0.0847 - val_accuracy: 0.9735\n",
      "25/25 [==============================] - 0s 8ms/step\n",
      "5/5 [==============================] - 0s 7ms/step\n",
      "Epoch 18: Training Macro-F1-score: 0.3288789903489235, Validation Macro-F1-score: 0.3288591672637529\n",
      "Epoch 18: Training Accuracy: 0.9736929535865784, Validation Accuracy: 0.9735105633735657\n",
      "25/25 [==============================] - 1s 23ms/step - loss: 0.0803 - accuracy: 0.9742 - val_loss: 0.0852 - val_accuracy: 0.9730\n",
      "25/25 [==============================] - 0s 8ms/step\n",
      "5/5 [==============================] - 0s 8ms/step\n",
      "Epoch 19: Training Macro-F1-score: 0.38327033595133786, Validation Macro-F1-score: 0.3693520764256663\n",
      "Epoch 19: Training Accuracy: 0.9741591811180115, Validation Accuracy: 0.9730392098426819\n",
      "25/25 [==============================] - 1s 23ms/step - loss: 0.0804 - accuracy: 0.9740 - val_loss: 0.0846 - val_accuracy: 0.9734\n",
      "25/25 [==============================] - 0s 9ms/step\n",
      "5/5 [==============================] - 0s 5ms/step\n",
      "Epoch 20: Training Macro-F1-score: 0.361577918389192, Validation Macro-F1-score: 0.3566169439663415\n",
      "Epoch 20: Training Accuracy: 0.9739760160446167, Validation Accuracy: 0.973416268825531\n"
     ]
    },
    {
     "data": {
      "image/png": "[encoded data removed]",
      "text/plain": [
       "<Figure size 640x480 with 1 Axes>"
      ]
     },
     "metadata": {},
     "output_type": "display_data"
    },
    {
     "data": {
      "image/png": "[encoded data removed]",
      "text/plain": [
       "<Figure size 640x480 with 1 Axes>"
      ]
     },
     "metadata": {},
     "output_type": "display_data"
    },
    {
     "data": {
      "image/png": "[encoded data removed]",
      "text/plain": [
       "<Figure size 640x480 with 1 Axes>"
      ]
     },
     "metadata": {},
     "output_type": "display_data"
    }
   ],
   "source": [
    "import tensorflow as tf\n",
    "from tensorflow.keras.callbacks import EarlyStopping, ModelCheckpoint\n",
    "import numpy as np\n",
    "from sklearn.metrics import f1_score\n",
    "import matplotlib.pyplot as plt\n",
    "\n",
    "# Define the RNN model architecture\n",
    "model = tf.keras.Sequential([\n",
    "    tf.keras.layers.GRU(units=128, return_sequences=True, input_shape=(78, 100)),\n",
    "    tf.keras.layers.Dense(120, activation='relu'),\n",
    "    tf.keras.layers.Dense(100, activation='tanh'),\n",
    "    tf.keras.layers.Dense(3, activation='softmax')\n",
    "])\n",
    "\n",
    "# Compile the model\n",
    "model.compile(loss='categorical_crossentropy', optimizer='adam', metrics=['accuracy'])\n",
    "\n",
    "# Define early stopping callback\n",
    "early_stopping = EarlyStopping(monitor='val_loss', patience=3, verbose=1, restore_best_weights=True)\n",
    "\n",
    "# Train the model and Initialize lists to store F1-score values\n",
    "train_f1_scores = []\n",
    "val_f1_scores = []\n",
    "train_losses = []\n",
    "val_losses = []\n",
    "train_acc = []\n",
    "val_acc = []\n",
    "\n",
    "train_f1_scores_per_label = []\n",
    "val_f1_scores_per_label = []\n",
    "\n",
    "for epoch in range(20):\n",
    "    # Perform one epoch of training\n",
    "    history = model.fit(X_train, y_train, epochs=1, batch_size=32, verbose=True, validation_data=(X_val, y_val), callbacks=[early_stopping])\n",
    "\n",
    "    # Get predictions for training and validation data\n",
    "    y_train_pred = model.predict(X_train)\n",
    "    y_val_pred = model.predict(X_val)\n",
    "\n",
    "    # Convert one-hot encoded labels back to integer labels\n",
    "    y_train_true = np.argmax(y_train, axis=-1)\n",
    "    y_val_true = np.argmax(y_val, axis=-1)\n",
    "\n",
    "    # Calculate F1-score for training and validation data\n",
    "    train_f1 = f1_score(y_train_true.flatten(), y_train_pred.argmax(axis=2).flatten(), average='macro')\n",
    "    val_f1 = f1_score(y_val_true.flatten(), y_val_pred.argmax(axis=2).flatten(), average='macro')\n",
    "\n",
    "    train_f1_per_label = f1_score(y_train_true.flatten(), y_train_pred.argmax(axis=2).flatten(), average=None)\n",
    "    val_f1_per_label = f1_score(y_val_true.flatten(), y_val_pred.argmax(axis=2).flatten(), average=None)\n",
    "    \n",
    "    # Append F1-score values to lists\n",
    "    train_f1_scores_per_label.append(train_f1_per_label)\n",
    "    val_f1_scores_per_label.append(val_f1_per_label)\n",
    "    \n",
    "    # Append F1-score values to lists\n",
    "    train_f1_scores.append(train_f1)\n",
    "    val_f1_scores.append(val_f1)\n",
    "\n",
    "    # Append losses to lists\n",
    "    train_losses.append(history.history['loss'])\n",
    "    val_losses.append(history.history['val_loss'])\n",
    "\n",
    "    # Append accuracy to lists\n",
    "    train_acc.append(history.history['accuracy'])\n",
    "    val_acc.append(history.history['val_accuracy'])\n",
    "\n",
    "    # Print F1-score and accuracy for each epoch\n",
    "    print(f'Epoch {epoch + 1}: Training Macro-F1-score: {train_f1}, Validation Macro-F1-score: {val_f1}')\n",
    "    print(f'Epoch {epoch + 1}: Training Accuracy: {history.history[\"accuracy\"][-1]}, Validation Accuracy: {history.history[\"val_accuracy\"][-1]}')\n",
    "\n",
    "# Plot F1-score\n",
    "plt.plot(train_f1_scores, label='Training Macro-F1-score')\n",
    "plt.plot(val_f1_scores, label='Validation Macro-F1-score')\n",
    "plt.xlabel('Epochs')\n",
    "plt.ylabel('Macro-F1-score')\n",
    "plt.legend()\n",
    "plt.savefig('/task_2_Fasttext_GRU_f1_score.png')  # Save F1-score figure\n",
    "plt.show()\n",
    "\n",
    "# Plot Loss\n",
    "plt.plot(train_losses, label='Training Loss')\n",
    "plt.plot(val_losses, label='Validation Loss')\n",
    "plt.xlabel('Epochs')\n",
    "plt.ylabel('Loss')\n",
    "plt.legend()\n",
    "plt.savefig('/task_2_Fasttext_GRU_loss.png')  # Save loss figure\n",
    "plt.show()\n",
    "\n",
    "# Plot Accuracy\n",
    "plt.plot(train_acc, label='Training Accuracy')\n",
    "plt.plot(val_acc, label='Validation Accuracy')\n",
    "plt.xlabel('Epochs')\n",
    "plt.ylabel('Accuracy')\n",
    "plt.legend()\n",
    "plt.savefig('/task_2_Fasttext_GRU_accuracy.png')  # Save accuracy figure\n",
    "plt.show()\n"
   ]
  },
  {
   "cell_type": "code",
   "execution_count": 13,
   "metadata": {},
   "outputs": [],
   "source": [
    "model.save('/task_2_Fasttext_GRU_Dataset_2.keras')"
   ]
  },
  {
   "cell_type": "markdown",
   "metadata": {},
   "source": [
    "## Validation data"
   ]
  },
  {
   "cell_type": "code",
   "execution_count": 14,
   "metadata": {},
   "outputs": [],
   "source": [
    "\n",
    "import json\n",
    "\n",
    "# test data\n",
    "def load_data(file):\n",
    "    with open(file, 'r', encoding='utf-8') as f:\n",
    "        data = json.load(f)\n",
    "    return data\n",
    "\n",
    "data_val = load_data(\"/Dataset2-AspectTermExtraction_val.json\")\n",
    "\n",
    "texts_val = [entry[\"text\"] for entry in data_val]\n",
    "words_val = [sentence.split() for sentence in texts_val]\n",
    "nested_labels_val = [entry[\"labels\"] for entry in data_val]\n"
   ]
  },
  {
   "cell_type": "code",
   "execution_count": 15,
   "metadata": {},
   "outputs": [],
   "source": [
    "from gensim.models import FastText\n",
    "import numpy as np\n",
    "\n",
    "fasttext_model_val = FastText(texts_val, vector_size=100, min_count=1, epochs=10)\n",
    "\n",
    "# Create word vectors dictionary with consistent lowercase keys\n",
    "word_vectors_val = {}\n",
    "for word in fasttext_model_val.wv.index_to_key:\n",
    "    try:\n",
    "        word_vectors_val[word.lower()] = fasttext_model_val.wv[word.lower()]\n",
    "    except KeyError:\n",
    "        # Handle out-of-vocabulary words\n",
    "        pass\n",
    "\n",
    "def get_word_vector(word):\n",
    "    word_lower = word.lower()  # Ensure lowercase for consistency\n",
    "    if word_lower in word_vectors_val:\n",
    "        return word_vectors_val[word_lower]\n",
    "    else:\n",
    "        return np.zeros(fasttext_model_val.vector_size)\n",
    "    \n",
    "word_embeddings_val = [[get_word_vector(word)  for word in sentence] for sentence in words_val]\n",
    "max_wordem = max([len(sentence) for sentence in word_embeddings_val])"
   ]
  },
  {
   "cell_type": "code",
   "execution_count": 16,
   "metadata": {},
   "outputs": [
    {
     "name": "stdout",
     "output_type": "stream",
     "text": [
      "(219, 83, 100)\n"
     ]
    }
   ],
   "source": [
    "import numpy as np\n",
    "\n",
    "max_wordem = 83  # Assuming max_wordem is defined somewhere\n",
    "\n",
    "# Initialize a list to hold the modified sentences\n",
    "modified_sentences = []\n",
    "\n",
    "# Loop through each sentence in word_embeddings_val\n",
    "for sentence in word_embeddings_val:\n",
    "    sentence_length = len(sentence)\n",
    "    if sentence_length < max_wordem:\n",
    "        # Create a new array of zeros with the desired length\n",
    "        padding = np.zeros((max_wordem - sentence_length, 100))\n",
    "        # Concatenate the padding to the original sentence\n",
    "        modified_sentence = np.concatenate((sentence, padding))\n",
    "    else:\n",
    "        # If the sentence is already longer than max_wordem, keep it as is\n",
    "        modified_sentence = sentence\n",
    "    # Append the modified sentence to the list\n",
    "    modified_sentences.append(modified_sentence)\n",
    "\n",
    "# Convert the list of modified sentences to a numpy array\n",
    "word_embeddings_val = np.array(modified_sentences)\n",
    "\n",
    "# Now word_embeddings_val has the desired shape\n",
    "print(word_embeddings_val.shape)"
   ]
  },
  {
   "cell_type": "code",
   "execution_count": 17,
   "metadata": {},
   "outputs": [
    {
     "data": {
      "text/plain": [
       "(219, 83, 3)"
      ]
     },
     "execution_count": 17,
     "metadata": {},
     "output_type": "execute_result"
    }
   ],
   "source": [
    "labels_idx_val = [[label2idx[label] for label in sublist] for sublist in nested_labels_val]\n",
    "\n",
    "# One-hot encode labels\n",
    "# num_classes_val = len(unique_labels_val)\n",
    "one_hot_labels_val = [to_categorical(sublist, num_classes=3) for sublist in labels_idx_val]\n",
    "\n",
    "# %%\n",
    "def convert_to_list(lst):\n",
    "    if isinstance(lst, np.ndarray):\n",
    "        return lst.tolist()\n",
    "    elif isinstance(lst, list):\n",
    "        return [convert_to_list(item) for item in lst]\n",
    "    else:\n",
    "        return lst\n",
    "labels_padded_val = convert_to_list(one_hot_labels_val)\n",
    "\n",
    "# %%\n",
    "for sentence in labels_padded_val:\n",
    "    sentence_length = len(sentence)\n",
    "    if sentence_length < 83:\n",
    "        while len(sentence) < 83:\n",
    "            sentence.append([0.,0.,1.])\n",
    "\n",
    "labels_padded_val = np.array(labels_padded_val)\n",
    "labels_padded_val.shape"
   ]
  },
  {
   "cell_type": "code",
   "execution_count": 18,
   "metadata": {},
   "outputs": [
    {
     "name": "stdout",
     "output_type": "stream",
     "text": [
      "7/7 [==============================] - 1s 12ms/step - loss: 0.1986 - accuracy: 0.9765\n",
      "Test Loss: 0.1986088752746582\n",
      "Test Accuracy: 0.9764537811279297\n"
     ]
    }
   ],
   "source": [
    "# %%\n",
    "X_val_padded = word_embeddings_val\n",
    "y_val_padded = labels_padded_val\n",
    "\n",
    "# Evaluate the model on the test data\n",
    "test_loss, test_accuracy = model.evaluate(X_val_padded, y_val_padded)\n",
    "print(\"Test Loss:\", test_loss)\n",
    "print(\"Test Accuracy:\", test_accuracy)"
   ]
  },
  {
   "cell_type": "code",
   "execution_count": null,
   "metadata": {},
   "outputs": [],
   "source": [
    "from sklearn.metrics import classification_report\n",
    "y_pred = model.predict(X_val_padded)\n",
    "# Assuming y_pred contains continuous values, convert them to class labels\n",
    "y_pred_classes = np.argmax(y_pred, axis=2).flatten()\n",
    "y_val_classes = np.argmax(y_val_padded, axis=2).flatten()\n",
    "target_names = [str(label) for label in unique_labels]\n",
    "# target_names = [str(label) for label in range(27)]  # Assuming you have 27 unique labels\n",
    "# Generate the classification report using true target values and predicted target values\n",
    "report = classification_report(y_val_classes, y_pred_classes, target_names=target_names)\n",
    "print(report)"
   ]
  },
  {
   "cell_type": "markdown",
   "metadata": {},
   "source": [
    "## Test Data"
   ]
  },
  {
   "cell_type": "code",
   "execution_count": 20,
   "metadata": {},
   "outputs": [],
   "source": [
    "\n",
    "import json\n",
    "\n",
    "# test data\n",
    "def load_data(file):\n",
    "    with open(file, 'r', encoding='utf-8') as f:\n",
    "        data = json.load(f)\n",
    "    return data\n",
    "\n",
    "data_test = load_data(\"/Dataset2-AspectTermExtraction_test.json\")\n",
    "\n",
    "texts_test = [entry[\"text\"] for entry in data_test]\n",
    "words_test = [sentence.split() for sentence in texts_test]\n",
    "nested_labels_test = [entry[\"labels\"] for entry in data_test]"
   ]
  },
  {
   "cell_type": "code",
   "execution_count": 21,
   "metadata": {},
   "outputs": [],
   "source": [
    "from gensim.models import FastText\n",
    "import numpy as np\n",
    "\n",
    "fasttext_model_test = FastText(texts_test, vector_size=100, min_count=1, epochs=10)\n",
    "\n",
    "# Create word vectors dictionary with consistent lowercase keys\n",
    "word_vectors_test = {}\n",
    "for word in fasttext_model_test.wv.index_to_key:\n",
    "    try:\n",
    "        word_vectors_test[word.lower()] = fasttext_model_test.wv[word.lower()]\n",
    "    except KeyError:\n",
    "        # Handle out-of-vocabulary words\n",
    "        pass\n",
    "\n",
    "def get_word_vector(word):\n",
    "    word_lower = word.lower()  # Ensure lowercase for consistency\n",
    "    if word_lower in word_vectors_test:\n",
    "        return word_vectors_test[word_lower]\n",
    "    else:\n",
    "        return np.zeros(fasttext_model_test.vector_size)\n",
    "    \n",
    "word_embeddings_test = [[get_word_vector(word)  for word in sentence] for sentence in words_test]\n",
    "max_wordem = max([len(sentence) for sentence in word_embeddings_test])\n"
   ]
  },
  {
   "cell_type": "code",
   "execution_count": 22,
   "metadata": {},
   "outputs": [
    {
     "name": "stdout",
     "output_type": "stream",
     "text": [
      "(328, 71, 100)\n"
     ]
    }
   ],
   "source": [
    "import numpy as np\n",
    "\n",
    "max_wordem = 71  # Assuming max_wordem is defined somewhere\n",
    "\n",
    "# Initialize a list to hold the modified sentences\n",
    "modified_sentences = []\n",
    "\n",
    "# Loop through each sentence in word_embeddings_test\n",
    "for sentence in word_embeddings_test:\n",
    "    sentence_length = len(sentence)\n",
    "    if sentence_length < max_wordem:\n",
    "        # Create a new array of zeros with the desired length\n",
    "        padding = np.zeros((max_wordem - sentence_length, 100))\n",
    "        # Concatenate the padding to the original sentence\n",
    "        modified_sentence = np.concatenate((sentence, padding))\n",
    "    else:\n",
    "        # If the sentence is already longer than max_wordem, keep it as is\n",
    "        modified_sentence = sentence\n",
    "    # Append the modified sentence to the list\n",
    "    modified_sentences.append(modified_sentence)\n",
    "\n",
    "# Convert the list of modified sentences to a numpy array\n",
    "word_embeddings_test = np.array(modified_sentences)\n",
    "\n",
    "# Now word_embeddings_test has the desired shape\n",
    "print(word_embeddings_test.shape)\n"
   ]
  },
  {
   "cell_type": "code",
   "execution_count": 23,
   "metadata": {},
   "outputs": [],
   "source": [
    "\n",
    "labels_idx_test = [[label2idx[label] for label in sublist] for sublist in nested_labels_test]\n",
    "\n",
    "# One-hot encode labels\n",
    "# num_classes_test = len(unique_labels_test)\n",
    "one_hot_labels_test = [to_categorical(sublist, num_classes=3) for sublist in labels_idx_test]"
   ]
  },
  {
   "cell_type": "code",
   "execution_count": 24,
   "metadata": {},
   "outputs": [],
   "source": [
    "def convert_to_list(lst):\n",
    "    if isinstance(lst, np.ndarray):\n",
    "        return lst.tolist()\n",
    "    elif isinstance(lst, list):\n",
    "        return [convert_to_list(item) for item in lst]\n",
    "    else:\n",
    "        return lst\n",
    "labels_padded_test = convert_to_list(one_hot_labels_test)"
   ]
  },
  {
   "cell_type": "code",
   "execution_count": 25,
   "metadata": {},
   "outputs": [
    {
     "data": {
      "text/plain": [
       "(328, 71, 3)"
      ]
     },
     "execution_count": 25,
     "metadata": {},
     "output_type": "execute_result"
    }
   ],
   "source": [
    "for sentence in labels_padded_test:\n",
    "    sentence_length = len(sentence)\n",
    "    if sentence_length < 71:\n",
    "        while len(sentence) < 71:\n",
    "            sentence.append([0.,0.,1.])\n",
    "\n",
    "labels_padded_test = np.array(labels_padded_test)\n",
    "labels_padded_test.shape\n",
    "\n"
   ]
  },
  {
   "cell_type": "code",
   "execution_count": 26,
   "metadata": {},
   "outputs": [
    {
     "name": "stdout",
     "output_type": "stream",
     "text": [
      "11/11 [==============================] - 0s 10ms/step - loss: 0.2480 - accuracy: 0.9697\n",
      "Test Loss: 0.24801035225391388\n",
      "Test Accuracy: 0.9696839451789856\n"
     ]
    }
   ],
   "source": [
    "X_test_padded = word_embeddings_test\n",
    "y_test_padded = labels_padded_test\n",
    "\n",
    "# Evaluate the model on the test data\n",
    "test_loss, test_accuracy = model.evaluate(X_test_padded, y_test_padded)\n",
    "print(\"Test Loss:\", test_loss)\n",
    "print(\"Test Accuracy:\", test_accuracy)"
   ]
  },
  {
   "cell_type": "code",
   "execution_count": null,
   "metadata": {},
   "outputs": [],
   "source": [
    "from sklearn.metrics import classification_report\n",
    "y_pred = model.predict(X_test_padded)\n",
    "# Assuming y_pred contains continuous values, convert them to class labels\n",
    "y_pred_classes = np.argmax(y_pred, axis=2).flatten()\n",
    "y_test_classes = np.argmax(y_test_padded, axis=2).flatten()\n",
    "target_names = [str(label) for label in unique_labels]\n",
    "# target_names = [str(label) for label in range(27)]  # Assuming you have 27 unique labels\n",
    "# Generate the classification report using true target values and predicted target values\n",
    "report = classification_report(y_test_classes, y_pred_classes, target_names=target_names)\n",
    "print(report)\n"
   ]
  }
 ],
 "metadata": {
  "kernelspec": {
   "display_name": "Python 3",
   "language": "python",
   "name": "python3"
  },
  "language_info": {
   "codemirror_mode": {
    "name": "ipython",
    "version": 3
   },
   "file_extension": ".py",
   "mimetype": "text/x-python",
   "name": "python",
   "nbconvert_exporter": "python",
   "pygments_lexer": "ipython3",
   "version": "3.11.5"
  }
 },
 "nbformat": 4,
 "nbformat_minor": 2
}
